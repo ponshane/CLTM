{
 "cells": [
  {
   "cell_type": "code",
   "execution_count": 1,
   "metadata": {},
   "outputs": [],
   "source": [
    "import sys\n",
    "# set python syspath to point out location of our self-writing module\n",
    "sys.path.append(\"/home/ponshane/work_dir/CLTM/src/codebase/\")\n",
    "from topic_evaluator import *\n",
    "from os.path import basename\n",
    "from theta_evaluator_on_MLDoc import *\n",
    "\n",
    "import matplotlib.pyplot as plt\n",
    "import pickle\n",
    "\n",
    "from ptm import JointCorpus"
   ]
  },
  {
   "cell_type": "code",
   "execution_count": 2,
   "metadata": {},
   "outputs": [],
   "source": [
    "###\n",
    "# en zh\n",
    "# load term-document matrix of large wiki corpus\n",
    "###\n",
    "file_path = \"/home/ponshane/work_dir/WIKI_NPMI/wiki_en_zh_NounVerb_tdm.pickle\"\n",
    "\n",
    "with open(file_path, \"rb\") as f:\n",
    "    dictionary, tdm = pickle.load(f)\n",
    "\n",
    "tdm = tdm.tocsr()"
   ]
  },
  {
   "cell_type": "code",
   "execution_count": 2,
   "metadata": {},
   "outputs": [],
   "source": [
    "###\n",
    "# en jp\n",
    "# load term-document matrix of large wiki corpus\n",
    "###\n",
    "file_path = \"/home/ponshane/work_dir/WIKI_NPMI/wiki_en_jp_NounVerb_tdm.pickle\"\n",
    "\n",
    "with open(file_path, \"rb\") as f:\n",
    "    en_jp_dictionary, en_jp_tdm = pickle.load(f)\n",
    "\n",
    "en_jp_tdm = en_jp_tdm.tocsr()"
   ]
  },
  {
   "cell_type": "code",
   "execution_count": 3,
   "metadata": {},
   "outputs": [],
   "source": [
    "def dict_structure_printer(dictionary):\n",
    "    print(\"file\" + \",\" + \"dev_num\" + \",\" + \"test_num\")\n",
    "    for item in dictionary:\n",
    "        print(item[\"file\"] + \",\" + str(item[\"dev_acc\"]) + \",\" + str(item[\"test_acc\"]))"
   ]
  },
  {
   "cell_type": "markdown",
   "metadata": {},
   "source": [
    "# CLTM"
   ]
  },
  {
   "cell_type": "code",
   "execution_count": 21,
   "metadata": {},
   "outputs": [
    {
     "name": "stdout",
     "output_type": "stream",
     "text": [
      "CLTM-fix90dim-10topics.topWords, 0.30000000000000004\n",
      "CLTM-fix90dim-20topics.topWords, 0.25\n",
      "CLTM-fix90dim-30topics.topWords, 0.23333333333333328\n",
      "CLTM-fix90dim-40topics.topWords, 0.35\n",
      "CLTM-fix90dim-50topics.topWords, 0.30000000000000004\n"
     ]
    }
   ],
   "source": [
    "# proportion of cross-lingual topics\n",
    "# CLTM_models = [\"/home/ponshane/work_dir/CLTM-Experiments/Results/MLDoc/varying-S-of-CLTM/CLTM-10dim.topWords\",\n",
    "#              \"/home/ponshane/work_dir/CLTM-Experiments/Results/MLDoc/varying-S-of-CLTM/CLTM-20dim.topWords\",\n",
    "#              \"/home/ponshane/work_dir/CLTM-Experiments/Results/MLDoc/varying-S-of-CLTM/CLTM-40dim.topWords\",\n",
    "#              \"/home/ponshane/work_dir/CLTM-Experiments/Results/MLDoc/varying-S-of-CLTM/CLTM-60dim.topWords\",\n",
    "#              \"/home/ponshane/work_dir/CLTM-Experiments/Results/MLDoc/varying-S-of-CLTM/CLTM-80dim.topWords\",\n",
    "#              \"/home/ponshane/work_dir/CLTM-Experiments/Results/MLDoc/varying-S-of-CLTM/CLTM-90dim.topWords\",\n",
    "#              \"/home/ponshane/work_dir/CLTM-Experiments/Results/MLDoc/varying-S-of-CLTM/CLTM-100dim.topWords\"]\n",
    "\n",
    "# CLTM-10dim.topWords, 0.55\n",
    "# CLTM-20dim.topWords, 0.44999999999999996\n",
    "# CLTM-40dim.topWords, 0.30000000000000004\n",
    "# CLTM-60dim.topWords, 0.25\n",
    "# CLTM-80dim.topWords, 0.25\n",
    "# CLTM-90dim.topWords, 0.19999999999999996\n",
    "# CLTM-100dim.topWords, 0.050000000000000044\n",
    "\n",
    "# en-zh\n",
    "CLTM_models = [\"/home/ponshane/work_dir/CLTM-Experiments/Results/EN-ZH-MLDoc/model-comparison/CLTM-fix90dim-10topics.topWords\",\n",
    "             \"/home/ponshane/work_dir/CLTM-Experiments/Results/EN-ZH-MLDoc/model-comparison/CLTM-fix90dim-20topics.topWords\",\n",
    "             \"/home/ponshane/work_dir/CLTM-Experiments/Results/EN-ZH-MLDoc/model-comparison/CLTM-fix90dim-30topics.topWords\",\n",
    "             \"/home/ponshane/work_dir/CLTM-Experiments/Results/EN-ZH-MLDoc/model-comparison/CLTM-fix90dim-40topics.topWords\",\n",
    "             \"/home/ponshane/work_dir/CLTM-Experiments/Results/EN-ZH-MLDoc/model-comparison/CLTM-fix90dim-50topics.topWords\"]\n",
    "\n",
    "for idx, select_CLTM in enumerate(CLTM_models):\n",
    "    loaded_cluster = load_LFTM_cluster(file_path = select_CLTM, cluster_num = (idx+1)*10)\n",
    "    prop = calculate_proportion_of_cross_lingual_topics_of_CLTM(loaded_cluster, topN=200, criteria_prop=0.7)\n",
    "    print(\"{}, {}\".format(basename(select_CLTM), prop))"
   ]
  },
  {
   "cell_type": "code",
   "execution_count": 4,
   "metadata": {},
   "outputs": [
    {
     "name": "stdout",
     "output_type": "stream",
     "text": [
      "CLTM-en-jp-fix90dim-10topics.topWords, 0.30000000000000004\n",
      "CLTM-en-jp-fix90dim-20topics.topWords, 0.15000000000000002\n",
      "CLTM-en-jp-fix90dim-30topics.topWords, 0.2666666666666667\n",
      "CLTM-en-jp-fix90dim-40topics.topWords, 0.25\n",
      "CLTM-en-jp-fix90dim-50topics.topWords, 0.18000000000000005\n"
     ]
    }
   ],
   "source": [
    "# proportion of cross-lingual topics\n",
    "# en-jp\n",
    "CLTM_models = [\"/home/ponshane/work_dir/CLTM-Experiments/Results/EN-JP-MLDoc/model-comparison/CLTM-en-jp-fix90dim-10topics.topWords\",\n",
    "             \"/home/ponshane/work_dir/CLTM-Experiments/Results/EN-JP-MLDoc/model-comparison/CLTM-en-jp-fix90dim-20topics.topWords\",\n",
    "             \"/home/ponshane/work_dir/CLTM-Experiments/Results/EN-JP-MLDoc/model-comparison/CLTM-en-jp-fix90dim-30topics.topWords\",\n",
    "             \"/home/ponshane/work_dir/CLTM-Experiments/Results/EN-JP-MLDoc/model-comparison/CLTM-en-jp-fix90dim-40topics.topWords\",\n",
    "             \"/home/ponshane/work_dir/CLTM-Experiments/Results/EN-JP-MLDoc/model-comparison/CLTM-en-jp-fix90dim-50topics.topWords\"]\n",
    "\n",
    "for idx, select_CLTM in enumerate(CLTM_models):\n",
    "    loaded_cluster = load_LFTM_cluster(file_path = select_CLTM, cluster_num = (idx+1)*10)\n",
    "    prop = calculate_proportion_of_cross_lingual_topics_of_CLTM(loaded_cluster, topN=200, criteria_prop=0.7)\n",
    "    print(\"{}, {}\".format(basename(select_CLTM), prop))"
   ]
  },
  {
   "cell_type": "code",
   "execution_count": 4,
   "metadata": {},
   "outputs": [
    {
     "name": "stdout",
     "output_type": "stream",
     "text": [
      "CLTM-fix90dim-10topics.topWords, 10, 0.13(0.07), 0.67, 0.9200000000000002\n",
      "CLTM-fix90dim-10topics.topWords, 20, 0.115(0.124), 0.695, 0.9299999999999999\n",
      "CLTM-fix90dim-10topics.topWords, 30, 0.111(0.137), 0.7033333333333334, 0.93\n",
      "CLTM-fix90dim-10topics.topWords, 40, 0.107(0.141), 0.6675, 0.925\n",
      "CLTM-fix90dim-10topics.topWords, 50, 0.102(0.149), 0.648, 0.914\n",
      "CLTM-fix90dim-20topics.topWords, 10, 0.121(0.136), 0.7400000000000002, 0.8900000000000002\n",
      "CLTM-fix90dim-20topics.topWords, 20, 0.113(0.142), 0.7224999999999999, 0.9124999999999999\n",
      "CLTM-fix90dim-20topics.topWords, 30, 0.11(0.145), 0.7199999999999999, 0.9166666666666667\n",
      "CLTM-fix90dim-20topics.topWords, 40, 0.109(0.144), 0.695, 0.9124999999999999\n",
      "CLTM-fix90dim-20topics.topWords, 50, 0.106(0.15), 0.6910000000000001, 0.8960000000000001\n",
      "CLTM-fix90dim-30topics.topWords, 10, 0.128(0.121), 0.7133333333333333, 0.9133333333333334\n",
      "CLTM-fix90dim-30topics.topWords, 20, 0.119(0.131), 0.6899999999999998, 0.9233333333333332\n",
      "CLTM-fix90dim-30topics.topWords, 30, 0.11(0.145), 0.6877777777777776, 0.9144444444444442\n",
      "CLTM-fix90dim-30topics.topWords, 40, 0.106(0.149), 0.6816666666666668, 0.9041666666666668\n",
      "CLTM-fix90dim-30topics.topWords, 50, 0.102(0.153), 0.6753333333333335, 0.9053333333333334\n",
      "CLTM-fix90dim-40topics.topWords, 10, 0.111(0.138), 0.7375, 0.8999999999999998\n",
      "CLTM-fix90dim-40topics.topWords, 20, 0.106(0.143), 0.7237499999999999, 0.8962499999999999\n",
      "CLTM-fix90dim-40topics.topWords, 30, 0.104(0.146), 0.7016666666666668, 0.8974999999999996\n",
      "CLTM-fix90dim-40topics.topWords, 40, 0.1(0.151), 0.6912499999999999, 0.8937500000000002\n",
      "CLTM-fix90dim-40topics.topWords, 50, 0.097(0.155), 0.6755, 0.8925000000000001\n",
      "CLTM-fix90dim-50topics.topWords, 10, 0.117(0.144), 0.7480000000000002, 0.9279999999999997\n",
      "CLTM-fix90dim-50topics.topWords, 20, 0.111(0.146), 0.726, 0.9299999999999998\n",
      "CLTM-fix90dim-50topics.topWords, 30, 0.108(0.149), 0.7046666666666667, 0.9186666666666664\n",
      "CLTM-fix90dim-50topics.topWords, 40, 0.108(0.148), 0.6885000000000001, 0.9070000000000004\n",
      "CLTM-fix90dim-50topics.topWords, 50, 0.104(0.155), 0.6704000000000001, 0.9016\n"
     ]
    }
   ],
   "source": [
    "# NPMI\n",
    "\n",
    "\"\"\" varying S* of CLTM\n",
    "CLTM_models = [\"/home/ponshane/work_dir/CLTM-Experiments/Results/MLDoc/varying-S-of-CLTM/CLTM-10dim.topWords\",\n",
    "             \"/home/ponshane/work_dir/CLTM-Experiments/Results/MLDoc/varying-S-of-CLTM/CLTM-20dim.topWords\",\n",
    "             \"/home/ponshane/work_dir/CLTM-Experiments/Results/MLDoc/varying-S-of-CLTM/CLTM-40dim.topWords\",\n",
    "             \"/home/ponshane/work_dir/CLTM-Experiments/Results/MLDoc/varying-S-of-CLTM/CLTM-60dim.topWords\",\n",
    "             \"/home/ponshane/work_dir/CLTM-Experiments/Results/MLDoc/varying-S-of-CLTM/CLTM-80dim.topWords\",\n",
    "             \"/home/ponshane/work_dir/CLTM-Experiments/Results/MLDoc/varying-S-of-CLTM/CLTM-90dim.topWords\",\n",
    "             \"/home/ponshane/work_dir/CLTM-Experiments/Results/MLDoc/varying-S-of-CLTM/CLTM-100dim.topWords\"]\n",
    "\"\"\"\n",
    "\n",
    "\"\"\" # varying # of topics of CLTM\n",
    "CLTM_models = [\"/home/ponshane/work_dir/CLTM-Experiments/Results/MLDoc/model-comparison/CLTM-fix90dim-10topics.topWords\",\n",
    "             \"/home/ponshane/work_dir/CLTM-Experiments/Results/MLDoc/model-comparison/CLTM-fix90dim-20topics.topWords\",\n",
    "             \"/home/ponshane/work_dir/CLTM-Experiments/Results/MLDoc/model-comparison/CLTM-fix90dim-30topics.topWords\",\n",
    "             \"/home/ponshane/work_dir/CLTM-Experiments/Results/MLDoc/model-comparison/CLTM-fix90dim-40topics.topWords\",\n",
    "             \"/home/ponshane/work_dir/CLTM-Experiments/Results/MLDoc/model-comparison/CLTM-fix90dim-50topics.topWords\"]\n",
    "\"\"\"\n",
    "\n",
    "\"\"\" # varying S* of CLTM with fasttext feature\n",
    "CLTM_models = [\"/home/ponshane/work_dir/CLTM-Experiments/Results/MLDoc/varying-S-of-CLTM/CLTM-fasttext-10dim.topWords\",\n",
    "             \"/home/ponshane/work_dir/CLTM-Experiments/Results/MLDoc/varying-S-of-CLTM/CLTM-fasttext-20dim.topWords\",\n",
    "             \"/home/ponshane/work_dir/CLTM-Experiments/Results/MLDoc/varying-S-of-CLTM/CLTM-fasttext-40dim.topWords\",\n",
    "             \"/home/ponshane/work_dir/CLTM-Experiments/Results/MLDoc/varying-S-of-CLTM/CLTM-fasttext-60dim.topWords\",\n",
    "             \"/home/ponshane/work_dir/CLTM-Experiments/Results/MLDoc/varying-S-of-CLTM/CLTM-fasttext-80dim.topWords\",\n",
    "             \"/home/ponshane/work_dir/CLTM-Experiments/Results/MLDoc/varying-S-of-CLTM/CLTM-fasttext-90dim.topWords\",\n",
    "             \"/home/ponshane/work_dir/CLTM-Experiments/Results/MLDoc/varying-S-of-CLTM/CLTM-fasttext-100dim.topWords\"]\n",
    "\"\"\"\n",
    "\n",
    "\"\"\" # varying # of topics of CLTM with hand-craft dictionary\n",
    "CLTM_models = [\"/home/ponshane/work_dir/CLTM-Experiments/Results/MLDoc/hand-craft-mapping-comparison/CLTM-handcraft-fix90dim-10topics.topWords\",\n",
    "             \"/home/ponshane/work_dir/CLTM-Experiments/Results/MLDoc/hand-craft-mapping-comparison/CLTM-handcraft-fix90dim-20topics.topWords\",\n",
    "             \"/home/ponshane/work_dir/CLTM-Experiments/Results/MLDoc/hand-craft-mapping-comparison/CLTM-handcraft-fix90dim-30topics.topWords\",\n",
    "             \"/home/ponshane/work_dir/CLTM-Experiments/Results/MLDoc/hand-craft-mapping-comparison/CLTM-handcraft-fix90dim-40topics.topWords\",\n",
    "             \"/home/ponshane/work_dir/CLTM-Experiments/Results/MLDoc/hand-craft-mapping-comparison/CLTM-handcraft-fix90dim-50topics.topWords\"]\n",
    "\"\"\"\n",
    "\n",
    "\"\"\"  # varying # of topics of Procrustes CLTM with hand-craft dictionary\n",
    "CLTM_models = [\"/home/ponshane/work_dir/CLTM-Experiments/Results/MLDoc/hand-craft-mapping-comparison/CLTM-Procrustes-handcraft-fix90dim-10topics.topWords\",\n",
    "             \"/home/ponshane/work_dir/CLTM-Experiments/Results/MLDoc/hand-craft-mapping-comparison/CLTM-Procrustes-handcraft-fix90dim-20topics.topWords\",\n",
    "             \"/home/ponshane/work_dir/CLTM-Experiments/Results/MLDoc/hand-craft-mapping-comparison/CLTM-Procrustes-handcraft-fix90dim-30topics.topWords\",\n",
    "             \"/home/ponshane/work_dir/CLTM-Experiments/Results/MLDoc/hand-craft-mapping-comparison/CLTM-Procrustes-handcraft-fix90dim-40topics.topWords\",\n",
    "             \"/home/ponshane/work_dir/CLTM-Experiments/Results/MLDoc/hand-craft-mapping-comparison/CLTM-Procrustes-handcraft-fix90dim-50topics.topWords\"]\n",
    "\n",
    "\"\"\"\n",
    "\n",
    "# varying # of topics of full EN-ZH MLDoc\n",
    "CLTM_models = [\"/home/ponshane/work_dir/CLTM-Experiments/Results/EN-ZH-MLDoc/model-comparison/CLTM-fix90dim-10topics.topWords\",\n",
    "             \"/home/ponshane/work_dir/CLTM-Experiments/Results/EN-ZH-MLDoc/model-comparison/CLTM-fix90dim-20topics.topWords\",\n",
    "             \"/home/ponshane/work_dir/CLTM-Experiments/Results/EN-ZH-MLDoc/model-comparison/CLTM-fix90dim-30topics.topWords\",\n",
    "             \"/home/ponshane/work_dir/CLTM-Experiments/Results/EN-ZH-MLDoc/model-comparison/CLTM-fix90dim-40topics.topWords\",\n",
    "             \"/home/ponshane/work_dir/CLTM-Experiments/Results/EN-ZH-MLDoc/model-comparison/CLTM-fix90dim-50topics.topWords\"]\n",
    "\n",
    "\n",
    "for idx, CLTM_model in enumerate(CLTM_models):\n",
    "\n",
    "    loaded_cluster = load_LFTM_cluster(CLTM_model, (idx+1)*10)\n",
    "    splitted_cluster = split_language(loaded_cluster)\n",
    "\n",
    "    ch_topics = [ topic[0] for topic in splitted_cluster if len(topic[0]) > 0 and len(topic[1]) > 0 ]\n",
    "    en_topics = [ topic[1] for topic in splitted_cluster if len(topic[0]) > 0 and len(topic[1]) > 0 ]\n",
    "    \n",
    "    for topk in range(10, 51, 10):\n",
    "        CLTM_mean, CLTM_std, cn_coverage, en_coverage = REF_coherence_score(ch_topics, en_topics, topk, tdm, dictionary)\n",
    "        print(\"{}, {}, {}, {}, {}\".format(basename(CLTM_model), str(topk), str(round(CLTM_mean, 3)) + \"(\" + str(round(CLTM_std, 3)) + \")\",\n",
    "                                              cn_coverage, en_coverage))"
   ]
  },
  {
   "cell_type": "code",
   "execution_count": 4,
   "metadata": {},
   "outputs": [
    {
     "name": "stdout",
     "output_type": "stream",
     "text": [
      "CLTM-en-jp-fix90dim-10topics.topWords, 10, 0.109(0.066), 0.8099999999999999, 0.9200000000000002\n",
      "CLTM-en-jp-fix90dim-10topics.topWords, 20, 0.106(0.086), 0.805, 0.9099999999999999\n",
      "CLTM-en-jp-fix90dim-10topics.topWords, 30, 0.099(0.095), 0.8400000000000001, 0.9099999999999999\n",
      "CLTM-en-jp-fix90dim-10topics.topWords, 40, 0.096(0.104), 0.8424999999999999, 0.9125\n",
      "CLTM-en-jp-fix90dim-10topics.topWords, 50, 0.092(0.111), 0.85, 0.914\n",
      "CLTM-en-jp-fix90dim-20topics.topWords, 10, 0.099(0.128), 0.8200000000000001, 0.89\n",
      "CLTM-en-jp-fix90dim-20topics.topWords, 20, 0.097(0.115), 0.8399999999999999, 0.8874999999999998\n",
      "CLTM-en-jp-fix90dim-20topics.topWords, 30, 0.096(0.114), 0.8233333333333335, 0.8833333333333334\n",
      "CLTM-en-jp-fix90dim-20topics.topWords, 40, 0.092(0.123), 0.81375, 0.8949999999999999\n",
      "CLTM-en-jp-fix90dim-20topics.topWords, 50, 0.092(0.123), 0.817, 0.8880000000000001\n",
      "CLTM-en-jp-fix90dim-30topics.topWords, 10, 0.099(0.108), 0.8799999999999998, 0.8899999999999999\n",
      "CLTM-en-jp-fix90dim-30topics.topWords, 20, 0.096(0.117), 0.8599999999999999, 0.8966666666666664\n",
      "CLTM-en-jp-fix90dim-30topics.topWords, 30, 0.096(0.118), 0.8411111111111111, 0.8922222222222224\n",
      "CLTM-en-jp-fix90dim-30topics.topWords, 40, 0.092(0.125), 0.8316666666666669, 0.8991666666666666\n",
      "CLTM-en-jp-fix90dim-30topics.topWords, 50, 0.088(0.131), 0.8160000000000001, 0.8993333333333334\n",
      "CLTM-en-jp-fix90dim-40topics.topWords, 10, 0.106(0.12), 0.8799999999999999, 0.9099999999999999\n",
      "CLTM-en-jp-fix90dim-40topics.topWords, 20, 0.101(0.12), 0.8524999999999998, 0.9099999999999998\n",
      "CLTM-en-jp-fix90dim-40topics.topWords, 30, 0.099(0.125), 0.8400000000000001, 0.9041666666666665\n",
      "CLTM-en-jp-fix90dim-40topics.topWords, 40, 0.097(0.126), 0.81875, 0.9037500000000002\n",
      "CLTM-en-jp-fix90dim-40topics.topWords, 50, 0.093(0.131), 0.8075000000000001, 0.9020000000000005\n",
      "CLTM-en-jp-fix90dim-50topics.topWords, 10, 0.107(0.123), 0.8719999999999998, 0.8919999999999996\n",
      "CLTM-en-jp-fix90dim-50topics.topWords, 20, 0.1(0.123), 0.8600000000000003, 0.8959999999999999\n",
      "CLTM-en-jp-fix90dim-50topics.topWords, 30, 0.097(0.123), 0.8379999999999999, 0.8959999999999998\n",
      "CLTM-en-jp-fix90dim-50topics.topWords, 40, 0.093(0.132), 0.823, 0.897\n",
      "CLTM-en-jp-fix90dim-50topics.topWords, 50, 0.091(0.135), 0.8092000000000003, 0.8916\n"
     ]
    }
   ],
   "source": [
    "# NPMI\n",
    "# varying # of topics of full EN-JP MLDoc\n",
    "CLTM_models = [\"/home/ponshane/work_dir/CLTM-Experiments/Results/EN-JP-MLDoc/model-comparison/CLTM-en-jp-fix90dim-10topics.topWords\",\n",
    "             \"/home/ponshane/work_dir/CLTM-Experiments/Results/EN-JP-MLDoc/model-comparison/CLTM-en-jp-fix90dim-20topics.topWords\",\n",
    "             \"/home/ponshane/work_dir/CLTM-Experiments/Results/EN-JP-MLDoc/model-comparison/CLTM-en-jp-fix90dim-30topics.topWords\",\n",
    "             \"/home/ponshane/work_dir/CLTM-Experiments/Results/EN-JP-MLDoc/model-comparison/CLTM-en-jp-fix90dim-40topics.topWords\",\n",
    "             \"/home/ponshane/work_dir/CLTM-Experiments/Results/EN-JP-MLDoc/model-comparison/CLTM-en-jp-fix90dim-50topics.topWords\"]\n",
    "\n",
    "\n",
    "for idx, CLTM_model in enumerate(CLTM_models):\n",
    "\n",
    "    loaded_cluster = load_LFTM_cluster(CLTM_model, (idx+1)*10)\n",
    "    splitted_cluster = split_language(loaded_cluster)\n",
    "\n",
    "    jp_topics = [ topic[0] for topic in splitted_cluster if len(topic[0]) > 0 and len(topic[1]) > 0 ]\n",
    "    en_topics = [ topic[1] for topic in splitted_cluster if len(topic[0]) > 0 and len(topic[1]) > 0 ]\n",
    "    \n",
    "    for topk in range(10, 51, 10):\n",
    "        CLTM_mean, CLTM_std, jp_coverage, en_coverage = REF_coherence_score(jp_topics, en_topics, topk, en_jp_tdm, en_jp_dictionary)\n",
    "        print(\"{}, {}, {}, {}, {}\".format(basename(CLTM_model), str(topk), str(round(CLTM_mean, 3)) + \"(\" + str(round(CLTM_std, 3)) + \")\",\n",
    "                                              jp_coverage, en_coverage))"
   ]
  },
  {
   "cell_type": "code",
   "execution_count": 7,
   "metadata": {},
   "outputs": [
    {
     "name": "stdout",
     "output_type": "stream",
     "text": [
      "CLTM-fix90dim-10topics.topWords, 10, 0.9933333333333333, 0.02494438257849294\n",
      "CLTM-fix90dim-10topics.topWords, 20, 0.9966666666666667, 0.01247219128924647\n",
      "CLTM-fix90dim-10topics.topWords, 30, 0.997037037037037, 0.009486109981381989\n",
      "CLTM-fix90dim-10topics.topWords, 40, 0.9975, 0.007500000000000009\n",
      "CLTM-fix90dim-10topics.topWords, 50, 0.998, 0.006000000000000007\n",
      "CLTM-fix90dim-20topics.topWords, 10, 0.9971052631578947, 0.016765863617048956\n",
      "CLTM-fix90dim-20topics.topWords, 20, 0.9981578947368421, 0.00941870008851225\n",
      "CLTM-fix90dim-20topics.topWords, 30, 0.9985087719298246, 0.006890851992453625\n",
      "CLTM-fix90dim-20topics.topWords, 40, 0.99875, 0.005742558113263668\n",
      "CLTM-fix90dim-20topics.topWords, 50, 0.9989473684210526, 0.004695728004883257\n",
      "CLTM-fix90dim-30topics.topWords, 10, 0.9983908045977011, 0.013465457145386122\n",
      "CLTM-fix90dim-30topics.topWords, 20, 0.999080459770115, 0.007132922521425424\n",
      "CLTM-fix90dim-30topics.topWords, 30, 0.9993869731800766, 0.004755281680950265\n",
      "CLTM-fix90dim-30topics.topWords, 40, 0.9994540229885057, 0.0040280141023421295\n",
      "CLTM-fix90dim-30topics.topWords, 50, 0.9995402298850574, 0.0034267527529589187\n",
      "CLTM-fix90dim-40topics.topWords, 10, 0.9978205128205129, 0.014601320268495466\n",
      "CLTM-fix90dim-40topics.topWords, 20, 0.998525641025641, 0.008458381306885773\n",
      "CLTM-fix90dim-40topics.topWords, 30, 0.9989316239316239, 0.005991294485631618\n",
      "CLTM-fix90dim-40topics.topWords, 40, 0.9991185897435897, 0.004696770637516145\n",
      "CLTM-fix90dim-40topics.topWords, 50, 0.9991666666666666, 0.004122846498217412\n",
      "CLTM-fix90dim-50topics.topWords, 10, 0.9985714285714286, 0.012205719636168203\n",
      "CLTM-fix90dim-50topics.topWords, 20, 0.9990408163265306, 0.007005709577233956\n",
      "CLTM-fix90dim-50topics.topWords, 30, 0.9992244897959184, 0.0053737363140790115\n",
      "CLTM-fix90dim-50topics.topWords, 40, 0.9993265306122449, 0.0042923175563051984\n",
      "CLTM-fix90dim-50topics.topWords, 50, 0.9993795918367347, 0.0036953903768727923\n"
     ]
    }
   ],
   "source": [
    "# Jaccard\n",
    "\n",
    "\"\"\"\n",
    "CLTM_models = [\"/home/ponshane/work_dir/CLTM-Experiments/Results/MLDoc/model-comparison/CLTM-fix90dim-10topics.topWords\",\n",
    "             \"/home/ponshane/work_dir/CLTM-Experiments/Results/MLDoc/model-comparison/CLTM-fix90dim-20topics.topWords\",\n",
    "             \"/home/ponshane/work_dir/CLTM-Experiments/Results/MLDoc/model-comparison/CLTM-fix90dim-30topics.topWords\",\n",
    "             \"/home/ponshane/work_dir/CLTM-Experiments/Results/MLDoc/model-comparison/CLTM-fix90dim-40topics.topWords\",\n",
    "             \"/home/ponshane/work_dir/CLTM-Experiments/Results/MLDoc/model-comparison/CLTM-fix90dim-50topics.topWords\"]\n",
    "\"\"\"\n",
    "\n",
    "\"\"\" # varying # of topics of CLTM with hand-craft dictionary\n",
    "CLTM_models = [\"/home/ponshane/work_dir/CLTM-Experiments/Results/MLDoc/hand-craft-mapping-comparison/CLTM-handcraft-fix90dim-10topics.topWords\",\n",
    "             \"/home/ponshane/work_dir/CLTM-Experiments/Results/MLDoc/hand-craft-mapping-comparison/CLTM-handcraft-fix90dim-20topics.topWords\",\n",
    "             \"/home/ponshane/work_dir/CLTM-Experiments/Results/MLDoc/hand-craft-mapping-comparison/CLTM-handcraft-fix90dim-30topics.topWords\",\n",
    "             \"/home/ponshane/work_dir/CLTM-Experiments/Results/MLDoc/hand-craft-mapping-comparison/CLTM-handcraft-fix90dim-40topics.topWords\",\n",
    "             \"/home/ponshane/work_dir/CLTM-Experiments/Results/MLDoc/hand-craft-mapping-comparison/CLTM-handcraft-fix90dim-50topics.topWords\"]\n",
    "\"\"\"\n",
    "\n",
    "# varying # of topics of full EN-ZH MLDoc\n",
    "CLTM_models = [\"/home/ponshane/work_dir/CLTM-Experiments/Results/EN-ZH-MLDoc/model-comparison/CLTM-fix90dim-10topics.topWords\",\n",
    "             \"/home/ponshane/work_dir/CLTM-Experiments/Results/EN-ZH-MLDoc/model-comparison/CLTM-fix90dim-20topics.topWords\",\n",
    "             \"/home/ponshane/work_dir/CLTM-Experiments/Results/EN-ZH-MLDoc/model-comparison/CLTM-fix90dim-30topics.topWords\",\n",
    "             \"/home/ponshane/work_dir/CLTM-Experiments/Results/EN-ZH-MLDoc/model-comparison/CLTM-fix90dim-40topics.topWords\",\n",
    "             \"/home/ponshane/work_dir/CLTM-Experiments/Results/EN-ZH-MLDoc/model-comparison/CLTM-fix90dim-50topics.topWords\"]\n",
    "\n",
    "for idx, CLTM_model in enumerate(CLTM_models):\n",
    "\n",
    "    loaded_cluster = load_LFTM_cluster(CLTM_model, (idx+1)*10)\n",
    "    splitted_cluster = split_language(loaded_cluster)\n",
    "\n",
    "    ch_topics = [ topic[0] for topic in splitted_cluster if len(topic[0]) > 0 and len(topic[1]) > 0 ]\n",
    "    en_topics = [ topic[1] for topic in splitted_cluster if len(topic[0]) > 0 and len(topic[1]) > 0 ]\n",
    "    \n",
    "    for topk in range(10, 51, 10):\n",
    "        mean_jaccard, std_jaccard = avg_jaccard_similarity_between_topics(ch_topics, en_topics, topk)\n",
    "        print(\"{}, {}, {}, {}\".format(basename(CLTM_model), str(topk), mean_jaccard, std_jaccard))"
   ]
  },
  {
   "cell_type": "code",
   "execution_count": 8,
   "metadata": {},
   "outputs": [
    {
     "name": "stdout",
     "output_type": "stream",
     "text": [
      "CLTM-en-jp-fix90dim-10topics.topWords, 10, 0.9966666666666667, 0.023333333333333373\n",
      "CLTM-en-jp-fix90dim-10topics.topWords, 20, 0.9977777777777778, 0.012717247935843987\n",
      "CLTM-en-jp-fix90dim-10topics.topWords, 30, 0.9977777777777778, 0.009686442096757035\n",
      "CLTM-en-jp-fix90dim-10topics.topWords, 40, 0.9977777777777778, 0.008031573497111652\n",
      "CLTM-en-jp-fix90dim-10topics.topWords, 50, 0.998, 0.006699917080747265\n",
      "CLTM-en-jp-fix90dim-20topics.topWords, 10, 0.9968421052631579, 0.01748762918509074\n",
      "CLTM-en-jp-fix90dim-20topics.topWords, 20, 0.9978947368421053, 0.010041465278073097\n",
      "CLTM-en-jp-fix90dim-20topics.topWords, 30, 0.9985087719298246, 0.0068908519924536175\n",
      "CLTM-en-jp-fix90dim-20topics.topWords, 40, 0.9988157894736842, 0.005310641071213314\n",
      "CLTM-en-jp-fix90dim-20topics.topWords, 50, 0.9989473684210526, 0.004465937565388729\n",
      "CLTM-en-jp-fix90dim-30topics.topWords, 10, 0.9980459770114942, 0.013841390573600917\n",
      "CLTM-en-jp-fix90dim-30topics.topWords, 20, 0.9986206896551724, 0.008189201439336472\n",
      "CLTM-en-jp-fix90dim-30topics.topWords, 30, 0.9988122605363985, 0.006179044458489277\n",
      "CLTM-en-jp-fix90dim-30topics.topWords, 40, 0.9989655172413793, 0.0049791479579978475\n",
      "CLTM-en-jp-fix90dim-30topics.topWords, 50, 0.9991034482758621, 0.004138505707221374\n",
      "CLTM-en-jp-fix90dim-40topics.topWords, 10, 0.9975, 0.015612494995995926\n",
      "CLTM-en-jp-fix90dim-40topics.topWords, 20, 0.9984935897435897, 0.008732489287999263\n",
      "CLTM-en-jp-fix90dim-40topics.topWords, 30, 0.9988247863247863, 0.006262360850021567\n",
      "CLTM-en-jp-fix90dim-40topics.topWords, 40, 0.9989583333333333, 0.005075222091052094\n",
      "CLTM-en-jp-fix90dim-40topics.topWords, 50, 0.9991282051282051, 0.00414592470387844\n",
      "CLTM-en-jp-fix90dim-50topics.topWords, 10, 0.9981632653061224, 0.014022353784736622\n",
      "CLTM-en-jp-fix90dim-50topics.topWords, 20, 0.9987959183673469, 0.007926909972216399\n",
      "CLTM-en-jp-fix90dim-50topics.topWords, 30, 0.9990476190476191, 0.005793107171712505\n",
      "CLTM-en-jp-fix90dim-50topics.topWords, 40, 0.999234693877551, 0.004537375444758401\n",
      "CLTM-en-jp-fix90dim-50topics.topWords, 50, 0.9993306122448979, 0.003774360553039336\n"
     ]
    }
   ],
   "source": [
    "# jaccard\n",
    "# varying # of topics of full EN-JP MLDoc\n",
    "CLTM_models = [\"/home/ponshane/work_dir/CLTM-Experiments/Results/EN-JP-MLDoc/model-comparison/CLTM-en-jp-fix90dim-10topics.topWords\",\n",
    "             \"/home/ponshane/work_dir/CLTM-Experiments/Results/EN-JP-MLDoc/model-comparison/CLTM-en-jp-fix90dim-20topics.topWords\",\n",
    "             \"/home/ponshane/work_dir/CLTM-Experiments/Results/EN-JP-MLDoc/model-comparison/CLTM-en-jp-fix90dim-30topics.topWords\",\n",
    "             \"/home/ponshane/work_dir/CLTM-Experiments/Results/EN-JP-MLDoc/model-comparison/CLTM-en-jp-fix90dim-40topics.topWords\",\n",
    "             \"/home/ponshane/work_dir/CLTM-Experiments/Results/EN-JP-MLDoc/model-comparison/CLTM-en-jp-fix90dim-50topics.topWords\"]\n",
    "\n",
    "for idx, CLTM_model in enumerate(CLTM_models):\n",
    "\n",
    "    loaded_cluster = load_LFTM_cluster(CLTM_model, (idx+1)*10)\n",
    "    splitted_cluster = split_language(loaded_cluster)\n",
    "\n",
    "    ch_topics = [ topic[0] for topic in splitted_cluster if len(topic[0]) > 0 and len(topic[1]) > 0 ]\n",
    "    en_topics = [ topic[1] for topic in splitted_cluster if len(topic[0]) > 0 and len(topic[1]) > 0 ]\n",
    "    \n",
    "    for topk in range(10, 51, 10):\n",
    "        mean_jaccard, std_jaccard = avg_jaccard_similarity_between_topics(ch_topics, en_topics, topk)\n",
    "        print(\"{}, {}, {}, {}\".format(basename(CLTM_model), str(topk), mean_jaccard, std_jaccard))"
   ]
  },
  {
   "cell_type": "code",
   "execution_count": 7,
   "metadata": {},
   "outputs": [
    {
     "name": "stdout",
     "output_type": "stream",
     "text": [
      "CLTM-fix90dim-10topics.topWords, 10, 0.8, 0.9\n",
      "CLTM-fix90dim-10topics.topWords, 20, 0.8, 0.9\n",
      "CLTM-fix90dim-10topics.topWords, 30, 0.7666666666666667, 0.9\n",
      "CLTM-fix90dim-10topics.topWords, 40, 0.775, 0.925\n",
      "CLTM-fix90dim-10topics.topWords, 50, 0.76, 0.88\n",
      "CLTM-fix90dim-20topics.topWords, 10, 0.8, 0.7\n",
      "CLTM-fix90dim-20topics.topWords, 20, 0.85, 0.75\n",
      "CLTM-fix90dim-20topics.topWords, 30, 0.8333333333333334, 0.8333333333333334\n",
      "CLTM-fix90dim-20topics.topWords, 40, 0.775, 0.8\n",
      "CLTM-fix90dim-20topics.topWords, 50, 0.82, 0.82\n",
      "CLTM-fix90dim-30topics.topWords, 10, 0.7, 0.7\n",
      "CLTM-fix90dim-30topics.topWords, 20, 0.85, 0.8\n",
      "CLTM-fix90dim-30topics.topWords, 30, 0.8, 0.8333333333333334\n",
      "CLTM-fix90dim-30topics.topWords, 40, 0.8, 0.875\n",
      "CLTM-fix90dim-30topics.topWords, 50, 0.82, 0.84\n",
      "CLTM-fix90dim-40topics.topWords, 10, 0.7, 0.7\n",
      "CLTM-fix90dim-40topics.topWords, 20, 0.85, 0.75\n",
      "CLTM-fix90dim-40topics.topWords, 30, 0.8666666666666667, 0.7\n",
      "CLTM-fix90dim-40topics.topWords, 40, 0.8, 0.725\n",
      "CLTM-fix90dim-40topics.topWords, 50, 0.8, 0.76\n",
      "CLTM-fix90dim-50topics.topWords, 10, 0.8, 0.7\n",
      "CLTM-fix90dim-50topics.topWords, 20, 0.75, 0.75\n",
      "CLTM-fix90dim-50topics.topWords, 30, 0.8, 0.7333333333333333\n",
      "CLTM-fix90dim-50topics.topWords, 40, 0.825, 0.75\n",
      "CLTM-fix90dim-50topics.topWords, 50, 0.82, 0.76\n"
     ]
    }
   ],
   "source": [
    "# Unique word \n",
    "\n",
    "\"\"\"\n",
    "CLTM_models = [\"/home/ponshane/work_dir/CLTM-Experiments/Results/MLDoc/hand-craft-mapping-comparison/CLTM-handcraft-fix90dim-10topics.topWords\",\n",
    "             \"/home/ponshane/work_dir/CLTM-Experiments/Results/MLDoc/hand-craft-mapping-comparison/CLTM-handcraft-fix90dim-20topics.topWords\",\n",
    "             \"/home/ponshane/work_dir/CLTM-Experiments/Results/MLDoc/hand-craft-mapping-comparison/CLTM-handcraft-fix90dim-30topics.topWords\",\n",
    "             \"/home/ponshane/work_dir/CLTM-Experiments/Results/MLDoc/hand-craft-mapping-comparison/CLTM-handcraft-fix90dim-40topics.topWords\",\n",
    "             \"/home/ponshane/work_dir/CLTM-Experiments/Results/MLDoc/hand-craft-mapping-comparison/CLTM-handcraft-fix90dim-50topics.topWords\"]\n",
    "\"\"\"\n",
    "\n",
    "CLTM_models = [\"/home/ponshane/work_dir/CLTM-Experiments/Results/MLDoc/model-comparison/CLTM-fix90dim-10topics.topWords\",\n",
    "             \"/home/ponshane/work_dir/CLTM-Experiments/Results/MLDoc/model-comparison/CLTM-fix90dim-20topics.topWords\",\n",
    "             \"/home/ponshane/work_dir/CLTM-Experiments/Results/MLDoc/model-comparison/CLTM-fix90dim-30topics.topWords\",\n",
    "             \"/home/ponshane/work_dir/CLTM-Experiments/Results/MLDoc/model-comparison/CLTM-fix90dim-40topics.topWords\",\n",
    "             \"/home/ponshane/work_dir/CLTM-Experiments/Results/MLDoc/model-comparison/CLTM-fix90dim-50topics.topWords\"]\n",
    "\n",
    "for idx, CLTM_model in enumerate(CLTM_models):\n",
    "\n",
    "    loaded_cluster = load_LFTM_cluster(CLTM_model, (idx+1)*10)\n",
    "    splitted_cluster = split_language(loaded_cluster)\n",
    "\n",
    "    ch_topics = [ topic[0] for topic in splitted_cluster if len(topic[0]) > 0 and len(topic[1]) > 0 ]\n",
    "    en_topics = [ topic[1] for topic in splitted_cluster if len(topic[0]) > 0 and len(topic[1]) > 0 ]\n",
    "    \n",
    "    for topk in range(10, 51, 10):\n",
    "        chinese_unique_words_p, English_unique_words_p = unique_words_proportion_between_topics(ch_topics, en_topics, topk)\n",
    "        print(\"{}, {}, {}, {}\".format(basename(CLTM_model), str(topk), chinese_unique_words_p, English_unique_words_p))"
   ]
  },
  {
   "cell_type": "code",
   "execution_count": null,
   "metadata": {},
   "outputs": [],
   "source": [
    "# acc\n",
    "\"\"\"# varying S* of CLTM\n",
    "CLTM_models = [\"/home/ponshane/work_dir/CLTM-Experiments/Results/MLDoc/varying-S-of-CLTM/CLTM-10dim.theta\",\n",
    "             \"/home/ponshane/work_dir/CLTM-Experiments/Results/MLDoc/varying-S-of-CLTM/CLTM-20dim.theta\",\n",
    "             \"/home/ponshane/work_dir/CLTM-Experiments/Results/MLDoc/varying-S-of-CLTM/CLTM-40dim.theta\",\n",
    "             \"/home/ponshane/work_dir/CLTM-Experiments/Results/MLDoc/varying-S-of-CLTM/CLTM-60dim.theta\",\n",
    "             \"/home/ponshane/work_dir/CLTM-Experiments/Results/MLDoc/varying-S-of-CLTM/CLTM-80dim.theta\",\n",
    "             \"/home/ponshane/work_dir/CLTM-Experiments/Results/MLDoc/varying-S-of-CLTM/CLTM-90dim.theta\",\n",
    "             \"/home/ponshane/work_dir/CLTM-Experiments/Results/MLDoc/varying-S-of-CLTM/CLTM-100dim.theta\"]\n",
    "\"\"\"\n",
    "\n",
    "\"\"\"\n",
    "CLTM_models = [\"/home/ponshane/work_dir/CLTM-Experiments/Results/MLDoc/model-comparison/CLTM-fix90dim-10topics.theta\",\n",
    "             \"/home/ponshane/work_dir/CLTM-Experiments/Results/MLDoc/model-comparison/CLTM-fix90dim-20topics.theta\",\n",
    "             \"/home/ponshane/work_dir/CLTM-Experiments/Results/MLDoc/model-comparison/CLTM-fix90dim-30topics.theta\",\n",
    "             \"/home/ponshane/work_dir/CLTM-Experiments/Results/MLDoc/model-comparison/CLTM-fix90dim-40topics.theta\",\n",
    "             \"/home/ponshane/work_dir/CLTM-Experiments/Results/MLDoc/model-comparison/CLTM-fix90dim-50topics.theta\"]\n",
    "\"\"\"\n",
    "\n",
    "\"\"\"\n",
    "CLTM_models = [\"/home/ponshane/work_dir/CLTM-Experiments/Results/MLDoc/hand-craft-mapping-comparison/CLTM-handcraft-fix90dim-10topics.theta\",\n",
    "             \"/home/ponshane/work_dir/CLTM-Experiments/Results/MLDoc/hand-craft-mapping-comparison/CLTM-handcraft-fix90dim-20topics.theta\",\n",
    "             \"/home/ponshane/work_dir/CLTM-Experiments/Results/MLDoc/hand-craft-mapping-comparison/CLTM-handcraft-fix90dim-30topics.theta\",\n",
    "             \"/home/ponshane/work_dir/CLTM-Experiments/Results/MLDoc/hand-craft-mapping-comparison/CLTM-handcraft-fix90dim-40topics.theta\",\n",
    "             \"/home/ponshane/work_dir/CLTM-Experiments/Results/MLDoc/hand-craft-mapping-comparison/CLTM-handcraft-fix90dim-50topics.theta\"]\n",
    "\n",
    "corpus_pd = \"/home/ponshane/work_dir/CLTM-Experiments/Data/MLDoc/Shuffled_RS168_tagged_englishAndchinese_corpus_pd.pkl\"\n",
    "\"\"\"\n",
    "\n",
    "# EN-ZH Full train\n",
    "CLTM_models = [\"/home/ponshane/work_dir/CLTM-Experiments/Results/EN-ZH-MLDoc/model-comparison/CLTM-fix90dim-10topics.theta\",\n",
    "             \"/home/ponshane/work_dir/CLTM-Experiments/Results/EN-ZH-MLDoc/model-comparison/CLTM-fix90dim-20topics.theta\",\n",
    "             \"/home/ponshane/work_dir/CLTM-Experiments/Results/EN-ZH-MLDoc/model-comparison/CLTM-fix90dim-30topics.theta\",\n",
    "             \"/home/ponshane/work_dir/CLTM-Experiments/Results/EN-ZH-MLDoc/model-comparison/CLTM-fix90dim-40topics.theta\",\n",
    "             \"/home/ponshane/work_dir/CLTM-Experiments/Results/EN-ZH-MLDoc/model-comparison/CLTM-fix90dim-50topics.theta\"]\n",
    "\n",
    "corpus_pd = \"/home/ponshane/work_dir/CLTM-Experiments/Data/EN-ZH-MLDoc/Shuffled_RS168_tagged_englishAndchinese_corpus_pd.pkl\"\n",
    "acc_dict = evaluate_theta_of_CLTM_on_MLDoc(corpus_pd, \"Chinese\", CLTM_models)"
   ]
  },
  {
   "cell_type": "code",
   "execution_count": 6,
   "metadata": {},
   "outputs": [
    {
     "name": "stdout",
     "output_type": "stream",
     "text": [
      "file,dev_num,test_num\n",
      "CLTM-fix90dim-10topics.theta,0.792,0.597\n",
      "CLTM-fix90dim-20topics.theta,0.772,0.59225\n",
      "CLTM-fix90dim-30topics.theta,0.847,0.38975\n",
      "CLTM-fix90dim-40topics.theta,0.85,0.313\n",
      "CLTM-fix90dim-50topics.theta,0.863,0.3645\n"
     ]
    }
   ],
   "source": [
    "dict_structure_printer(acc_dict)"
   ]
  },
  {
   "cell_type": "code",
   "execution_count": null,
   "metadata": {},
   "outputs": [],
   "source": [
    "# acc\n",
    "# EN-JP acc 1K\n",
    "# CLTM_models = [\"/home/ponshane/work_dir/CLTM/src/out/MLDoc/CLTM-en-jp-fix90dim-10topics.theta\",\n",
    "#              \"/home/ponshane/work_dir/CLTM/src/out/MLDoc/CLTM-en-jp-fix90dim-20topics.theta\",\n",
    "#              \"/home/ponshane/work_dir/CLTM/src/out/MLDoc/CLTM-en-jp-fix90dim-30topics.theta\",\n",
    "#              \"/home/ponshane/work_dir/CLTM/src/out/MLDoc/CLTM-en-jp-fix90dim-40topics.theta\"]\n",
    "# corpus_pd = \"/home/ponshane/work_dir/CLTM/src/out/MLDoc/Shuffled_RS666_tagged_englishAndjapanese_corpus_pd.pkl\"\n",
    "\n",
    "# EN-JP acc 10K\n",
    "CLTM_models = [\"/home/ponshane/work_dir/CLTM-Experiments/Results/EN-JP-MLDoc/model-comparison/CLTM-en-jp-fix90dim-10topics.theta\",\n",
    "             \"/home/ponshane/work_dir/CLTM-Experiments/Results/EN-JP-MLDoc/model-comparison/CLTM-en-jp-fix90dim-20topics.theta\",\n",
    "             \"/home/ponshane/work_dir/CLTM-Experiments/Results/EN-JP-MLDoc/model-comparison/CLTM-en-jp-fix90dim-30topics.theta\",\n",
    "             \"/home/ponshane/work_dir/CLTM-Experiments/Results/EN-JP-MLDoc/model-comparison/CLTM-en-jp-fix90dim-40topics.theta\",\n",
    "              \"/home/ponshane/work_dir/CLTM-Experiments/Results/EN-JP-MLDoc/model-comparison/CLTM-en-jp-fix90dim-50topics.theta\"]\n",
    "\n",
    "corpus_pd = \"/home/ponshane/work_dir/CLTM-Experiments/Data/EN-JP-MLDoc/Shuffled_RS666_tagged_englishAndjapanese_corpus_pd.pkl\"\n",
    "\n",
    "acc_dict = evaluate_theta_of_CLTM_on_MLDoc(corpus_pd, \"Japanese\", CLTM_models)"
   ]
  },
  {
   "cell_type": "code",
   "execution_count": 4,
   "metadata": {},
   "outputs": [
    {
     "name": "stdout",
     "output_type": "stream",
     "text": [
      "file,dev_num,test_num\n",
      "CLTM-en-jp-fix90dim-10topics.theta,0.674,0.50175\n",
      "CLTM-en-jp-fix90dim-20topics.theta,0.813,0.472\n",
      "CLTM-en-jp-fix90dim-30topics.theta,0.818,0.2495\n",
      "CLTM-en-jp-fix90dim-40topics.theta,0.849,0.37725\n",
      "CLTM-en-jp-fix90dim-50topics.theta,0.858,0.44625\n"
     ]
    }
   ],
   "source": [
    "# en-jp 1K\n",
    "# file,dev_num,test_num\n",
    "# CLTM-en-jp-fix90dim-10topics.theta,0.692,0.5775\n",
    "# CLTM-en-jp-fix90dim-20topics.theta,0.823,0.41475\n",
    "# CLTM-en-jp-fix90dim-30topics.theta,0.82,0.26675\n",
    "# CLTM-en-jp-fix90dim-40topics.theta,0.843,0.3375\n",
    "\n",
    "dict_structure_printer(acc_dict)"
   ]
  },
  {
   "cell_type": "markdown",
   "metadata": {},
   "source": [
    "# JointLDA"
   ]
  },
  {
   "cell_type": "code",
   "execution_count": 4,
   "metadata": {},
   "outputs": [
    {
     "name": "stderr",
     "output_type": "stream",
     "text": [
      "2020-09-01 22:47:36 INFO:JointCorpus:size of concept: 541, size of source vocab: 14254, size of target vocab: 6760\n",
      "2020-09-01 22:47:36 INFO:JointCorpus:Successfully generate idx corpus 'self.docs' and language flags 'self.language_flags'\n"
     ]
    },
    {
     "name": "stdout",
     "output_type": "stream",
     "text": [
      "JointLDA-40topics.pickle, 10, 0.144(0.099), 0.9700000000000001, 0.8299999999999998\n",
      "JointLDA-40topics.pickle, 20, 0.136(0.096), 0.925, 0.8400000000000001\n",
      "JointLDA-40topics.pickle, 30, 0.137(0.099), 0.93, 0.8400000000000001\n",
      "JointLDA-40topics.pickle, 40, 0.134(0.104), 0.9225, 0.85\n",
      "JointLDA-40topics.pickle, 50, 0.131(0.107), 0.924, 0.8539999999999999\n",
      "JointLDA-50topics.pickle, 10, 0.151(0.104), 0.9549999999999998, 0.8350000000000002\n",
      "JointLDA-50topics.pickle, 20, 0.141(0.109), 0.96, 0.8049999999999999\n",
      "JointLDA-50topics.pickle, 30, 0.133(0.113), 0.9533333333333331, 0.8099999999999999\n",
      "JointLDA-50topics.pickle, 40, 0.129(0.113), 0.9575000000000001, 0.81125\n",
      "JointLDA-50topics.pickle, 50, 0.127(0.113), 0.9550000000000001, 0.805\n"
     ]
    }
   ],
   "source": [
    "# NPMI\n",
    "\n",
    "\"\"\" en-zh 1K train\n",
    "corpus = JointCorpus(source_corpus_file=\"/home/ponshane/work_dir/CLTM-Experiments/Data/MLDoc/MLDoc-English.txt\",\n",
    "                     target_corpus_file=\"/home/ponshane/work_dir/CLTM-Experiments/Data/MLDoc/MLDoc-Chinese.txt\")\n",
    "corpus.update_doctionary(\"/home/ponshane/work_dir/CLTM-Experiments/Data/MLDoc/MLDoc_EN_ZH_dictionaries.csv\")\n",
    "corpus.convert_raw_corpus_to_trainable_corpus()\n",
    "\n",
    "JointLDAs = [\"/home/ponshane/work_dir/CLTM-Experiments/Results/MLDoc/model-comparison/JointLDA-10topics.pickle\",\n",
    "            \"/home/ponshane/work_dir/CLTM-Experiments/Results/MLDoc/model-comparison/JointLDA-20topics.pickle\",\n",
    "            \"/home/ponshane/work_dir/CLTM-Experiments/Results/MLDoc/model-comparison/JointLDA-30topics.pickle\",\n",
    "            \"/home/ponshane/work_dir/CLTM-Experiments/Results/MLDoc/model-comparison/JointLDA-40topics.pickle\",\n",
    "            \"/home/ponshane/work_dir/CLTM-Experiments/Results/MLDoc/model-comparison/JointLDA-50topics.pickle\"]\n",
    "\"\"\"\n",
    "\n",
    "# varying # of topics of full EN-ZH MLDoc\n",
    "corpus = JointCorpus(source_corpus_file=\"/home/ponshane/work_dir/CLTM-Experiments/Data/EN-ZH-MLDoc/MLDoc-English.txt\",\n",
    "                     target_corpus_file=\"/home/ponshane/work_dir/CLTM-Experiments/Data/EN-ZH-MLDoc/MLDoc-Chinese.txt\")\n",
    "corpus.update_doctionary(\"/home/ponshane/work_dir/CLTM-Experiments/Data/EN-ZH-MLDoc/MLDoc_EN_ZH_dictionaries.csv\")\n",
    "corpus.convert_raw_corpus_to_trainable_corpus()\n",
    "\n",
    "# JointLDAs = [\"/home/ponshane/work_dir/CLTM-Experiments/Results/EN-ZH-MLDoc/model-comparison/JointLDA-10topics.pickle\",\n",
    "#             \"/home/ponshane/work_dir/CLTM-Experiments/Results/EN-ZH-MLDoc/model-comparison/JointLDA-20topics.pickle\",\n",
    "#             \"/home/ponshane/work_dir/CLTM-Experiments/Results/EN-ZH-MLDoc/model-comparison/JointLDA-30topics.pickle\"]\n",
    "\n",
    "JointLDAs = [\"/home/ponshane/work_dir/CLTM-Experiments/Results/EN-ZH-MLDoc/model-comparison/JointLDA-40topics.pickle\",\n",
    "            \"/home/ponshane/work_dir/CLTM-Experiments/Results/EN-ZH-MLDoc/model-comparison/JointLDA-50topics.pickle\"]\n",
    "\n",
    "for idx, model_path in enumerate(JointLDAs):\n",
    "    with open(model_path, 'rb') as handle:\n",
    "        model = pickle.load(handle)\n",
    "        \n",
    "    source_topic_list, target_topic_list = split_topics_by_languages(n_topic=(idx+1)*10, n_words=1000,\n",
    "                                                                model=model, corpus=corpus)\n",
    "                                                                         \n",
    "    for topk in range(10, 51, 10):\n",
    "        JointLDA_mean, JointLDA_std, cn_coverage, en_coverage = REF_coherence_score(source_topic_list,\n",
    "                                                                                    target_topic_list,\n",
    "                                                                                    topk, tdm, dictionary)\n",
    "        print(\"{}, {}, {}, {}, {}\".format(basename(model_path), str(topk), str(round(JointLDA_mean, 3)) + \"(\" + str(round(JointLDA_std, 3)) + \")\",\n",
    "                                              cn_coverage, en_coverage))"
   ]
  },
  {
   "cell_type": "code",
   "execution_count": 8,
   "metadata": {},
   "outputs": [
    {
     "name": "stderr",
     "output_type": "stream",
     "text": [
      "2020-09-02 01:55:30 INFO:JointCorpus:size of concept: 1979, size of source vocab: 14254, size of target vocab: 12799\n",
      "2020-09-02 01:55:30 INFO:JointCorpus:Successfully generate idx corpus 'self.docs' and language flags 'self.language_flags'\n"
     ]
    },
    {
     "name": "stdout",
     "output_type": "stream",
     "text": [
      "JointLDA-40topics.pickle, 10, 0.112(0.143), 0.9400000000000001, 0.8400000000000001\n",
      "JointLDA-40topics.pickle, 20, 0.099(0.115), 0.945, 0.8549999999999999\n",
      "JointLDA-40topics.pickle, 30, 0.098(0.109), 0.9466666666666667, 0.8566666666666667\n",
      "JointLDA-40topics.pickle, 40, 0.095(0.106), 0.9475000000000001, 0.845\n",
      "JointLDA-40topics.pickle, 50, 0.096(0.1), 0.9499999999999998, 0.8560000000000001\n",
      "JointLDA-50topics.pickle, 10, 0.115(0.13), 0.93, 0.8400000000000001\n",
      "JointLDA-50topics.pickle, 20, 0.108(0.114), 0.9399999999999998, 0.8624999999999998\n",
      "JointLDA-50topics.pickle, 30, 0.103(0.112), 0.9466666666666665, 0.8616666666666667\n",
      "JointLDA-50topics.pickle, 40, 0.101(0.109), 0.9475, 0.8624999999999998\n",
      "JointLDA-50topics.pickle, 50, 0.1(0.103), 0.9480000000000002, 0.873\n"
     ]
    }
   ],
   "source": [
    "# NPMI\n",
    "# varying # of topics of full EN-JP MLDoc\n",
    "corpus = JointCorpus(source_corpus_file=\"/home/ponshane/work_dir/CLTM-Experiments/Data/EN-JP-MLDoc/MLDoc-English.txt\",\n",
    "                     target_corpus_file=\"/home/ponshane/work_dir/CLTM-Experiments/Data/EN-JP-MLDoc/MLDoc-Jpanese.txt\")\n",
    "corpus.update_doctionary(\"/home/ponshane/work_dir/CLTM-Experiments/Data/EN-JP-MLDoc/MLDoc_EN_JP_dictionaries.csv\")\n",
    "corpus.convert_raw_corpus_to_trainable_corpus()\n",
    "\n",
    "# JointLDAs = [\"/home/ponshane/work_dir/CLTM-Experiments/Results/EN-JP-MLDoc/model-comparison/JointLDA-10topics.pickle\",\n",
    "#             \"/home/ponshane/work_dir/CLTM-Experiments/Results/EN-JP-MLDoc/model-comparison/JointLDA-20topics.pickle\",\n",
    "#             \"/home/ponshane/work_dir/CLTM-Experiments/Results/EN-JP-MLDoc/model-comparison/JointLDA-30topics.pickle\"]\n",
    "\n",
    "JointLDAs = [\"/home/ponshane/work_dir/CLTM-Experiments/Results/EN-JP-MLDoc/model-comparison/JointLDA-40topics.pickle\",\n",
    "            \"/home/ponshane/work_dir/CLTM-Experiments/Results/EN-JP-MLDoc/model-comparison/JointLDA-50topics.pickle\"]\n",
    "\n",
    "for idx, model_path in enumerate(JointLDAs):\n",
    "    with open(model_path, 'rb') as handle:\n",
    "        model = pickle.load(handle)\n",
    "        \n",
    "    source_topic_list, target_topic_list = split_topics_by_languages(n_topic=(idx+1)*10, n_words=1000,\n",
    "                                                                model=model, corpus=corpus)\n",
    "                                                                         \n",
    "    for topk in range(10, 51, 10):\n",
    "        JointLDA_mean, JointLDA_std, jp_coverage, en_coverage = REF_coherence_score(source_topic_list,\n",
    "                                                                                    target_topic_list,\n",
    "                                                                                    topk, en_jp_tdm, en_jp_dictionary)\n",
    "        print(\"{}, {}, {}, {}, {}\".format(basename(model_path), str(topk), str(round(JointLDA_mean, 3)) + \"(\" + str(round(JointLDA_std, 3)) + \")\",\n",
    "                                              jp_coverage, en_coverage))"
   ]
  },
  {
   "cell_type": "code",
   "execution_count": null,
   "metadata": {},
   "outputs": [],
   "source": [
    "# NPMI for handcraft dictionary version\n",
    "corpus = JointCorpus(source_corpus_file=\"/home/ponshane/work_dir/CLTM-Experiments/Data/MLDoc/MLDoc-English.txt\",\n",
    "                     target_corpus_file=\"/home/ponshane/work_dir/CLTM-Experiments/Data/MLDoc/MLDoc-Chinese.txt\")\n",
    "corpus.update_doctionary(\"/home/ponshane/work_dir/CLTM-Experiments/Data/MLDoc/hand-craft-control-dictionary.txt\")\n",
    "corpus.convert_raw_corpus_to_trainable_corpus()\n",
    "\n",
    "\"\"\"\n",
    "JointLDAs = [\"/home/ponshane/work_dir/CLTM-Experiments/Results/MLDoc/hand-craft-mapping-comparison/JointLDA-hand-craft-10topics.pickle\",\n",
    "            \"/home/ponshane/work_dir/CLTM-Experiments/Results/MLDoc/hand-craft-mapping-comparison/JointLDA-hand-craft-20topics.pickle\",\n",
    "            \"/home/ponshane/work_dir/CLTM-Experiments/Results/MLDoc/hand-craft-mapping-comparison/JointLDA-hand-craft-30topics.pickle\"]\n",
    "\"\"\"\n",
    "\n",
    "JointLDAs = [\"/home/ponshane/work_dir/CLTM-Experiments/Results/MLDoc/hand-craft-mapping-comparison/JointLDA-hand-craft-40topics.pickle\",\n",
    "            \"/home/ponshane/work_dir/CLTM-Experiments/Results/MLDoc/hand-craft-mapping-comparison/JointLDA-hand-craft-50topics.pickle\"]\n",
    "\n",
    "for idx, model_path in enumerate(JointLDAs):\n",
    "    with open(model_path, 'rb') as handle:\n",
    "        model = pickle.load(handle)\n",
    "        \n",
    "    source_topic_list, target_topic_list = split_topics_by_languages(n_topic=(idx+1)*10, n_words=1000,\n",
    "                                                                model=model, corpus=corpus)\n",
    "                                                                         \n",
    "    for topk in range(10, 51, 10):\n",
    "        JointLDA_mean, JointLDA_std, cn_coverage, en_coverage = REF_coherence_score(source_topic_list,\n",
    "                                                                                    target_topic_list,\n",
    "                                                                                    topk, tdm, dictionary)\n",
    "        print(\"{}, {}, {}, {}, {}\".format(basename(model_path), str(topk), str(round(JointLDA_mean, 3)) + \"(\" + str(round(JointLDA_std, 3)) + \")\",\n",
    "                                              cn_coverage, en_coverage))"
   ]
  },
  {
   "cell_type": "code",
   "execution_count": null,
   "metadata": {},
   "outputs": [],
   "source": [
    "# qualitative evaluation\n",
    "corpus = JointCorpus(source_corpus_file=\"/home/ponshane/work_dir/CLTM-Experiments/Data/MLDoc/MLDoc-English.txt\",\n",
    "                     target_corpus_file=\"/home/ponshane/work_dir/CLTM-Experiments/Data/MLDoc/MLDoc-Chinese.txt\")\n",
    "corpus.update_doctionary(\"/home/ponshane/work_dir/CLTM-Experiments/Data/MLDoc/MLDoc_EN_ZH_dictionaries.csv\")\n",
    "corpus.convert_raw_corpus_to_trainable_corpus()\n",
    "\n",
    "JointLDAs = [\"/home/ponshane/work_dir/CLTM-Experiments/Results/MLDoc/model-comparison/JointLDA-10topics.pickle\"]\n",
    "\n",
    "for idx, model_path in enumerate(JointLDAs):\n",
    "    with open(model_path, 'rb') as handle:\n",
    "        model = pickle.load(handle)\n",
    "        \n",
    "    source_topic_list, target_topic_list = split_topics_by_languages(n_topic=(idx+1)*10, n_words=1000,\n",
    "                                                                model=model, corpus=corpus)\n",
    "    \n",
    "\" \".join(source_topic_list[9][:15])\n",
    "\" \".join(target_topic_list[9][:15])"
   ]
  },
  {
   "cell_type": "code",
   "execution_count": 5,
   "metadata": {},
   "outputs": [
    {
     "name": "stderr",
     "output_type": "stream",
     "text": [
      "2020-09-01 22:53:17 INFO:JointCorpus:size of concept: 541, size of source vocab: 14254, size of target vocab: 6760\n",
      "2020-09-01 22:53:17 INFO:JointCorpus:Successfully generate idx corpus 'self.docs' and language flags 'self.language_flags'\n"
     ]
    },
    {
     "name": "stdout",
     "output_type": "stream",
     "text": [
      "JointLDA-40topics.pickle, 10, 0.9822222222222222, 0.04103596736137641\n",
      "JointLDA-40topics.pickle, 20, 0.9883333333333333, 0.02362907813126308\n",
      "JointLDA-40topics.pickle, 30, 0.9922222222222222, 0.01575271875417538\n",
      "JointLDA-40topics.pickle, 40, 0.9938888888888889, 0.012533904636309426\n",
      "JointLDA-40topics.pickle, 50, 0.9948888888888889, 0.01056666082486111\n",
      "JointLDA-50topics.pickle, 10, 0.9839473684210527, 0.041424596919184445\n",
      "JointLDA-50topics.pickle, 20, 0.9905263157894737, 0.022413267736702665\n",
      "JointLDA-50topics.pickle, 30, 0.9928947368421053, 0.016198170653906774\n",
      "JointLDA-50topics.pickle, 40, 0.9942763157894737, 0.012636203923033494\n",
      "JointLDA-50topics.pickle, 50, 0.995, 0.010723805294763591\n"
     ]
    }
   ],
   "source": [
    "# Jaccard\n",
    "\n",
    "\"\"\" en-zh 1K train\n",
    "corpus = JointCorpus(source_corpus_file=\"/home/ponshane/work_dir/CLTM-Experiments/Data/MLDoc/MLDoc-English.txt\",\n",
    "                     target_corpus_file=\"/home/ponshane/work_dir/CLTM-Experiments/Data/MLDoc/MLDoc-Chinese.txt\")\n",
    "corpus.update_doctionary(\"/home/ponshane/work_dir/CLTM-Experiments/Data/MLDoc/MLDoc_EN_ZH_dictionaries.csv\")\n",
    "corpus.convert_raw_corpus_to_trainable_corpus()\n",
    "\n",
    "JointLDAs = [\"/home/ponshane/work_dir/CLTM-Experiments/Results/MLDoc/model-comparison/JointLDA-10topics.pickle\",\n",
    "            \"/home/ponshane/work_dir/CLTM-Experiments/Results/MLDoc/model-comparison/JointLDA-20topics.pickle\",\n",
    "            \"/home/ponshane/work_dir/CLTM-Experiments/Results/MLDoc/model-comparison/JointLDA-30topics.pickle\",\n",
    "            \"/home/ponshane/work_dir/CLTM-Experiments/Results/MLDoc/model-comparison/JointLDA-40topics.pickle\",\n",
    "            \"/home/ponshane/work_dir/CLTM-Experiments/Results/MLDoc/model-comparison/JointLDA-50topics.pickle\"]\n",
    "\"\"\"\n",
    "\n",
    "# en-zh 10K\n",
    "corpus = JointCorpus(source_corpus_file=\"/home/ponshane/work_dir/CLTM-Experiments/Data/EN-ZH-MLDoc/MLDoc-English.txt\",\n",
    "                     target_corpus_file=\"/home/ponshane/work_dir/CLTM-Experiments/Data/EN-ZH-MLDoc/MLDoc-Chinese.txt\")\n",
    "corpus.update_doctionary(\"/home/ponshane/work_dir/CLTM-Experiments/Data/EN-ZH-MLDoc/MLDoc_EN_ZH_dictionaries.csv\")\n",
    "corpus.convert_raw_corpus_to_trainable_corpus()\n",
    "\n",
    "# JointLDAs = [\"/home/ponshane/work_dir/CLTM-Experiments/Results/EN-ZH-MLDoc/model-comparison/JointLDA-10topics.pickle\",\n",
    "#             \"/home/ponshane/work_dir/CLTM-Experiments/Results/EN-ZH-MLDoc/model-comparison/JointLDA-20topics.pickle\",\n",
    "#             \"/home/ponshane/work_dir/CLTM-Experiments/Results/EN-ZH-MLDoc/model-comparison/JointLDA-30topics.pickle\"]\n",
    "JointLDAs = [\"/home/ponshane/work_dir/CLTM-Experiments/Results/EN-ZH-MLDoc/model-comparison/JointLDA-40topics.pickle\",\n",
    "            \"/home/ponshane/work_dir/CLTM-Experiments/Results/EN-ZH-MLDoc/model-comparison/JointLDA-50topics.pickle\"]\n",
    "\n",
    "for idx, model_path in enumerate(JointLDAs):\n",
    "    with open(model_path, 'rb') as handle:\n",
    "        model = pickle.load(handle)\n",
    "        \n",
    "    source_topic_list, target_topic_list = split_topics_by_languages(n_topic=(idx+1)*10, n_words=1000,\n",
    "                                                                 model=model, corpus=corpus)\n",
    "    \n",
    "    for topk in range(10, 51, 10):\n",
    "        mean_jaccard, std_jaccard = avg_jaccard_similarity_between_topics(source_topic_list, target_topic_list, topk)\n",
    "        print(\"{}, {}, {}, {}\".format(basename(model_path), str(topk), mean_jaccard, std_jaccard))"
   ]
  },
  {
   "cell_type": "code",
   "execution_count": 5,
   "metadata": {},
   "outputs": [
    {
     "name": "stderr",
     "output_type": "stream",
     "text": [
      "2020-09-02 01:52:15 INFO:JointCorpus:size of concept: 1979, size of source vocab: 14254, size of target vocab: 12799\n",
      "2020-09-02 01:52:16 INFO:JointCorpus:Successfully generate idx corpus 'self.docs' and language flags 'self.language_flags'\n"
     ]
    },
    {
     "name": "stdout",
     "output_type": "stream",
     "text": [
      "JointLDA-40topics.pickle, 10, 0.9844444444444445, 0.036243347622889124\n",
      "JointLDA-40topics.pickle, 20, 0.991111111111111, 0.019116278371205848\n",
      "JointLDA-40topics.pickle, 30, 0.9937037037037038, 0.013047344410228555\n",
      "JointLDA-40topics.pickle, 40, 0.995, 0.01\n",
      "JointLDA-40topics.pickle, 50, 0.996, 0.008000000000000005\n",
      "JointLDA-50topics.pickle, 10, 0.9728947368421053, 0.05157559065339463\n",
      "JointLDA-50topics.pickle, 20, 0.9844736842105264, 0.027308892750690157\n",
      "JointLDA-50topics.pickle, 30, 0.9892982456140351, 0.018640299277534304\n",
      "JointLDA-50topics.pickle, 40, 0.9909868421052632, 0.015044227272885378\n",
      "JointLDA-50topics.pickle, 50, 0.9922631578947368, 0.012654693763115211\n"
     ]
    }
   ],
   "source": [
    "# jaccard\n",
    "# en-jp 10K\n",
    "corpus = JointCorpus(source_corpus_file=\"/home/ponshane/work_dir/CLTM-Experiments/Data/EN-JP-MLDoc/MLDoc-English.txt\",\n",
    "                     target_corpus_file=\"/home/ponshane/work_dir/CLTM-Experiments/Data/EN-JP-MLDoc/MLDoc-Jpanese.txt\")\n",
    "corpus.update_doctionary(\"/home/ponshane/work_dir/CLTM-Experiments/Data/EN-JP-MLDoc/MLDoc_EN_JP_dictionaries.csv\")\n",
    "corpus.convert_raw_corpus_to_trainable_corpus()\n",
    "\n",
    "# JointLDAs = [\"/home/ponshane/work_dir/CLTM-Experiments/Results/EN-JP-MLDoc/model-comparison/JointLDA-10topics.pickle\",\n",
    "#             \"/home/ponshane/work_dir/CLTM-Experiments/Results/EN-JP-MLDoc/model-comparison/JointLDA-20topics.pickle\",\n",
    "#             \"/home/ponshane/work_dir/CLTM-Experiments/Results/EN-JP-MLDoc/model-comparison/JointLDA-30topics.pickle\"]\n",
    "\n",
    "JointLDAs = [\"/home/ponshane/work_dir/CLTM-Experiments/Results/EN-JP-MLDoc/model-comparison/JointLDA-40topics.pickle\",\n",
    "            \"/home/ponshane/work_dir/CLTM-Experiments/Results/EN-JP-MLDoc/model-comparison/JointLDA-50topics.pickle\"]\n",
    "             \n",
    "for idx, model_path in enumerate(JointLDAs):\n",
    "    with open(model_path, 'rb') as handle:\n",
    "        model = pickle.load(handle)\n",
    "        \n",
    "    source_topic_list, target_topic_list = split_topics_by_languages(n_topic=(idx+1)*10, n_words=1000,\n",
    "                                                                 model=model, corpus=corpus)\n",
    "    \n",
    "    for topk in range(10, 51, 10):\n",
    "        mean_jaccard, std_jaccard = avg_jaccard_similarity_between_topics(source_topic_list, target_topic_list, topk)\n",
    "        print(\"{}, {}, {}, {}\".format(basename(model_path), str(topk), mean_jaccard, std_jaccard))"
   ]
  },
  {
   "cell_type": "code",
   "execution_count": 8,
   "metadata": {},
   "outputs": [
    {
     "name": "stderr",
     "output_type": "stream",
     "text": [
      "2019-05-01 16:00:59 INFO:JointCorpus:size of concept: 832, size of source vocab: 11021, size of target vocab: 6688\n",
      "2019-05-01 16:00:59 INFO:JointCorpus:Successfully generate idx corpus 'self.docs' and language flags 'self.language_flags'\n"
     ]
    },
    {
     "name": "stdout",
     "output_type": "stream",
     "text": [
      "JointLDA-hand-craft-10topics.pickle, 10, 0.6, 0.7\n",
      "JointLDA-hand-craft-10topics.pickle, 20, 0.65, 0.65\n",
      "JointLDA-hand-craft-10topics.pickle, 30, 0.6333333333333333, 0.6333333333333333\n",
      "JointLDA-hand-craft-10topics.pickle, 40, 0.55, 0.625\n",
      "JointLDA-hand-craft-10topics.pickle, 50, 0.54, 0.56\n",
      "JointLDA-hand-craft-20topics.pickle, 10, 0.5, 0.5\n",
      "JointLDA-hand-craft-20topics.pickle, 20, 0.5, 0.5\n",
      "JointLDA-hand-craft-20topics.pickle, 30, 0.5333333333333333, 0.5666666666666667\n",
      "JointLDA-hand-craft-20topics.pickle, 40, 0.5, 0.525\n",
      "JointLDA-hand-craft-20topics.pickle, 50, 0.5, 0.58\n",
      "JointLDA-hand-craft-30topics.pickle, 10, 0.5, 0.5\n",
      "JointLDA-hand-craft-30topics.pickle, 20, 0.55, 0.55\n",
      "JointLDA-hand-craft-30topics.pickle, 30, 0.6, 0.6\n",
      "JointLDA-hand-craft-30topics.pickle, 40, 0.5, 0.6\n",
      "JointLDA-hand-craft-30topics.pickle, 50, 0.5, 0.58\n",
      "JointLDA-hand-craft-40topics.pickle, 10, 0.4, 0.5\n",
      "JointLDA-hand-craft-40topics.pickle, 20, 0.5, 0.6\n",
      "JointLDA-hand-craft-40topics.pickle, 30, 0.5333333333333333, 0.6\n",
      "JointLDA-hand-craft-40topics.pickle, 40, 0.6, 0.6\n",
      "JointLDA-hand-craft-40topics.pickle, 50, 0.6, 0.56\n",
      "JointLDA-hand-craft-50topics.pickle, 10, 0.5, 0.5\n",
      "JointLDA-hand-craft-50topics.pickle, 20, 0.45, 0.5\n",
      "JointLDA-hand-craft-50topics.pickle, 30, 0.43333333333333335, 0.6\n",
      "JointLDA-hand-craft-50topics.pickle, 40, 0.525, 0.625\n",
      "JointLDA-hand-craft-50topics.pickle, 50, 0.54, 0.6\n"
     ]
    }
   ],
   "source": [
    "# unique word\n",
    "\"\"\"\n",
    "corpus = JointCorpus(source_corpus_file=\"/home/ponshane/work_dir/CLTM-Experiments/Data/MLDoc/MLDoc-English.txt\",\n",
    "                     target_corpus_file=\"/home/ponshane/work_dir/CLTM-Experiments/Data/MLDoc/MLDoc-Chinese.txt\")\n",
    "corpus.update_doctionary(\"/home/ponshane/work_dir/CLTM-Experiments/Data/MLDoc/MLDoc_EN_ZH_dictionaries.csv\")\n",
    "corpus.convert_raw_corpus_to_trainable_corpus()\n",
    "\n",
    "JointLDAs = [\"/home/ponshane/work_dir/CLTM-Experiments/Results/MLDoc/model-comparison/JointLDA-10topics.pickle\",\n",
    "            \"/home/ponshane/work_dir/CLTM-Experiments/Results/MLDoc/model-comparison/JointLDA-20topics.pickle\",\n",
    "            \"/home/ponshane/work_dir/CLTM-Experiments/Results/MLDoc/model-comparison/JointLDA-30topics.pickle\",\n",
    "            \"/home/ponshane/work_dir/CLTM-Experiments/Results/MLDoc/model-comparison/JointLDA-40topics.pickle\",\n",
    "            \"/home/ponshane/work_dir/CLTM-Experiments/Results/MLDoc/model-comparison/JointLDA-50topics.pickle\"]\n",
    "\"\"\"\n",
    "\n",
    "corpus = JointCorpus(source_corpus_file=\"/home/ponshane/work_dir/CLTM-Experiments/Data/MLDoc/MLDoc-English.txt\",\n",
    "                     target_corpus_file=\"/home/ponshane/work_dir/CLTM-Experiments/Data/MLDoc/MLDoc-Chinese.txt\")\n",
    "corpus.update_doctionary(\"/home/ponshane/work_dir/CLTM-Experiments/Data/MLDoc/hand-craft-control-dictionary.txt\")\n",
    "corpus.convert_raw_corpus_to_trainable_corpus()\n",
    "\n",
    "JointLDAs = [\"/home/ponshane/work_dir/CLTM-Experiments/Results/MLDoc/hand-craft-mapping-comparison/JointLDA-hand-craft-10topics.pickle\",\n",
    "            \"/home/ponshane/work_dir/CLTM-Experiments/Results/MLDoc/hand-craft-mapping-comparison/JointLDA-hand-craft-20topics.pickle\",\n",
    "            \"/home/ponshane/work_dir/CLTM-Experiments/Results/MLDoc/hand-craft-mapping-comparison/JointLDA-hand-craft-30topics.pickle\",\n",
    "             \"/home/ponshane/work_dir/CLTM-Experiments/Results/MLDoc/hand-craft-mapping-comparison/JointLDA-hand-craft-40topics.pickle\",\n",
    "            \"/home/ponshane/work_dir/CLTM-Experiments/Results/MLDoc/hand-craft-mapping-comparison/JointLDA-hand-craft-50topics.pickle\"]\n",
    "\n",
    "for idx, model_path in enumerate(JointLDAs):\n",
    "    with open(model_path, 'rb') as handle:\n",
    "        model = pickle.load(handle)\n",
    "        \n",
    "    source_topic_list, target_topic_list = split_topics_by_languages(n_topic=(idx+1)*10, n_words=1000,\n",
    "                                                                 model=model, corpus=corpus)\n",
    "    \n",
    "    for topk in range(10, 51, 10):\n",
    "        chinese_unique_words_p, English_unique_words_p = unique_words_proportion_between_topics(source_topic_list, target_topic_list, topk)\n",
    "        print(\"{}, {}, {}, {}\".format(basename(model_path), str(topk), chinese_unique_words_p, English_unique_words_p))"
   ]
  },
  {
   "cell_type": "code",
   "execution_count": null,
   "metadata": {},
   "outputs": [],
   "source": [
    "# acc\n",
    "\"\"\"\n",
    "JointLDAs = [\"/home/ponshane/work_dir/CLTM-Experiments/Results/MLDoc/model-comparison/JointLDA-10topics.pickle\",\n",
    "            \"/home/ponshane/work_dir/CLTM-Experiments/Results/MLDoc/model-comparison/JointLDA-20topics.pickle\",\n",
    "            \"/home/ponshane/work_dir/CLTM-Experiments/Results/MLDoc/model-comparison/JointLDA-30topics.pickle\",\n",
    "            \"/home/ponshane/work_dir/CLTM-Experiments/Results/MLDoc/model-comparison/JointLDA-40topics.pickle\",\n",
    "            \"/home/ponshane/work_dir/CLTM-Experiments/Results/MLDoc/model-comparison/JointLDA-50topics.pickle\"]\n",
    "\"\"\"\n",
    "\n",
    "\"\"\"\n",
    "JointLDAs = [\"/home/ponshane/work_dir/CLTM-Experiments/Results/MLDoc/hand-craft-mapping-comparison/JointLDA-hand-craft-10topics.pickle\",\n",
    "            \"/home/ponshane/work_dir/CLTM-Experiments/Results/MLDoc/hand-craft-mapping-comparison/JointLDA-hand-craft-20topics.pickle\",\n",
    "            \"/home/ponshane/work_dir/CLTM-Experiments/Results/MLDoc/hand-craft-mapping-comparison/JointLDA-hand-craft-30topics.pickle\",\n",
    "            \"/home/ponshane/work_dir/CLTM-Experiments/Results/MLDoc/hand-craft-mapping-comparison/JointLDA-hand-craft-40topics.pickle\",\n",
    "            \"/home/ponshane/work_dir/CLTM-Experiments/Results/MLDoc/hand-craft-mapping-comparison/JointLDA-hand-craft-50topics.pickle\"]\n",
    "\"\"\"\n",
    "\n",
    "# en-zh 10K\n",
    "# JointLDAs = [\"/home/ponshane/work_dir/CLTM-Experiments/Results/EN-ZH-MLDoc/model-comparison/JointLDA-10topics.pickle\",\n",
    "#             \"/home/ponshane/work_dir/CLTM-Experiments/Results/EN-ZH-MLDoc/model-comparison/JointLDA-20topics.pickle\",\n",
    "#             \"/home/ponshane/work_dir/CLTM-Experiments/Results/EN-ZH-MLDoc/model-comparison/JointLDA-30topics.pickle\"]\n",
    "JointLDAs = [\"/home/ponshane/work_dir/CLTM-Experiments/Results/EN-ZH-MLDoc/model-comparison/JointLDA-40topics.pickle\",\n",
    "            \"/home/ponshane/work_dir/CLTM-Experiments/Results/EN-ZH-MLDoc/model-comparison/JointLDA-50topics.pickle\"]\n",
    "\n",
    "corpus_pd = \"/home/ponshane/work_dir/CLTM-Experiments/Data/EN-ZH-MLDoc/Shuffled_RS168_tagged_englishAndchinese_corpus_pd.pkl\"\n",
    "dictionary_pk = \"/home/ponshane/work_dir/CLTM-Experiments/Data/EN-ZH-MLDoc/inverse-index-mapping-dict.pickle\"\n",
    "acc_dict = evaluate_theta_of_JointLDA_on_MLDoc(corpus_pd, \"Chinese\", JointLDAs, dictionary_pk)"
   ]
  },
  {
   "cell_type": "code",
   "execution_count": 7,
   "metadata": {},
   "outputs": [
    {
     "name": "stdout",
     "output_type": "stream",
     "text": [
      "file,dev_num,test_num\n",
      "JointLDA-40topics.pickle,0.902,0.32225\n",
      "JointLDA-50topics.pickle,0.904,0.16675\n"
     ]
    }
   ],
   "source": [
    "dict_structure_printer(acc_dict)"
   ]
  },
  {
   "cell_type": "code",
   "execution_count": null,
   "metadata": {},
   "outputs": [],
   "source": [
    "# acc\n",
    "# en-jp 10K\n",
    "# JointLDAs = [\"/home/ponshane/work_dir/CLTM-Experiments/Results/EN-JP-MLDoc/model-comparison/JointLDA-10topics.pickle\",\n",
    "#             \"/home/ponshane/work_dir/CLTM-Experiments/Results/EN-JP-MLDoc/model-comparison/JointLDA-20topics.pickle\",\n",
    "#             \"/home/ponshane/work_dir/CLTM-Experiments/Results/EN-JP-MLDoc/model-comparison/JointLDA-30topics.pickle\"]\n",
    "\n",
    "JointLDAs = [\"/home/ponshane/work_dir/CLTM-Experiments/Results/EN-JP-MLDoc/model-comparison/JointLDA-40topics.pickle\",\n",
    "            \"/home/ponshane/work_dir/CLTM-Experiments/Results/EN-JP-MLDoc/model-comparison/JointLDA-50topics.pickle\"]\n",
    " \n",
    "corpus_pd = \"/home/ponshane/work_dir/CLTM-Experiments/Data/EN-JP-MLDoc/Shuffled_RS666_tagged_englishAndjapanese_corpus_pd.pkl\"\n",
    "dictionary_pk = \"/home/ponshane/work_dir/CLTM-Experiments/Data/EN-JP-MLDoc/en-jp-inverse-index-mapping-dict.pickle\"\n",
    "acc_dict = evaluate_theta_of_JointLDA_on_MLDoc(corpus_pd, \"Japanese\", JointLDAs, dictionary_pk)"
   ]
  },
  {
   "cell_type": "code",
   "execution_count": 7,
   "metadata": {},
   "outputs": [
    {
     "name": "stdout",
     "output_type": "stream",
     "text": [
      "file,dev_num,test_num\n",
      "JointLDA-40topics.pickle,0.899,0.26\n",
      "JointLDA-50topics.pickle,0.901,0.16525\n"
     ]
    }
   ],
   "source": [
    "dict_structure_printer(acc_dict)"
   ]
  },
  {
   "cell_type": "markdown",
   "metadata": {},
   "source": [
    "# PMLDA"
   ]
  },
  {
   "cell_type": "code",
   "execution_count": 16,
   "metadata": {},
   "outputs": [
    {
     "name": "stdout",
     "output_type": "stream",
     "text": [
      "2\n",
      "0\n",
      "2\n",
      "1\n",
      "1\n"
     ]
    }
   ],
   "source": [
    "# num of cross-lingual topics\n",
    "# PMLDA_models = [\"/home/ponshane/work_dir/CLTM-Experiments/Results/MLDoc/model-comparison/PMLDA-10topics-10rep.pkl\",\n",
    "#                \"/home/ponshane/work_dir/CLTM-Experiments/Results/MLDoc/model-comparison/PMLDA-20topics-10rep.pkl\",\n",
    "#                \"/home/ponshane/work_dir/CLTM-Experiments/Results/MLDoc/model-comparison/PMLDA-30topics-10rep.pkl\",\n",
    "#                \"/home/ponshane/work_dir/CLTM-Experiments/Results/MLDoc/model-comparison/PMLDA-40topics-10rep.pkl\",\n",
    "#                \"/home/ponshane/work_dir/CLTM-Experiments/Results/MLDoc/model-comparison/PMLDA-50topics-10rep.pkl\"]\n",
    "\n",
    "# en-zh 10K train\n",
    "PMLDA_models = [\"/home/ponshane/work_dir/CLTM-Experiments/Results/EN-ZH-MLDoc/model-comparison/PMLDA-10topics-10rep.pkl\",\n",
    "               \"/home/ponshane/work_dir/CLTM-Experiments/Results/EN-ZH-MLDoc/model-comparison/PMLDA-20topics-10rep.pkl\",\n",
    "               \"/home/ponshane/work_dir/CLTM-Experiments/Results/EN-ZH-MLDoc/model-comparison/PMLDA-30topics-10rep.pkl\",\n",
    "               \"/home/ponshane/work_dir/CLTM-Experiments/Results/EN-ZH-MLDoc/model-comparison/PMLDA-40topics-10rep.pkl\",\n",
    "               \"/home/ponshane/work_dir/CLTM-Experiments/Results/EN-ZH-MLDoc/model-comparison/PMLDA-50topics-10rep.pkl\"]\n",
    "\n",
    "for select_PMLDA in PMLDA_models:\n",
    "    splitted_cluster, _, _ = load_pmlda_cluster(select_PMLDA)\n",
    "    ch_topics = [ topic[0] for topic in splitted_cluster if len(topic[0]) > 0 and len(topic[1]) > 0 ]\n",
    "    en_topics = [ topic[1] for topic in splitted_cluster if len(topic[0]) > 0 and len(topic[1]) > 0 ]\n",
    "    print(len(ch_topics))      "
   ]
  },
  {
   "cell_type": "code",
   "execution_count": 9,
   "metadata": {},
   "outputs": [
    {
     "name": "stdout",
     "output_type": "stream",
     "text": [
      "1\n",
      "0\n",
      "0\n",
      "3\n",
      "1\n"
     ]
    }
   ],
   "source": [
    "# num of cross-lingual topics\n",
    "# en-jp 10K train\n",
    "PMLDA_models = [\"/home/ponshane/work_dir/CLTM-Experiments/Results/EN-JP-MLDoc/model-comparison/PMLDA-10topics-10rep.pkl\",\n",
    "               \"/home/ponshane/work_dir/CLTM-Experiments/Results/EN-JP-MLDoc/model-comparison/PMLDA-20topics-10rep.pkl\",\n",
    "               \"/home/ponshane/work_dir/CLTM-Experiments/Results/EN-JP-MLDoc/model-comparison/PMLDA-30topics-10rep.pkl\",\n",
    "               \"/home/ponshane/work_dir/CLTM-Experiments/Results/EN-JP-MLDoc/model-comparison/PMLDA-40topics-10rep.pkl\",\n",
    "               \"/home/ponshane/work_dir/CLTM-Experiments/Results/EN-JP-MLDoc/model-comparison/PMLDA-50topics-10rep.pkl\"]\n",
    "\n",
    "for select_PMLDA in PMLDA_models:\n",
    "    splitted_cluster, _, _ = load_pmlda_cluster(select_PMLDA)\n",
    "    jp_topics = [ topic[0] for topic in splitted_cluster if len(topic[0]) > 0 and len(topic[1]) > 0 ]\n",
    "    en_topics = [ topic[1] for topic in splitted_cluster if len(topic[0]) > 0 and len(topic[1]) > 0 ]\n",
    "    print(len(jp_topics))"
   ]
  },
  {
   "cell_type": "code",
   "execution_count": null,
   "metadata": {},
   "outputs": [],
   "source": [
    "# NPMI\n",
    "# PMLDA_models = [\"/home/ponshane/work_dir/CLTM-Experiments/Results/MLDoc/model-comparison/PMLDA-10topics-10rep.pkl\",\n",
    "#                \"/home/ponshane/work_dir/CLTM-Experiments/Results/MLDoc/model-comparison/PMLDA-20topics-10rep.pkl\",\n",
    "#                \"/home/ponshane/work_dir/CLTM-Experiments/Results/MLDoc/model-comparison/PMLDA-30topics-10rep.pkl\",\n",
    "#                \"/home/ponshane/work_dir/CLTM-Experiments/Results/MLDoc/model-comparison/PMLDA-40topics-10rep.pkl\",\n",
    "#                \"/home/ponshane/work_dir/CLTM-Experiments/Results/MLDoc/model-comparison/PMLDA-50topics-10rep.pkl\"]\n",
    "\n",
    "# en-zh 10K train\n",
    "PMLDA_models = [\"/home/ponshane/work_dir/CLTM-Experiments/Results/EN-ZH-MLDoc/model-comparison/PMLDA-10topics-10rep.pkl\",\n",
    "               \"/home/ponshane/work_dir/CLTM-Experiments/Results/EN-ZH-MLDoc/model-comparison/PMLDA-20topics-10rep.pkl\",\n",
    "               \"/home/ponshane/work_dir/CLTM-Experiments/Results/EN-ZH-MLDoc/model-comparison/PMLDA-30topics-10rep.pkl\",\n",
    "               \"/home/ponshane/work_dir/CLTM-Experiments/Results/EN-ZH-MLDoc/model-comparison/PMLDA-40topics-10rep.pkl\",\n",
    "               \"/home/ponshane/work_dir/CLTM-Experiments/Results/EN-ZH-MLDoc/model-comparison/PMLDA-50topics-10rep.pkl\"]\n",
    "\n",
    "for PMLDA_model in PMLDA_models:\n",
    "    splitted_cluster, _, _ = load_pmlda_cluster(PMLDA_model)\n",
    "\n",
    "    ch_topics = [ topic[0] for topic in splitted_cluster if len(topic[0]) > 0 and len(topic[1]) > 0 ]\n",
    "    en_topics = [ topic[1] for topic in splitted_cluster if len(topic[0]) > 0 and len(topic[1]) > 0 ]\n",
    "\n",
    "    for topk in range(10, 51, 10):\n",
    "        PMLDA_mean, PMLDA_std, cn_coverage, en_coverage = REF_coherence_score(ch_topics,\n",
    "                                                                              en_topics, topk,\n",
    "                                                                              tdm, dictionary)\n",
    "        print(\"{}, {}, {}, {}, {}\".format(basename(PMLDA_model), str(topk), str(round(PMLDA_mean, 3)) + \"(\" + str(round(PMLDA_std, 3)) + \")\",\n",
    "                                              cn_coverage, en_coverage))"
   ]
  },
  {
   "cell_type": "code",
   "execution_count": null,
   "metadata": {},
   "outputs": [],
   "source": [
    "# unique words\n",
    "# it is arguable, resultant topics are few cross-lingual topics\n",
    "PMLDA_models = [\"/home/ponshane/work_dir/CLTM-Experiments/Results/MLDoc/model-comparison/PMLDA-10topics-10rep.pkl\",\n",
    "               \"/home/ponshane/work_dir/CLTM-Experiments/Results/MLDoc/model-comparison/PMLDA-20topics-10rep.pkl\",\n",
    "               \"/home/ponshane/work_dir/CLTM-Experiments/Results/MLDoc/model-comparison/PMLDA-30topics-10rep.pkl\",\n",
    "               \"/home/ponshane/work_dir/CLTM-Experiments/Results/MLDoc/model-comparison/PMLDA-40topics-10rep.pkl\",\n",
    "               \"/home/ponshane/work_dir/CLTM-Experiments/Results/MLDoc/model-comparison/PMLDA-50topics-10rep.pkl\"]\n",
    "\n",
    "for PMLDA_model in PMLDA_models:\n",
    "    splitted_cluster, _, _ = load_pmlda_cluster(PMLDA_model)\n",
    "\n",
    "    ch_topics = [ topic[0] for topic in splitted_cluster if len(topic[0]) > 0 and len(topic[1]) > 0 ]\n",
    "    en_topics = [ topic[1] for topic in splitted_cluster if len(topic[0]) > 0 and len(topic[1]) > 0 ]\n",
    "    \n",
    "    for topk in range(10, 51, 10):\n",
    "        chinese_unique_words_p, English_unique_words_p = unique_words_proportion_between_topics(ch_topics, en_topics, topk)\n",
    "        print(\"{}, {}, {}, {}\".format(basename(PMLDA_model), str(topk), chinese_unique_words_p, English_unique_words_p))"
   ]
  },
  {
   "cell_type": "code",
   "execution_count": null,
   "metadata": {},
   "outputs": [],
   "source": [
    "# accuracy\n",
    "# PMLDA_models = [\"/home/ponshane/work_dir/CLTM-Experiments/Results/MLDoc/model-comparison/PMLDA-10topics-10rep.pkl\",\n",
    "#                \"/home/ponshane/work_dir/CLTM-Experiments/Results/MLDoc/model-comparison/PMLDA-20topics-10rep.pkl\",\n",
    "#                \"/home/ponshane/work_dir/CLTM-Experiments/Results/MLDoc/model-comparison/PMLDA-30topics-10rep.pkl\",\n",
    "#                \"/home/ponshane/work_dir/CLTM-Experiments/Results/MLDoc/model-comparison/PMLDA-40topics-10rep.pkl\",\n",
    "#                \"/home/ponshane/work_dir/CLTM-Experiments/Results/MLDoc/model-comparison/PMLDA-50topics-10rep.pkl\"]\n",
    "\n",
    "# en-zh 10K train\n",
    "PMLDA_models = [\"/home/ponshane/work_dir/CLTM-Experiments/Results/EN-ZH-MLDoc/model-comparison/PMLDA-10topics-10rep.pkl\",\n",
    "               \"/home/ponshane/work_dir/CLTM-Experiments/Results/EN-ZH-MLDoc/model-comparison/PMLDA-20topics-10rep.pkl\",\n",
    "               \"/home/ponshane/work_dir/CLTM-Experiments/Results/EN-ZH-MLDoc/model-comparison/PMLDA-30topics-10rep.pkl\",\n",
    "               \"/home/ponshane/work_dir/CLTM-Experiments/Results/EN-ZH-MLDoc/model-comparison/PMLDA-40topics-10rep.pkl\",\n",
    "               \"/home/ponshane/work_dir/CLTM-Experiments/Results/EN-ZH-MLDoc/model-comparison/PMLDA-50topics-10rep.pkl\"]\n",
    "\n",
    "corpus_pd = \"/home/ponshane/work_dir/CLTM-Experiments/Data/EN-ZH-MLDoc/Shuffled_RS168_tagged_englishAndchinese_corpus_pd.pkl\"\n",
    "dictionary_pk = \"/home/ponshane/work_dir/CLTM-Experiments/Data/EN-ZH-MLDoc/inverse-index-mapping-dict.pickle\"\n",
    "acc_dict = evaluate_theta_of_PMLDA_on_MLDoc(corpus_pd, \"Chinese\", PMLDA_models, dictionary_pk)"
   ]
  },
  {
   "cell_type": "code",
   "execution_count": 9,
   "metadata": {},
   "outputs": [
    {
     "name": "stdout",
     "output_type": "stream",
     "text": [
      "file,dev_num,test_num\n",
      "PMLDA-10topics-10rep.pkl,0.776,0.20825\n",
      "PMLDA-20topics-10rep.pkl,0.86,0.09075\n",
      "PMLDA-30topics-10rep.pkl,0.828,0.14525\n",
      "PMLDA-40topics-10rep.pkl,0.833,0.13525\n",
      "PMLDA-50topics-10rep.pkl,0.874,0.11375\n"
     ]
    }
   ],
   "source": [
    "dict_structure_printer(acc_dict)"
   ]
  },
  {
   "cell_type": "code",
   "execution_count": null,
   "metadata": {},
   "outputs": [],
   "source": [
    "# accuracy\n",
    "# en-jp 10K train\n",
    "\n",
    "PMLDA_models = [\"/home/ponshane/work_dir/CLTM-Experiments/Results/EN-JP-MLDoc/model-comparison/PMLDA-10topics-10rep.pkl\",\n",
    "               \"/home/ponshane/work_dir/CLTM-Experiments/Results/EN-JP-MLDoc/model-comparison/PMLDA-20topics-10rep.pkl\",\n",
    "               \"/home/ponshane/work_dir/CLTM-Experiments/Results/EN-JP-MLDoc/model-comparison/PMLDA-30topics-10rep.pkl\",\n",
    "               \"/home/ponshane/work_dir/CLTM-Experiments/Results/EN-JP-MLDoc/model-comparison/PMLDA-40topics-10rep.pkl\",\n",
    "               \"/home/ponshane/work_dir/CLTM-Experiments/Results/EN-JP-MLDoc/model-comparison/PMLDA-50topics-10rep.pkl\"]\n",
    "\n",
    "corpus_pd = \"/home/ponshane/work_dir/CLTM-Experiments/Data/EN-JP-MLDoc/Shuffled_RS666_tagged_englishAndjapanese_corpus_pd.pkl\"\n",
    "dictionary_pk = \"/home/ponshane/work_dir/CLTM-Experiments/Data/EN-JP-MLDoc/en-jp-inverse-index-mapping-dict.pickle\"\n",
    "acc_dict = evaluate_theta_of_PMLDA_on_MLDoc(corpus_pd, \"Japanese\", PMLDA_models, dictionary_pk)"
   ]
  },
  {
   "cell_type": "code",
   "execution_count": 11,
   "metadata": {},
   "outputs": [
    {
     "name": "stdout",
     "output_type": "stream",
     "text": [
      "file,dev_num,test_num\n",
      "PMLDA-10topics-10rep.pkl,0.888,0.38575\n",
      "PMLDA-20topics-10rep.pkl,0.84,0.24525\n",
      "PMLDA-30topics-10rep.pkl,0.842,0.24525\n",
      "PMLDA-40topics-10rep.pkl,0.85,0.30525\n",
      "PMLDA-50topics-10rep.pkl,0.888,0.28625\n"
     ]
    }
   ],
   "source": [
    "dict_structure_printer(acc_dict)"
   ]
  },
  {
   "cell_type": "code",
   "execution_count": null,
   "metadata": {},
   "outputs": [],
   "source": [
    "# jaccard\n",
    "# PMLDA_models = [\"/home/ponshane/work_dir/CLTM-Experiments/Results/MLDoc/model-comparison/PMLDA-10topics-10rep.pkl\",\n",
    "#                \"/home/ponshane/work_dir/CLTM-Experiments/Results/MLDoc/model-comparison/PMLDA-20topics-10rep.pkl\",\n",
    "#                \"/home/ponshane/work_dir/CLTM-Experiments/Results/MLDoc/model-comparison/PMLDA-30topics-10rep.pkl\",\n",
    "#                \"/home/ponshane/work_dir/CLTM-Experiments/Results/MLDoc/model-comparison/PMLDA-40topics-10rep.pkl\",\n",
    "#                \"/home/ponshane/work_dir/CLTM-Experiments/Results/MLDoc/model-comparison/PMLDA-50topics-10rep.pkl\"]\n",
    "\n",
    "# en-zh 10K train\n",
    "PMLDA_models = [\"/home/ponshane/work_dir/CLTM-Experiments/Results/EN-ZH-MLDoc/model-comparison/PMLDA-10topics-10rep.pkl\",\n",
    "               \"/home/ponshane/work_dir/CLTM-Experiments/Results/EN-ZH-MLDoc/model-comparison/PMLDA-20topics-10rep.pkl\",\n",
    "               \"/home/ponshane/work_dir/CLTM-Experiments/Results/EN-ZH-MLDoc/model-comparison/PMLDA-30topics-10rep.pkl\",\n",
    "               \"/home/ponshane/work_dir/CLTM-Experiments/Results/EN-ZH-MLDoc/model-comparison/PMLDA-40topics-10rep.pkl\",\n",
    "               \"/home/ponshane/work_dir/CLTM-Experiments/Results/EN-ZH-MLDoc/model-comparison/PMLDA-50topics-10rep.pkl\"]\n",
    "\n",
    "for PMLDA_model in PMLDA_models:\n",
    "    splitted_cluster, _, _ = load_pmlda_cluster(PMLDA_model)\n",
    "    ch_topics = [ topic[0] for topic in splitted_cluster if len(topic[0]) > 0 and len(topic[1]) > 0 ]\n",
    "    en_topics = [ topic[1] for topic in splitted_cluster if len(topic[0]) > 0 and len(topic[1]) > 0 ]\n",
    "    \n",
    "    for topk in range(10, 51, 10):\n",
    "        mean_jaccard, std_jaccard = avg_jaccard_similarity_between_topics(ch_topics, en_topics, topk)\n",
    "        print(\"{}, {}, {}, {}\".format(basename(PMLDA_model), str(topk), mean_jaccard, std_jaccard))"
   ]
  }
 ],
 "metadata": {
  "kernelspec": {
   "display_name": "cross-lingual",
   "language": "python",
   "name": "cross-lingual"
  },
  "language_info": {
   "codemirror_mode": {
    "name": "ipython",
    "version": 3
   },
   "file_extension": ".py",
   "mimetype": "text/x-python",
   "name": "python",
   "nbconvert_exporter": "python",
   "pygments_lexer": "ipython3",
   "version": "3.6.4"
  }
 },
 "nbformat": 4,
 "nbformat_minor": 4
}
