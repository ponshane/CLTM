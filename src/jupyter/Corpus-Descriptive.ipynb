{
 "cells": [
  {
   "cell_type": "code",
   "execution_count": 1,
   "metadata": {},
   "outputs": [],
   "source": [
    "import sys\n",
    "# set python syspath to point out location of our self-writing module\n",
    "sys.path.append(\"/home/ponshane/work_dir/CLTM/src/codebase/\")\n",
    "\n",
    "from LanguageEmbedding import LanguageEmbedding"
   ]
  },
  {
   "cell_type": "markdown",
   "metadata": {},
   "source": [
    "# UM-Corpus & UM-Corpus 25K Word Types & Average #Tokens per document"
   ]
  },
  {
   "cell_type": "code",
   "execution_count": null,
   "metadata": {},
   "outputs": [],
   "source": [
    "with open(\"/home/ponshane/work_dir/CLTM-Experiments/Data/UM-Corpus/800K-sampled-docs/selected800KDos.txt\", \"r\") as handler:\n",
    "    docs = []\n",
    "    for line in handler:\n",
    "        docs.append(len(line.strip(\"\\n\").split(\" \")))"
   ]
  },
  {
   "cell_type": "code",
   "execution_count": null,
   "metadata": {},
   "outputs": [],
   "source": [
    "sum(docs)/len(docs)"
   ]
  },
  {
   "cell_type": "code",
   "execution_count": null,
   "metadata": {},
   "outputs": [],
   "source": [
    "counts = []"
   ]
  },
  {
   "cell_type": "code",
   "execution_count": null,
   "metadata": {},
   "outputs": [],
   "source": [
    "um_cn = \"/home/ponshane/work_dir/CLTM-Experiments/Data/UM-Corpus/800K-sampled-docs/800K_Chinese_UM_Corpus.txt\"\n",
    "with open(um_cn, \"r\") as handler:\n",
    "    cn_dict = {}\n",
    "    for line in handler:\n",
    "        temp = line.strip(\"\\n\").split(\" \")\n",
    "        counts.append(len(temp))\n",
    "        for word in temp:\n",
    "            if word not in cn_dict.keys():\n",
    "                cn_dict[word] = True"
   ]
  },
  {
   "cell_type": "code",
   "execution_count": null,
   "metadata": {},
   "outputs": [],
   "source": [
    "print(len(cn_dict), sum(counts)/len(counts))"
   ]
  },
  {
   "cell_type": "code",
   "execution_count": null,
   "metadata": {},
   "outputs": [],
   "source": [
    "um_en = \"/home/ponshane/work_dir/CLTM-Experiments/Data/UM-Corpus/800K-sampled-docs/800K_English_UM_Corpus.txt\"\n",
    "with open(um_en, \"r\") as handler:\n",
    "    en_dict = {}\n",
    "    for line in handler:\n",
    "        temp = line.strip(\"\\n\").split(\" \")\n",
    "        counts.append(len(temp))\n",
    "        for word in temp:\n",
    "            if word not in en_dict.keys():\n",
    "                en_dict[word] = True"
   ]
  },
  {
   "cell_type": "code",
   "execution_count": null,
   "metadata": {},
   "outputs": [],
   "source": [
    "print(len(en_dict), sum(counts)/len(counts))"
   ]
  },
  {
   "cell_type": "code",
   "execution_count": null,
   "metadata": {},
   "outputs": [],
   "source": [
    "concatenate_word_vectors = LanguageEmbedding.read_from_KeyedVectors(\"/home/ponshane/work_dir/CLTM-Experiments/Data/UM-Corpus/word-vectors/2018-09-27-ponshane-um-concatenate-wordvec-mikolov-100d.vec\")"
   ]
  },
  {
   "cell_type": "code",
   "execution_count": 12,
   "metadata": {},
   "outputs": [],
   "source": [
    "dict_path = \"/home/ponshane/work_dir/CLTM-Experiments/Data/UM-Corpus/50K-sampled-docs/um-corpus-news-top-translation.csv\"\n",
    "valid_pairs = {}\n",
    "with open(dict_path, \"r\") as handler:\n",
    "    for line in handler:\n",
    "        temp = line.strip(\"\\n\").split(\",\")\n",
    "        if temp[0] in concatenate_word_vectors.index2word and temp[1] in concatenate_word_vectors.index2word:\n",
    "            valid_pairs[temp[1]] = temp[0]"
   ]
  },
  {
   "cell_type": "code",
   "execution_count": null,
   "metadata": {},
   "outputs": [],
   "source": [
    "len(valid_pairs)"
   ]
  },
  {
   "cell_type": "code",
   "execution_count": null,
   "metadata": {},
   "outputs": [],
   "source": [
    "LanguageEmbedding.evaluate_translation_precision(concatenate_word_vectors, valid_pairs, print_match_pair=False)"
   ]
  },
  {
   "cell_type": "markdown",
   "metadata": {},
   "source": [
    "# MLDoc EN-JP"
   ]
  },
  {
   "cell_type": "markdown",
   "metadata": {},
   "source": [
    "## Dictionary Coverage"
   ]
  },
  {
   "cell_type": "code",
   "execution_count": 2,
   "metadata": {},
   "outputs": [],
   "source": [
    "concatenate_word_vectors = LanguageEmbedding.read_from_KeyedVectors(\"/home/ponshane/work_dir/CLTM-Experiments/Data/EN-JP-MLDoc/word-vectors/Japanese_English_wordvectors.vec\")"
   ]
  },
  {
   "cell_type": "code",
   "execution_count": 5,
   "metadata": {},
   "outputs": [],
   "source": [
    "dict_path = \"/home/ponshane/work_dir/CLTM/src/out/MLDoc/ja-en.txt\"\n",
    "valid_pairs = {}\n",
    "with open(dict_path, \"r\") as handler:\n",
    "    for line in handler:\n",
    "        temp = line.strip(\"\\n\").split(\"\\t\")\n",
    "        if temp[0] in concatenate_word_vectors.index2word and temp[1] in concatenate_word_vectors.index2word:\n",
    "            valid_pairs[temp[0]] = temp[1]"
   ]
  },
  {
   "cell_type": "code",
   "execution_count": 7,
   "metadata": {},
   "outputs": [
    {
     "data": {
      "text/plain": [
       "0.07269740844384961"
      ]
     },
     "execution_count": 7,
     "metadata": {},
     "output_type": "execute_result"
    }
   ],
   "source": [
    "len(valid_pairs) / len(concatenate_word_vectors.index2word)"
   ]
  },
  {
   "cell_type": "markdown",
   "metadata": {},
   "source": [
    "## Word types & Average #tokens per doc"
   ]
  },
  {
   "cell_type": "code",
   "execution_count": 1,
   "metadata": {},
   "outputs": [],
   "source": [
    "EN_PATH = \"/home/ponshane/work_dir/CLTM-Experiments/Data/EN-JP-MLDoc/MLDoc-English.txt\"\n",
    "JP_PATH = \"/home/ponshane/work_dir/CLTM-Experiments/Data/EN-JP-MLDoc/MLDoc-Jpanese.txt\"\n",
    "en_dict = dict()\n",
    "en_doc_length_list = []\n",
    "jp_dict = dict()\n",
    "jp_doc_length_list = []\n",
    "\n",
    "with open(EN_PATH, \"r\") as rf:\n",
    "    for doc in rf:\n",
    "        words = doc.rstrip().split(\" \")\n",
    "        for w in words:\n",
    "            en_dict[w] = True\n",
    "        en_doc_length_list.append(len(words))\n",
    "\n",
    "with open(JP_PATH, \"r\") as rf:\n",
    "    for doc in rf:\n",
    "        words = doc.rstrip().split(\" \")\n",
    "        for w in words:\n",
    "            jp_dict[w] = True\n",
    "        jp_doc_length_list.append(len(words))"
   ]
  },
  {
   "cell_type": "code",
   "execution_count": 3,
   "metadata": {},
   "outputs": [
    {
     "name": "stdout",
     "output_type": "stream",
     "text": [
      "14254 12800\n",
      "81.86636666666666\n"
     ]
    }
   ],
   "source": [
    "print(len(en_dict), len(jp_dict))\n",
    "print((sum(en_doc_length_list) + sum(jp_doc_length_list)) / 30000)"
   ]
  },
  {
   "cell_type": "markdown",
   "metadata": {},
   "source": [
    "# MLDoc En-Zh"
   ]
  },
  {
   "cell_type": "code",
   "execution_count": 4,
   "metadata": {},
   "outputs": [],
   "source": [
    "counts = []\n",
    "um_cn = \"/home/ponshane/work_dir/CLTM-Experiments/Data/EN-ZH-MLDoc/MLDoc-Chinese.txt\"\n",
    "with open(um_cn, \"r\") as handler:\n",
    "    cn_dict = {}\n",
    "    for line in handler:\n",
    "        temp = line.strip(\"\\n\").split(\" \")\n",
    "        counts.append(len(temp))\n",
    "        for word in temp:\n",
    "            if word not in cn_dict.keys():\n",
    "                cn_dict[word] = True"
   ]
  },
  {
   "cell_type": "code",
   "execution_count": 5,
   "metadata": {},
   "outputs": [
    {
     "name": "stdout",
     "output_type": "stream",
     "text": [
      "6760 67.12882576515302\n"
     ]
    }
   ],
   "source": [
    "print(len(cn_dict), sum(counts)/len(counts))"
   ]
  },
  {
   "cell_type": "code",
   "execution_count": 6,
   "metadata": {},
   "outputs": [],
   "source": [
    "counts = []\n",
    "um_en = \"/home/ponshane/work_dir/CLTM-Experiments/Data/EN-ZH-MLDoc/MLDoc-English.txt\"\n",
    "with open(um_en, \"r\") as handler:\n",
    "    en_dict = {}\n",
    "    for line in handler:\n",
    "        temp = line.strip(\"\\n\").split(\" \")\n",
    "        counts.append(len(temp))\n",
    "        for word in temp:\n",
    "            if word not in en_dict.keys():\n",
    "                en_dict[word] = True"
   ]
  },
  {
   "cell_type": "code",
   "execution_count": 7,
   "metadata": {},
   "outputs": [
    {
     "name": "stdout",
     "output_type": "stream",
     "text": [
      "14254 81.30326065213043\n"
     ]
    }
   ],
   "source": [
    "print(len(en_dict), sum(counts)/len(counts))"
   ]
  },
  {
   "cell_type": "code",
   "execution_count": 8,
   "metadata": {},
   "outputs": [
    {
     "data": {
      "text/plain": [
       "74.21604320864174"
      ]
     },
     "execution_count": 8,
     "metadata": {},
     "output_type": "execute_result"
    }
   ],
   "source": [
    "(67.12882576515302 + 81.30326065213043) / 2"
   ]
  },
  {
   "cell_type": "code",
   "execution_count": 29,
   "metadata": {},
   "outputs": [],
   "source": [
    "concatenate_word_vectors = LanguageEmbedding.read_from_KeyedVectors(\"/home/ponshane/work_dir/CLTM-Experiments/Data/MLDoc/word-vectors/Chinese_English_wordvectors.vec\")"
   ]
  },
  {
   "cell_type": "code",
   "execution_count": 30,
   "metadata": {},
   "outputs": [],
   "source": [
    "dict_path = \"/home/ponshane/Downloads/zh-en.txt\"\n",
    "valid_pairs = {}\n",
    "with open(dict_path, \"r\") as handler:\n",
    "    for line in handler:\n",
    "        temp = line.strip(\"\\n\").split(\" \")\n",
    "        if temp[0] in concatenate_word_vectors.index2word and temp[1] in concatenate_word_vectors.index2word:\n",
    "            valid_pairs[temp[0]] = temp[1]"
   ]
  },
  {
   "cell_type": "code",
   "execution_count": 31,
   "metadata": {},
   "outputs": [
    {
     "data": {
      "text/plain": [
       "607"
      ]
     },
     "execution_count": 31,
     "metadata": {},
     "output_type": "execute_result"
    }
   ],
   "source": [
    "len(valid_pairs)"
   ]
  },
  {
   "cell_type": "code",
   "execution_count": 9,
   "metadata": {},
   "outputs": [],
   "source": [
    "import configparser\n",
    "import pymongo\n",
    "from pymongo import MongoClient\n",
    "from datetime import datetime\n",
    "import pickle\n",
    "import re\n",
    "import gensim\n",
    "\n",
    "import sys\n",
    "# set python syspath to point out location of our self-writing module\n",
    "sys.path.append(\"/home/ponshane/work_dir/CLTM/src/codebase/\")\n",
    "\n",
    "from helper import *\n",
    "\n",
    "### init and read config\n",
    "config = configparser.ConfigParser()\n",
    "config.read('../config.ini')\n",
    "\n",
    "MongoDB = config[\"MLDoc\"][\"Database\"]\n",
    "MongoUser = config[\"MLDoc\"][\"User\"]\n",
    "MongoPW = config[\"MLDoc\"][\"PW\"]\n",
    "\n",
    "###連接MONGO\n",
    "uri = \"mongodb://\" + MongoUser + \":\" + MongoPW + \"@140.117.69.70:30241/\" + MongoDB + \"?authMechanism=SCRAM-SHA-1\"\n",
    "\n",
    "client = MongoClient(uri)\n",
    "db = client.MLDoc"
   ]
  },
  {
   "cell_type": "markdown",
   "metadata": {},
   "source": [
    "# For Chinese Corpus of RCV2"
   ]
  },
  {
   "cell_type": "code",
   "execution_count": 10,
   "metadata": {},
   "outputs": [],
   "source": [
    "### 檢查單字是否都是 英文字/數字 http://hzy3774.iteye.com/blog/2359032\n",
    "def judge_pure_english(keyword):  \n",
    "    return all(ord(c) < 128 for c in keyword)\n",
    "\n",
    "def extract_selected_pos_word(sentence):\n",
    "    # 挑取 #N, #V 詞性開頭的字\n",
    "    indices = [i for i, s in enumerate(sentence) if \"#N\" in s or \"#V\" in s]\n",
    "    select_words = [sentence[index] for index in indices]\n",
    "    \n",
    "    # 清除詞性標籤\n",
    "    words = [re.search('(.*)#', word).group(1) for word in select_words]\n",
    "    \n",
    "    # 過濾單詞\n",
    "    words = [word for word in words if len(word) >= 2]\n",
    "    \n",
    "    # 過濾英文字\n",
    "    words = [word for word in words if judge_pure_english(word) == False]\n",
    "    return(words)"
   ]
  },
  {
   "cell_type": "code",
   "execution_count": null,
   "metadata": {},
   "outputs": [],
   "source": [
    "start_time = datetime.now()\n",
    "\n",
    "target_collection = db.Chinese\n",
    "query_documents = target_collection.find({\"chi_nlp_process\": {\"$exists\": True}}, no_cursor_timeout=True)\n",
    "\n",
    "docs = list()\n",
    "cn_dict = dict()\n",
    "index = 0\n",
    "\n",
    "for each_document in query_documents:\n",
    "    sentence = []\n",
    "    for each_sentence in each_document[\"chi_result\"][\"pos\"]:\n",
    "        sentence += extract_selected_pos_word(each_sentence)\n",
    "\n",
    "    for w in sentence:\n",
    "        cn_dict[w] = True\n",
    "\n",
    "    docs.append(sentence)\n",
    "    \n",
    "    index += 1\n",
    "    if(index % 1000 ==0):\n",
    "        print(\"Already process %d documents\" % index)\n",
    "\n",
    "query_documents.close()\n",
    "\n",
    "time_elapsed = datetime.now() - start_time \n",
    "\n",
    "print('Time elapsed (hh:mm:ss.ms) {}'.format(time_elapsed))\n",
    "# Time elapsed (hh:mm:ss.ms) 0:00:18.737113"
   ]
  },
  {
   "cell_type": "code",
   "execution_count": 12,
   "metadata": {},
   "outputs": [
    {
     "data": {
      "text/plain": [
       "41344"
      ]
     },
     "execution_count": 12,
     "metadata": {},
     "output_type": "execute_result"
    }
   ],
   "source": [
    "len(cn_dict)"
   ]
  },
  {
   "cell_type": "code",
   "execution_count": 14,
   "metadata": {},
   "outputs": [
    {
     "data": {
      "text/plain": [
       "73.13895569233277"
      ]
     },
     "execution_count": 14,
     "metadata": {},
     "output_type": "execute_result"
    }
   ],
   "source": [
    "temp = 0\n",
    "for doc in docs:\n",
    "    temp += len(doc)\n",
    "    \n",
    "temp/len(docs)"
   ]
  },
  {
   "cell_type": "markdown",
   "metadata": {},
   "source": [
    "# For English Corpus of RCV2"
   ]
  },
  {
   "cell_type": "code",
   "execution_count": null,
   "metadata": {},
   "outputs": [],
   "source": [
    "start_time = datetime.now()\n",
    "\n",
    "target_collection = db.English\n",
    "mongo_docs = target_collection.find({\"nlp_process\": {\"$exists\": True}}, no_cursor_timeout=True)\n",
    "\n",
    "index = 0\n",
    "docs = []\n",
    "id_mongo_dictionary = {}\n",
    "\n",
    "for doc in mongo_docs:\n",
    "    sentence = []\n",
    "    for each_sentence in doc[\"nested_token_list\"]:\n",
    "        tokens_from_each_sentence = project_function_for_every_document(each_sentence, want_stop=False,\n",
    "                                                                        want_alpha=True, want_lemma=True,\n",
    "                                                                        accept_pos = [\"NOUN\", \"VERB\"],\n",
    "                                                                        use_entity=False)\n",
    "        sentence += tokens_from_each_sentence\n",
    "        \n",
    "    docs.append(sentence)\n",
    "\n",
    "    index += 1\n",
    "    if(index % 5000 ==0):\n",
    "        print(\"Already process %d documents\" % index)\n",
    "        \n",
    "mongo_docs.close()\n",
    "\n",
    "time_elapsed = datetime.now() - start_time\n",
    "\n",
    "print('Time elapsed (hh:mm:ss.ms) {}'.format(time_elapsed))\n",
    "# Time elapsed (hh:mm:ss.ms) 0:35:12.122783"
   ]
  },
  {
   "cell_type": "code",
   "execution_count": null,
   "metadata": {},
   "outputs": [],
   "source": [
    "temp = 0\n",
    "for doc in docs:\n",
    "    temp += len(doc)\n",
    "    \n",
    "temp/len(docs)"
   ]
  }
 ],
 "metadata": {
  "kernelspec": {
   "display_name": "cross-lingual",
   "language": "python",
   "name": "cross-lingual"
  },
  "language_info": {
   "codemirror_mode": {
    "name": "ipython",
    "version": 3
   },
   "file_extension": ".py",
   "mimetype": "text/x-python",
   "name": "python",
   "nbconvert_exporter": "python",
   "pygments_lexer": "ipython3",
   "version": "3.6.4"
  }
 },
 "nbformat": 4,
 "nbformat_minor": 4
}
