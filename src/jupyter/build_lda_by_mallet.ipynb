{
 "cells": [
  {
   "cell_type": "code",
   "execution_count": 1,
   "metadata": {},
   "outputs": [],
   "source": [
    "import sys\n",
    "# set python syspath to point out location of our self-writing module\n",
    "sys.path.append(\"/home/ponshane/work_dir/CLTM/src/codebase/\")\n",
    "\n",
    "#import pickle\n",
    "\n",
    "from gensim.models.wrappers import LdaMallet\n",
    "from gensim import corpora, models\n",
    "from gensim.models import CoherenceModel\n",
    "import gensim\n",
    "import logging\n",
    "from topic_utilities import *\n",
    "from datetime import datetime\n",
    "\n",
    "import matplotlib.pyplot as plt\n",
    "%matplotlib inline"
   ]
  },
  {
   "cell_type": "markdown",
   "metadata": {},
   "source": [
    "# Build monolingual topic model on 25K pairs (50K docs)"
   ]
  },
  {
   "cell_type": "code",
   "execution_count": 2,
   "metadata": {},
   "outputs": [],
   "source": [
    "file = open(\"/home/ponshane/work_dir/CLTM-Experiments/Data/UM-Corpus/50K-sampled-docs/selected50KDos.txt\",\n",
    "            'r')\n",
    "\n",
    "chinese_docs = []\n",
    "english_docs = []\n",
    "for idx, doc in enumerate(file.readlines()):\n",
    "    if idx % 2 != 0:\n",
    "        chinese_docs.append(doc.replace(\"\\n\", \"\").split(\" \"))\n",
    "    else:\n",
    "        english_docs.append(doc.replace(\"\\n\", \"\").split(\" \"))"
   ]
  },
  {
   "cell_type": "code",
   "execution_count": 18,
   "metadata": {},
   "outputs": [],
   "source": [
    "# save to pkl\n",
    "'''\n",
    "f = open('../../Pickle_Folders/2018-09-28-ponshane-um-corpus-selected-50k.pkl', 'wb')\n",
    "pickle.dump((chinese_docs, english_docs), f)\n",
    "f.close()\n",
    "'''"
   ]
  },
  {
   "cell_type": "code",
   "execution_count": 3,
   "metadata": {},
   "outputs": [
    {
     "name": "stdout",
     "output_type": "stream",
     "text": [
      "Dictionary(18449 unique tokens: ['何延忠', '励志', '劳作', '变成', '年来']...)\n",
      "Dictionary(9695 unique tokens: ['desert', 'dunhuang', 'fishery', 'gansu', 'oasis']...)\n"
     ]
    }
   ],
   "source": [
    "# turn our tokenized documents into a id <-> cluster_id dictionary\n",
    "chinese_dictionary = corpora.Dictionary(chinese_docs)\n",
    "print(chinese_dictionary)\n",
    "\n",
    "# convert tokenized documents into a document-term matrix\n",
    "chinese_corpus = [chinese_dictionary.doc2bow(text) for text in chinese_docs]\n",
    "\n",
    "# turn our tokenized documents into a id <-> cluster_id dictionary\n",
    "english_dictionary = corpora.Dictionary(english_docs)\n",
    "print(english_dictionary)\n",
    "\n",
    "# convert tokenized documents into a document-term matrix\n",
    "english_corpus = [english_dictionary.doc2bow(text) for text in english_docs]"
   ]
  },
  {
   "cell_type": "code",
   "execution_count": 12,
   "metadata": {},
   "outputs": [],
   "source": [
    "path_of_mallet = \"/home/ponshane/work_dir/Mallet/bin/mallet\""
   ]
  },
  {
   "cell_type": "code",
   "execution_count": 13,
   "metadata": {},
   "outputs": [],
   "source": [
    "def compute_coherence_values(path_mallet, dictionary, corpus, texts, limit, start, step):\n",
    "    \"\"\"\n",
    "    Reference: https://www.machinelearningplus.com/nlp/topic-modeling-gensim-python/#17howtofindtheoptimalnumberoftopicsforlda\n",
    "    Compute c_v coherence for various number of topics\n",
    "\n",
    "    Parameters:\n",
    "    ----------\n",
    "    dictionary : Gensim dictionary\n",
    "    corpus : Gensim corpus\n",
    "    texts : List of input texts\n",
    "    limit : Max num of topics\n",
    "\n",
    "    Returns:\n",
    "    -------\n",
    "    model_list : List of LDA topic models\n",
    "    coherence_values : Coherence values corresponding to the LDA model with respective number of topics\n",
    "    \"\"\"\n",
    "    #coherence_values = []\n",
    "    model_list = []\n",
    "    for num_topics in range(start, limit, step):\n",
    "        model = gensim.models.wrappers.LdaMallet(path_mallet, corpus=corpus, num_topics=num_topics,\n",
    "                                                 id2word=dictionary, optimize_interval = 0, alpha = 0.1,\n",
    "                                                 iterations= 1000)\n",
    "        model_list.append(model)\n",
    "        #coherencemodel = CoherenceModel(model=model, texts=texts, dictionary=dictionary, coherence='c_v')\n",
    "        #coherence_values.append(coherencemodel.get_coherence())\n",
    "\n",
    "    return model_list#, coherence_values"
   ]
  },
  {
   "cell_type": "code",
   "execution_count": 26,
   "metadata": {},
   "outputs": [
    {
     "name": "stdout",
     "output_type": "stream",
     "text": [
      "Time elapsed (hh:mm:ss.ms) 0:00:40.604572\n"
     ]
    }
   ],
   "source": [
    "start_time = datetime.now()\n",
    "\n",
    "cn_model_list = compute_coherence_values(path_mallet=path_of_mallet,\n",
    "                                                              dictionary=chinese_dictionary,\n",
    "                                                              corpus=chinese_corpus, texts=chinese_docs,\n",
    "                                                              start=5, limit=10, step=5)\n",
    "\n",
    "time_elapsed = datetime.now() - start_time\n",
    "print('Time elapsed (hh:mm:ss.ms) {}'.format(time_elapsed))"
   ]
  },
  {
   "cell_type": "code",
   "execution_count": 8,
   "metadata": {},
   "outputs": [
    {
     "data": {
      "image/png": "[encoded data removed]",
      "text/plain": [
       "<Figure size 432x288 with 1 Axes>"
      ]
     },
     "metadata": {},
     "output_type": "display_data"
    }
   ],
   "source": [
    "\"\"\"\n",
    "limit=100; start=2; step=2;\n",
    "x = range(start, limit, step)\n",
    "plt.plot(x, cn_coherence_values)\n",
    "plt.xlabel(\"Num Topics\")\n",
    "plt.ylabel(\"Coherence score\")\n",
    "plt.legend((\"coherence_values\"), loc='best')\n",
    "plt.show()\n",
    "\"\"\""
   ]
  },
  {
   "cell_type": "code",
   "execution_count": 9,
   "metadata": {},
   "outputs": [
    {
     "name": "stdout",
     "output_type": "stream",
     "text": [
      "[0.14963632121665782, 0.19129614672760986, 0.28555012157913456, 0.25645346380486644, 0.3146457373164942, 0.33905363503845853, 0.31679902451568953, 0.3294158628247478, 0.33911304989896146, 0.34487105502755233, 0.3591329867822343, 0.3254668155335553, 0.3510076729507994, 0.3537924327165066, 0.36290996557296895, 0.35017880542317203, 0.36761643482950473, 0.35492936645723744, 0.35777881616179397, 0.33847509811680976, 0.35682670763111074, 0.34873145515315346, 0.3496312974244628, 0.3665899999460736, 0.3565065066907074, 0.34113705883274237, 0.34642102252049894, 0.346053081088857, 0.357488702690017, 0.34468926078505263, 0.34292186136273334, 0.3449519025307821, 0.3492374225081539, 0.3469551199884139, 0.3590440073249247, 0.3596855909581559, 0.366681041835179, 0.3554646027426854, 0.36190477450212, 0.35409745872331533, 0.34985668871763337, 0.35130049894502263, 0.36584993144464456, 0.34603347799157197, 0.3501816633264402, 0.36230212466928907, 0.35320446404127986, 0.35572381708839984, 0.3613824995719711]\n"
     ]
    }
   ],
   "source": [
    "#print(cn_coherence_values)"
   ]
  },
  {
   "cell_type": "code",
   "execution_count": 27,
   "metadata": {},
   "outputs": [
    {
     "name": "stdout",
     "output_type": "stream",
     "text": [
      "Time elapsed (hh:mm:ss.ms) 0:00:36.572975\n"
     ]
    }
   ],
   "source": [
    "start_time = datetime.now()\n",
    "\n",
    "en_model_list = compute_coherence_values(path_mallet=path_of_mallet,\n",
    "                                                              dictionary=english_dictionary,\n",
    "                                                              corpus=english_corpus, texts=english_docs,\n",
    "                                                              start=5, limit=10, step=5)\n",
    "\n",
    "time_elapsed = datetime.now() - start_time\n",
    "print('Time elapsed (hh:mm:ss.ms) {}'.format(time_elapsed))"
   ]
  },
  {
   "cell_type": "code",
   "execution_count": 11,
   "metadata": {},
   "outputs": [
    {
     "data": {
      "image/png": "[encoded data removed]",
      "text/plain": [
       "<Figure size 432x288 with 1 Axes>"
      ]
     },
     "metadata": {},
     "output_type": "display_data"
    }
   ],
   "source": [
    "\"\"\"limit=100; start=2; step=2;\n",
    "x = range(start, limit, step)\n",
    "plt.plot(x, en_coherence_values)\n",
    "plt.xlabel(\"Num Topics\")\n",
    "plt.ylabel(\"Coherence score\")\n",
    "plt.legend((\"coherence_values\"), loc='best')\n",
    "plt.show()\"\"\""
   ]
  },
  {
   "cell_type": "code",
   "execution_count": 12,
   "metadata": {},
   "outputs": [
    {
     "name": "stdout",
     "output_type": "stream",
     "text": [
      "[0.2214983517588283, 0.1939202926699514, 0.22666254461852553, 0.2735618091090547, 0.2767928162188378, 0.2657690984576892, 0.274008914641446, 0.29235385026138727, 0.311941699143646, 0.3062955089776371, 0.3020465680969948, 0.3232247265864787, 0.3231490499522491, 0.3222663268598865, 0.30873107460308086, 0.3210871925214323, 0.3505659269004599, 0.31487194333895274, 0.3264175779877611, 0.33506383345840485, 0.33410431592996154, 0.33605125398521724, 0.34094236587414306, 0.3298549962378785, 0.33464088339996395, 0.33866410744919523, 0.3516705040462496, 0.3474321846656275, 0.3511234375409036, 0.34283609317216823, 0.3586354863257171, 0.3426481606591178, 0.3362268066505847, 0.3491619430942225, 0.3483940420664483, 0.3525719049338276, 0.34866275016975495, 0.3527789752275911, 0.35477830237993313, 0.3528960678831688, 0.3461196386661241, 0.3499065637645972, 0.36052704634622895, 0.3422002509146005, 0.3433665821275315, 0.3552301460650574, 0.3568450020174472, 0.3396029757485987, 0.35274507752649736]\n"
     ]
    }
   ],
   "source": [
    "#print(en_coherence_values)"
   ]
  },
  {
   "cell_type": "code",
   "execution_count": 14,
   "metadata": {},
   "outputs": [],
   "source": [
    "# save model\n",
    "\"\"\"import pickle\n",
    "f = open('../out/Mallet/50K-doc-iter500-alpha01-models.pkl', 'wb')\n",
    "pickle.dump((cn_model_list, cn_coherence_values, en_model_list, en_coherence_values), f)\n",
    "f.close()\"\"\""
   ]
  },
  {
   "cell_type": "code",
   "execution_count": 17,
   "metadata": {},
   "outputs": [
    {
     "name": "stdout",
     "output_type": "stream",
     "text": [
      "22 34\n"
     ]
    }
   ],
   "source": [
    "\"\"\"cn_optimal_model = cn_model_list[10]\n",
    "en_optimal_model = en_model_list[16]\n",
    "print(cn_optimal_model.num_topics, \n",
    "     en_optimal_model.num_topics)\"\"\""
   ]
  },
  {
   "cell_type": "code",
   "execution_count": 18,
   "metadata": {},
   "outputs": [],
   "source": [
    "#save optimal model\n",
    "\"\"\"cn_optimal_model.save(\"../out/\" + \"50K-doc-iter500-alpha01-cn\" + \".model\")\n",
    "en_optimal_model.save(\"../out/\" + \"50K-doc-iter500-alpha01-en\" + \".model\")\"\"\"\n",
    "#cn_model = LdaMallet.load(\"./LDA_Outputs/UM/mallet-single-lda/\" + cn_model_name + \".model\")\n",
    "#en_model = LdaMallet.load(\"./LDA_Outputs/UM/mallet-single-lda/\" + en_model_name + \".model\")\n",
    "#class gensim.utils.SaveLoad¶"
   ]
  },
  {
   "cell_type": "code",
   "execution_count": 28,
   "metadata": {},
   "outputs": [],
   "source": [
    "assert len(cn_model_list) == len(en_model_list)\n",
    "for idx in range(0, len(cn_model_list)):\n",
    "    temp_model = cn_model_list[idx]\n",
    "    temp_model.save(\"/home/ponshane/work_dir/CLTM-Experiments/Data/UM-Corpus/50K-sampled-docs/monolingual-lda/\" + str(temp_model.num_topics) + \"topics-cn\" + \".model\")\n",
    "    temp_model = en_model_list[idx]\n",
    "    temp_model.save(\"/home/ponshane/work_dir/CLTM-Experiments/Data/UM-Corpus/50K-sampled-docs/monolingual-lda/\" + str(temp_model.num_topics) + \"topics-en\" + \".model\")"
   ]
  },
  {
   "cell_type": "markdown",
   "metadata": {},
   "source": [
    "# Build monolingual topic model on 100K, 200K, 400K, 800K docs"
   ]
  },
  {
   "cell_type": "code",
   "execution_count": 5,
   "metadata": {},
   "outputs": [
    {
     "name": "stdout",
     "output_type": "stream",
     "text": [
      "Dictionary(23349 unique tokens: ['何延忠', '励志', '劳作', '变成', '年来']...)\n",
      "Dictionary(12927 unique tokens: ['desert', 'dunhuang', 'fishery', 'gansu', 'oasis']...)\n",
      "Dictionary(27468 unique tokens: ['何延忠', '励志', '劳作', '变成', '年来']...)\n",
      "Dictionary(15895 unique tokens: ['desert', 'dunhuang', 'fishery', 'gansu', 'oasis']...)\n",
      "Dictionary(30557 unique tokens: ['何延忠', '励志', '劳作', '变成', '年来']...)\n",
      "Dictionary(20142 unique tokens: ['desert', 'dunhuang', 'fishery', 'gansu', 'oasis']...)\n",
      "Dictionary(31287 unique tokens: ['何延忠', '励志', '劳作', '变成', '年来']...)\n",
      "Dictionary(21199 unique tokens: ['desert', 'dunhuang', 'fishery', 'gansu', 'oasis']...)\n"
     ]
    }
   ],
   "source": [
    "corpus_list = [\"/home/ponshane/work_dir/CLTM-Experiments/Data/UM-Corpus/100K-sampled-docs/selected100KDos.txt\",\n",
    "              \"/home/ponshane/work_dir/CLTM-Experiments/Data/UM-Corpus/200K-sampled-docs/selected200KDos.txt\",\n",
    "              \"/home/ponshane/work_dir/CLTM-Experiments/Data/UM-Corpus/400K-sampled-docs/selected400KDos.txt\",\n",
    "              \"/home/ponshane/work_dir/CLTM-Experiments/Data/UM-Corpus/800K-sampled-docs/selected800KDos.txt\"]\n",
    "sizes = [\"100K\", \"200K\", \"400K\", \"800K\"]\n",
    "\n",
    "for corpus_path, size in zip(corpus_list, sizes):\n",
    "    file = open(corpus_path, 'r')\n",
    "\n",
    "    chinese_docs = []\n",
    "    english_docs = []\n",
    "    for idx, doc in enumerate(file.readlines()):\n",
    "        if idx % 2 != 0:\n",
    "            english_docs.append(doc.replace(\"\\n\", \"\").split(\" \"))\n",
    "        else:\n",
    "            chinese_docs.append(doc.replace(\"\\n\", \"\").split(\" \"))\n",
    "    \n",
    "    # turn our tokenized documents into a id <-> cluster_id dictionary\n",
    "    chinese_dictionary = corpora.Dictionary(chinese_docs)\n",
    "    print(chinese_dictionary)\n",
    "\n",
    "    # convert tokenized documents into a document-term matrix\n",
    "    chinese_corpus = [chinese_dictionary.doc2bow(text) for text in chinese_docs]\n",
    "\n",
    "    # turn our tokenized documents into a id <-> cluster_id dictionary\n",
    "    english_dictionary = corpora.Dictionary(english_docs)\n",
    "    print(english_dictionary)\n",
    "\n",
    "    # convert tokenized documents into a document-term matrix\n",
    "    english_corpus = [english_dictionary.doc2bow(text) for text in english_docs]\n",
    "    \n",
    "    path_of_mallet = \"/home/ponshane/work_dir/Mallet/bin/mallet\"\n",
    "    \n",
    "    chinese_model = gensim.models.wrappers.LdaMallet(path_of_mallet, corpus=chinese_corpus, num_topics=10,\n",
    "                                                 id2word=chinese_dictionary, optimize_interval = 0, alpha = 0.1,\n",
    "                                                 iterations= 1000)\n",
    "    english_model = gensim.models.wrappers.LdaMallet(path_of_mallet, corpus=english_corpus, num_topics=10,\n",
    "                                                 id2word=english_dictionary, optimize_interval = 0, alpha = 0.1,\n",
    "                                                 iterations= 1000)\n",
    "    \n",
    "    chinese_model.save(\"/home/ponshane/work_dir/CLTM-Experiments/Data/UM-Corpus/\" + size + \"-sampled-docs/monolingual-lda/10topics-cn.model\")\n",
    "    english_model.save(\"/home/ponshane/work_dir/CLTM-Experiments/Data/UM-Corpus/\" + size + \"-sampled-docs/monolingual-lda/10topics-en.model\")"
   ]
  }
 ],
 "metadata": {
  "kernelspec": {
   "display_name": "Python [conda env:cross-lingual]",
   "language": "python",
   "name": "conda-env-cross-lingual-py"
  },
  "language_info": {
   "codemirror_mode": {
    "name": "ipython",
    "version": 3
   },
   "file_extension": ".py",
   "mimetype": "text/x-python",
   "name": "python",
   "nbconvert_exporter": "python",
   "pygments_lexer": "ipython3",
   "version": "3.6.4"
  }
 },
 "nbformat": 4,
 "nbformat_minor": 2
}
