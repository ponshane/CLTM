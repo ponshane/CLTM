{
 "cells": [
  {
   "cell_type": "code",
   "execution_count": null,
   "metadata": {},
   "outputs": [],
   "source": [
    "import logging\n",
    "\n",
    "from ptm import JointGibbsLDA, JointCorpus\n",
    "import pickle"
   ]
  },
  {
   "cell_type": "markdown",
   "metadata": {},
   "source": [
    "# Use 50K UM-Corpus and infer [10, 20, 30, 40, 50] topics"
   ]
  },
  {
   "cell_type": "code",
   "execution_count": null,
   "metadata": {},
   "outputs": [],
   "source": [
    "# prepare corpus\n",
    "corpus = JointCorpus(source_corpus_file=\"/home/ponshane/work_dir/CLTM-Experiments/Data/UM-Corpus/50K-sampled-docs/50K_English_UM_Corpus.txt\",\n",
    "                     target_corpus_file=\"/home/ponshane/work_dir/CLTM-Experiments/Data/UM-Corpus/50K-sampled-docs/50K_Chinese_UM_Corpus.txt\")\n",
    "\n",
    "corpus.update_doctionary(\"/home/ponshane/work_dir/CLTM-Experiments/Data/UM-Corpus/50K-sampled-docs/um-corpus-news-top-translation.csv\")\n",
    "\n",
    "corpus.convert_raw_corpus_to_trainable_corpus()"
   ]
  },
  {
   "cell_type": "code",
   "execution_count": null,
   "metadata": {},
   "outputs": [],
   "source": [
    "# train model\n",
    "for n_topic in range(10, 51, 10):\n",
    "    model = JointGibbsLDA(n_doc=len(corpus.docs), n_concept=corpus.n_concept, n_s_vocab=corpus.n_s_vocab,\n",
    "                          n_t_vocab=corpus.n_t_vocab, n_topic=n_topic)\n",
    "    model.fit(corpus.docs, corpus.language_flags, max_iter=1000)\n",
    "    \n",
    "    file_name = \"JointLDA-\" + str(n_topic) + \"topics.pickle\"\n",
    "    with open('/home/ponshane/work_dir/CLTM-Experiments/Results/UM-Corpus-50K-sampled-docs/model-comparison/'+file_name, 'wb') as handle:\n",
    "        pickle.dump(model, handle, protocol=pickle.HIGHEST_PROTOCOL)"
   ]
  },
  {
   "cell_type": "code",
   "execution_count": null,
   "metadata": {},
   "outputs": [],
   "source": [
    "# testing cell\n",
    "n_topic = 10\n",
    "file_name = \"JointLDA-\" + str(n_topic) + \"topics.pickle\"\n",
    "'/home/ponshane/work_dir/CLTM-Experiments/Results/UM-Corpus-50K-sampled-docs/model-comparison/'+file_name"
   ]
  },
  {
   "cell_type": "markdown",
   "metadata": {},
   "source": [
    "# set topics = 10 and use [100K, 200K, 400K, 800K] UM-Corpus"
   ]
  },
  {
   "cell_type": "code",
   "execution_count": null,
   "metadata": {},
   "outputs": [],
   "source": [
    "for size in [100, 200, 400, 800]:\n",
    "    source = \"/home/ponshane/work_dir/CLTM-Experiments/Data/UM-Corpus/{}K-sampled-docs/{}K_English_UM_Corpus.txt\".format(str(size), str(size))\n",
    "    target = \"/home/ponshane/work_dir/CLTM-Experiments/Data/UM-Corpus/{}K-sampled-docs/{}K_Chinese_UM_Corpus.txt\".format(str(size), str(size))\n",
    "    print(source)\n",
    "    print(target)\n",
    "    \n",
    "    # prepare corpus\n",
    "    corpus = JointCorpus(source_corpus_file=source, target_corpus_file=target)\n",
    "    corpus.update_doctionary(\"/home/ponshane/work_dir/CLTM-Experiments/Data/UM-Corpus/50K-sampled-docs/um-corpus-news-top-translation.csv\")\n",
    "    corpus.convert_raw_corpus_to_trainable_corpus()\n",
    "    \n",
    "    n_topic = 10\n",
    "    model = JointGibbsLDA(n_doc=len(corpus.docs), n_concept=corpus.n_concept, n_s_vocab=corpus.n_s_vocab,\n",
    "                          n_t_vocab=corpus.n_t_vocab, n_topic=n_topic)\n",
    "    model.fit(corpus.docs, corpus.language_flags, max_iter=1000)\n",
    "    \n",
    "    file_name = \"JointLDA-\" + str(n_topic) + \"topics.pickle\"\n",
    "    file_path = '/home/ponshane/work_dir/CLTM-Experiments/Results/UM-Corpus-{}K-sampled-docs/'.format(str(size))\n",
    "    with open(file_path+file_name, 'wb') as handle:\n",
    "        pickle.dump(model, handle, protocol=pickle.HIGHEST_PROTOCOL)"
   ]
  },
  {
   "cell_type": "markdown",
   "metadata": {},
   "source": [
    "# Use MLDoc and infer [10, 20, 30, 40, 50] topics"
   ]
  },
  {
   "cell_type": "code",
   "execution_count": null,
   "metadata": {},
   "outputs": [],
   "source": [
    "# prepare corpus\n",
    "corpus = JointCorpus(source_corpus_file=\"/home/ponshane/work_dir/CLTM-Experiments/Data/MLDoc/MLDoc-English.txt\",\n",
    "                     target_corpus_file=\"/home/ponshane/work_dir/CLTM-Experiments/Data/MLDoc/MLDoc-Chinese.txt\")\n",
    "\n",
    "corpus.update_doctionary(\"/home/ponshane/work_dir/CLTM-Experiments/Data/MLDoc/MLDoc_EN_ZH_dictionaries.csv\")\n",
    "\n",
    "corpus.convert_raw_corpus_to_trainable_corpus()"
   ]
  },
  {
   "cell_type": "code",
   "execution_count": null,
   "metadata": {},
   "outputs": [],
   "source": [
    "# train model\n",
    "for n_topic in range(10, 51, 10):\n",
    "    model = JointGibbsLDA(n_doc=len(corpus.docs), n_concept=corpus.n_concept, n_s_vocab=corpus.n_s_vocab,\n",
    "                          n_t_vocab=corpus.n_t_vocab, n_topic=n_topic)\n",
    "    model.fit(corpus.docs, corpus.language_flags, max_iter=1000)\n",
    "    \n",
    "    file_name = \"JointLDA-\" + str(n_topic) + \"topics.pickle\"\n",
    "    with open('/home/ponshane/work_dir/CLTM-Experiments/Results/MLDoc/model-comparison/'+file_name, 'wb') as handle:\n",
    "        pickle.dump(model, handle, protocol=pickle.HIGHEST_PROTOCOL)"
   ]
  },
  {
   "cell_type": "markdown",
   "metadata": {},
   "source": [
    "# HandCraft UM-CORPUS"
   ]
  },
  {
   "cell_type": "code",
   "execution_count": null,
   "metadata": {},
   "outputs": [],
   "source": [
    "with open(\"/home/ponshane/work_dir/CLTM-Experiments/Data/UM-Corpus/UM-Corpus-hand-craft-zh-en-3000.txt\", \"r\") as handler:\n",
    "    for line in handler:\n",
    "        temp = line.strip(\"\\n\").split(\" \")\n",
    "        print(temp[1] + \",\" +temp[0])"
   ]
  },
  {
   "cell_type": "code",
   "execution_count": null,
   "metadata": {},
   "outputs": [],
   "source": [
    "# prepare corpus\n",
    "corpus = JointCorpus(source_corpus_file=\"/home/ponshane/work_dir/CLTM-Experiments/Data/UM-Corpus/50K-sampled-docs/50K_English_UM_Corpus.txt\",\n",
    "                     target_corpus_file=\"/home/ponshane/work_dir/CLTM-Experiments/Data/UM-Corpus/50K-sampled-docs/50K_Chinese_UM_Corpus.txt\")\n",
    "\n",
    "corpus.update_doctionary(\"./JointLDA-UM-Corpus-hand-craft-zh-en-3000.txt\")\n",
    "\n",
    "corpus.convert_raw_corpus_to_trainable_corpus()"
   ]
  },
  {
   "cell_type": "code",
   "execution_count": null,
   "metadata": {},
   "outputs": [],
   "source": [
    "# train model\n",
    "for n_topic in range(10, 51, 10):\n",
    "    model = JointGibbsLDA(n_doc=len(corpus.docs), n_concept=corpus.n_concept, n_s_vocab=corpus.n_s_vocab,\n",
    "                          n_t_vocab=corpus.n_t_vocab, n_topic=n_topic)\n",
    "    model.fit(corpus.docs, corpus.language_flags, max_iter=1000)\n",
    "    \n",
    "    file_name = \"JointLDA-hand-craft-\" + str(n_topic) + \"topics.pickle\"\n",
    "    with open('/home/ponshane/work_dir/CLTM-Experiments/Results/UM-Corpus-50K-sampled-docs/hand-craft-mapping-comparison/'+file_name, 'wb') as handle:\n",
    "        pickle.dump(model, handle, protocol=pickle.HIGHEST_PROTOCOL)"
   ]
  },
  {
   "cell_type": "markdown",
   "metadata": {},
   "source": [
    "# HandCraft MLDoc"
   ]
  },
  {
   "cell_type": "code",
   "execution_count": null,
   "metadata": {},
   "outputs": [],
   "source": [
    "\"\"\"\n",
    "with open(\"/home/ponshane/work_dir/CLTM-Experiments/Data/MLDoc/hand-craft-control-dictionary.txt\", \"r\") as handler:\n",
    "    for line in handler:\n",
    "        line = line.rstrip(\"\\n\").split(\",\")\n",
    "        print(line[0], line[1])\n",
    "\"\"\""
   ]
  },
  {
   "cell_type": "code",
   "execution_count": null,
   "metadata": {},
   "outputs": [],
   "source": [
    "# prepare corpus\n",
    "corpus = JointCorpus(source_corpus_file=\"/home/ponshane/work_dir/CLTM-Experiments/Data/MLDoc/MLDoc-English.txt\",\n",
    "                     target_corpus_file=\"/home/ponshane/work_dir/CLTM-Experiments/Data/MLDoc/MLDoc-Chinese.txt\")\n",
    "\n",
    "corpus.update_doctionary(\"/home/ponshane/work_dir/CLTM-Experiments/Data/MLDoc/hand-craft-control-dictionary.txt\")\n",
    "\n",
    "corpus.convert_raw_corpus_to_trainable_corpus()"
   ]
  },
  {
   "cell_type": "code",
   "execution_count": null,
   "metadata": {},
   "outputs": [],
   "source": [
    "# train model\n",
    "for n_topic in range(10, 51, 10):\n",
    "    model = JointGibbsLDA(n_doc=len(corpus.docs), n_concept=corpus.n_concept, n_s_vocab=corpus.n_s_vocab,\n",
    "                          n_t_vocab=corpus.n_t_vocab, n_topic=n_topic)\n",
    "    model.fit(corpus.docs, corpus.language_flags, max_iter=1000)\n",
    "    \n",
    "    file_name = \"JointLDA-hand-craft-\" + str(n_topic) + \"topics.pickle\"\n",
    "    with open('/home/ponshane/work_dir/CLTM-Experiments/Results/MLDoc/hand-craft-mapping-comparison/'+file_name, 'wb') as handle:\n",
    "        pickle.dump(model, handle, protocol=pickle.HIGHEST_PROTOCOL)"
   ]
  }
 ],
 "metadata": {
  "kernelspec": {
   "display_name": "Python [conda env:cross-lingual]",
   "language": "python",
   "name": "conda-env-cross-lingual-py"
  },
  "language_info": {
   "codemirror_mode": {
    "name": "ipython",
    "version": 3
   },
   "file_extension": ".py",
   "mimetype": "text/x-python",
   "name": "python",
   "nbconvert_exporter": "python",
   "pygments_lexer": "ipython3",
   "version": "3.6.4"
  }
 },
 "nbformat": 4,
 "nbformat_minor": 2
}
