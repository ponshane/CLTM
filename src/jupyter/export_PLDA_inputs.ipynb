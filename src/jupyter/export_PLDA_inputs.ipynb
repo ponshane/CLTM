{
 "cells": [
  {
   "cell_type": "code",
   "execution_count": 1,
   "metadata": {},
   "outputs": [],
   "source": [
    "from numpy.random import random_sample\n",
    "from collections import Counter"
   ]
  },
  {
   "cell_type": "markdown",
   "metadata": {},
   "source": [
    "# export 100% fully translated corpus"
   ]
  },
  {
   "cell_type": "code",
   "execution_count": 2,
   "metadata": {},
   "outputs": [],
   "source": [
    "file = open(\"/home/ponshane/jupyter_working_dir/cross-lingual-topic-analysis/LFTM-input-files/2018-09-27-ponshane-50K-document-list.txt\",\n",
    "            'r')\n",
    "\n",
    "cn_docs = open(\"../out/PLDA_Inputs/50K-cn-docs.txt\", \"w\")\n",
    "en_docs = open(\"../out/PLDA_Inputs/50K-en-docs.txt\", \"w\")\n",
    "\n",
    "for idx, doc in enumerate(file.readlines()):\n",
    "    if idx % 2 != 0:\n",
    "        cn_docs.writelines(str(idx-1) + '\\t' + 'CN' + '\\t' + doc)\n",
    "    else:\n",
    "        en_docs.writelines(str(idx) + '\\t' + 'EN' + '\\t' + doc)\n",
    "\n",
    "cn_docs.close()\n",
    "en_docs.close()"
   ]
  },
  {
   "cell_type": "markdown",
   "metadata": {},
   "source": [
    "# define the function to help export ?% fully translated corpus"
   ]
  },
  {
   "cell_type": "code",
   "execution_count": 2,
   "metadata": {},
   "outputs": [],
   "source": [
    "def generate_incomplete_translated_corpus(file_path, num_of_doc, export_file_name, sampling_rate=0.5):\n",
    "    file = open(file_path, 'r')\n",
    "    \n",
    "    ###\n",
    "    # Block 1\n",
    "    ###\n",
    "    \n",
    "    # 原先使用 len(file.readlines())，但此方法會推動迭代器\n",
    "    # 會影響到 Block2 的迭代器，因此改為將篇數作為參數輸入\n",
    "    number_of_sentences = num_of_doc\n",
    "    \n",
    "    # 若非偶數，以下邏輯會出錯\n",
    "    assert number_of_sentences % 2 == 0\n",
    "    \n",
    "    sampling_sentence_index = [False]*number_of_sentences\n",
    "    # 先決定之後採樣的對象是英文句or中文句子\n",
    "    # 0.5 做為標準讓中、英文各自有機率被拋棄\n",
    "    for idx in range(0, number_of_sentences, 2):\n",
    "        rnd = random_sample()\n",
    "        if rnd < 0.5:\n",
    "            # let english sentence is target of sampling\n",
    "            sampling_sentence_index[idx] = True\n",
    "        else:\n",
    "            # let chinese sentence is target of sampling\n",
    "            sampling_sentence_index[idx+1] = True\n",
    "\n",
    "    ###\n",
    "    # Block 2\n",
    "    ###\n",
    "    \n",
    "    cn_docs = open(\"../out/PLDA_Inputs/\"+export_file_name+\"50K-cn-docs.txt\", \"w\")\n",
    "    en_docs = open(\"../out/PLDA_Inputs/\"+export_file_name+\"50K-en-docs.txt\", \"w\")\n",
    "    \n",
    "    sample_out_count = 0\n",
    "    \n",
    "    for idx, doc in enumerate(file.readlines()):\n",
    "        \n",
    "        # looping each sentences\n",
    "        if idx % 2 != 0:\n",
    "            # 如果當前的採樣對象是本句，則進行按照機率來保留(sampling_rate)\n",
    "            # 寫出時需要 idx-1 目的在於對應英文句子的idx, PLDA 的需求！\n",
    "            if sampling_sentence_index[idx]:\n",
    "                keep_rnd = random_sample()\n",
    "                if keep_rnd < sampling_rate:\n",
    "                    cn_docs.writelines(str(idx-1) + '\\t' + 'CN' + '\\t' + doc)\n",
    "                else:\n",
    "                    sample_out_count +=1\n",
    "                    cn_docs.writelines(str(idx-1) + '\\t' + 'CN' + '\\t\\n')\n",
    "            else:\n",
    "                cn_docs.writelines(str(idx-1) + '\\t' + 'CN' + '\\t' + doc)\n",
    "        else:\n",
    "            if sampling_sentence_index[idx]:\n",
    "                keep_rnd = random_sample()\n",
    "                if keep_rnd < sampling_rate:\n",
    "                    en_docs.writelines(str(idx) + '\\t' + 'EN' + '\\t' + doc)\n",
    "                else:\n",
    "                    sample_out_count +=1\n",
    "                    en_docs.writelines(str(idx) + '\\t' + 'EN' + '\\t\\n')\n",
    "            else:\n",
    "                en_docs.writelines(str(idx) + '\\t' + 'EN' + '\\t' + doc)\n",
    "\n",
    "    cn_docs.close()\n",
    "    en_docs.close()\n",
    "    \n",
    "    # just check the probabilty function works in our expectation!\n",
    "    # 舉例：若文章數為50K，由於一開始的想法就是一定會保留一邊的語言\n",
    "    # 另一邊以機率採樣的方式保留，所以期望值應該是 50K/2 * sampling_rate\n",
    "    print(Counter(sampling_sentence_index), 1-(sample_out_count/(num_of_doc/2)))"
   ]
  },
  {
   "cell_type": "code",
   "execution_count": 57,
   "metadata": {},
   "outputs": [
    {
     "name": "stdout",
     "output_type": "stream",
     "text": [
      "Counter({False: 25000, True: 25000}) 0.75176\n"
     ]
    }
   ],
   "source": [
    "# for testing\n",
    "generate_incomplete_translated_corpus(\"/home/ponshane/jupyter_working_dir/cross-lingual-topic-analysis/LFTM-input-files/2018-09-27-ponshane-50K-document-list.txt\",\n",
    "                                      num_of_doc = 50000,\n",
    "                                      export_file_name=\"75percKeep-\",\n",
    "                                      sampling_rate=0.75)"
   ]
  },
  {
   "cell_type": "markdown",
   "metadata": {},
   "source": [
    "# Generate partial document pairs\n",
    "1. Call the function: generate_incomplete_translated_corpus \n",
    "2. loop each threshold to produce partial document pairs"
   ]
  },
  {
   "cell_type": "code",
   "execution_count": 3,
   "metadata": {},
   "outputs": [
    {
     "name": "stdout",
     "output_type": "stream",
     "text": [
      "Now on threshold:  0.1\n",
      "Counter({True: 25000, False: 25000}) 0.10155999999999998\n",
      "Now on threshold:  0.25\n",
      "Counter({False: 25000, True: 25000}) 0.24731999999999998\n",
      "Now on threshold:  0.5\n",
      "Counter({True: 25000, False: 25000}) 0.49628000000000005\n",
      "Now on threshold:  0.75\n",
      "Counter({False: 25000, True: 25000}) 0.7472799999999999\n",
      "Now on threshold:  0.9\n",
      "Counter({True: 25000, False: 25000}) 0.90036\n"
     ]
    }
   ],
   "source": [
    "threshold_list = [10, 25, 50, 75, 90]\n",
    "document_path = \"/home/ponshane/jupyter_working_dir/cross-lingual-topic-analysis/LFTM-input-files/2018-09-27-ponshane-50K-document-list.txt\"\n",
    "for each_threshold in threshold_list:\n",
    "    print(\"Now on threshold: \", str(each_threshold/100))\n",
    "    generate_incomplete_translated_corpus(file_path=document_path, num_of_doc=50000,\n",
    "                                         export_file_name=str(each_threshold)+\"percKeep-\",\n",
    "                                         sampling_rate=each_threshold/100)"
   ]
  }
 ],
 "metadata": {
  "kernelspec": {
   "display_name": "Python [conda env:cross-lingual]",
   "language": "python",
   "name": "conda-env-cross-lingual-py"
  },
  "language_info": {
   "codemirror_mode": {
    "name": "ipython",
    "version": 3
   },
   "file_extension": ".py",
   "mimetype": "text/x-python",
   "name": "python",
   "nbconvert_exporter": "python",
   "pygments_lexer": "ipython3",
   "version": "3.6.4"
  }
 },
 "nbformat": 4,
 "nbformat_minor": 2
}
