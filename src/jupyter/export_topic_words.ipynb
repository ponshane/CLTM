{
 "cells": [
  {
   "cell_type": "code",
   "execution_count": 9,
   "metadata": {},
   "outputs": [],
   "source": [
    "import sys\n",
    "# set python syspath to point out location of our self-writing module\n",
    "sys.path.append(\"/home/ponshane/work_dir/CLTM/src/codebase/\")\n",
    "\n",
    "from topic_evaluator import *"
   ]
  },
  {
   "cell_type": "markdown",
   "metadata": {},
   "source": [
    "# UM-Corpus"
   ]
  },
  {
   "cell_type": "code",
   "execution_count": 20,
   "metadata": {},
   "outputs": [],
   "source": [
    "numOfTopics = 20\n",
    "CLTM_betas = [\"../out/Experiment_results/CLTM/2018-10-24/80dim-50k-LFLDA20T100I1e-1beta.topWords\"]\n",
    "PMLDA_models = [\"../out/Experiment_results/PMLDA/2018-11-02/50K-20topics-50rep.pkl\"]\n",
    "PLDA_models = [\"../out/Experiment_results/PLDA/2018-10-23/50K-K20-Top500-phi.txt\"]"
   ]
  },
  {
   "cell_type": "code",
   "execution_count": 27,
   "metadata": {},
   "outputs": [
    {
     "name": "stdout",
     "output_type": "stream",
     "text": [
      "../out/Experiment_results/CLTM/2018-10-24/80dim-50k-LFLDA20T100I1e-1beta.topWords\n",
      "节目 英语 表达 解释 意思 收听 本期 学习 单词 词汇 短语 开始 不同 看看 美国之音 今天 欢迎 音乐 播客 对话 english use podcast guide learning expression episode phrase language example word news talk letter verb write learn esl song voa\n",
      "\n",
      "研究 发现 进行 人员 人类 科学家 通过 影响 一项 调查 导致 结果 实验 基因 原因 女性 产生 死亡 工作 健康 brain change human scientist study researcher blood collect result research gene finding dr journal skin lead damage disorder stage reveal\n",
      "\n",
      "名字 苏格兰 受欢迎 食物 战争 信息 西班牙 现在 意大利 来自 足球 巨人 财富 时代 这样 全世界 人们 一种 流行 总统 world american group united french today million japanese america thousand fight african north powerhouse fifa norwegian rich waterloo clinton ii\n",
      "\n",
      "过去 银行 很长 担心 习惯 交谈 约会 投资者 结婚 人士 地方 时间 关心 寻找 选举 庆幸 家人 电脑 假设 伴侣 people time work way money know person look think past life man job bank future day thing freedom find change\n",
      "\n",
      "公司 计划 项目 大学 企业 可能 投资 一家 基金 资金 价值 教授 亿美元 时间 学院 伦敦 收购 汽车 创业 俄罗斯 company university year firm economic business billion venture project euro dollar cost plan stanford college institute columbia coffee professor harvard\n",
      "\n",
      "法律 继续 进行 开始 希腊 自由 观点 认为 权利 允许 意大利 文章 发表 没有 坚持 决定 禁止 信仰 理由 尝试 come right law book thought think change idea mark raise act pass rule hope existence britain difference opposition freedom foundation\n",
      "\n",
      "时候 可以 意思 东西 没有 应该 知道 人们 告诉 看到 需要 不想 不会 是否 想要 地方 不能 情况 现在 别人 mean leave let mistake answer happen boss living buy wait ask good person english decide learn spell stay remember bother\n",
      "\n",
      "可以 一种 通过 使用 需要 现在 进行 帮助 这种 提供 成为 作为 方法 能够 控制 得到 选择 有效 没有 利用 head use provide develop run prize treat know step arm help recognition support goal answer draw nobel overcome fight tool\n",
      "\n",
      "一个 组织 其中 为了 想要 需要 个人 任务 获得 挑选出 一部分 所有人 应该 部分 成为 没有 每一项 回事 吸引 司空见惯 people want means need place lot going hard set giving choosing misunderstand sick today quo exaltation break party forbearance forgo\n",
      "\n",
      "总统 奥巴马 国家 选举 国会 大选 候选人 竞选 领导人 共和党 举行 贸易 反对 宣布 议会 期间 计划 民主党 李明博 工厂 president country government year party obama east state week america africa campaign month west korea end south day agreement carolina\n",
      "\n",
      "公司 信息 产品 网络 行业 数据 发布 网站 新闻 设备 环境 互联网 媒体 网上 技术 手机 客户 机器 银行 工具 information internet computer news agency apple google card smartphone medium making app newspaper brand software maker product company technology video\n",
      "\n",
      "美国 国家 经济 问题 表示 支持 来自 安全 欧洲 俄罗斯 政治 国际 包括 地区 重要 危机 发展 其中 日本 之一 influence city north russia community express culture georgia society institute japan ukraine lack washington population crisis situation shift policy europe\n",
      "\n",
      "美国 增加 中国 世界 政府 政策 希望 达到 提高 增长 帮助 国家 就业机会 移民 表示 得到 显示 削减 提供 未来 grow growth interest spending increase percent rate income department emission generation rise republic tax population demand boost potential revenue india\n",
      "\n",
      "工作 喜欢 起来 朋友 出来 一起 这种 找到 食物 地方 一样 没有 里面 联系 气氛 感受 进来 声音 葡萄酒 口味 like find kind place watch friend feel brass sit send fill bar christmas phone light serve roll color stand wrap\n",
      "\n",
      "同时 飞机 可以 系统 购买 好处 确保 种植 消费者 服务 带来 驾驶 学校 农民 健康 作物 居民 货币 需求 供给 help good food water home car pay health run care problem power order system body supply stop fuel store electricity\n",
      "\n",
      "开始 发生 学生 英国 超过 可能 报道 最近 一场 今天 比赛 结束 接下来 数字 原因 参加 现在 月份 过去 今年 year number average second half hit news start end month record high figure hold event drop poll quarter pull percent\n",
      "\n",
      "美国 地方 城市 公园 位于 太空 区域 旅行 机场 博物馆 建筑物 纽约 附近 这座 居民 其中 地球 街道 位置 爆炸 city live park york space area california land building tower ocean house ice sea town island airport los mountain downtown\n",
      "\n",
      "可能 认为 人们 问题 这样 表示 这种 不会 糟糕 可以 现在 知道 没有 方式 事情 不同 如此 重要 出现 一样 reason know fact discover think answer trouble change pose search noise science challenge lot find choice matter tend sort worry\n",
      "\n",
      "一位 美国 讲述 母亲 亨利 父亲 故事 女士 成为 女人 电影 孩子 制作 约翰 艾伦 博士 一名 家庭 说道 家人 question tell family steve angeles dr john ember kennedy founder story los woman wife son michael ted film audience actor\n",
      "\n",
      "政府 要求 叙利亚 机构 警察 抗议 军队 袭击 联合国 人权 卡扎菲 叛军 反对派 武装 抗议者 审判 试图 组织 利比亚 回应 mr security minister police government syria al threat iran military leader officer president qaeda general hamas suicide attack ban saddam\n",
      "\n"
     ]
    }
   ],
   "source": [
    "for each_beta in CLTM_betas:\n",
    "    print(each_beta)\n",
    "    loaded_cluster = load_LFTM_cluster(each_beta, numOfTopics)\n",
    "    splitted_cluster = split_language(loaded_cluster)\n",
    "    \n",
    "    ch_topics = [ topic[0] for topic in splitted_cluster if len(topic[0]) > 0 and len(topic[1]) > 0 ]\n",
    "    en_topics = [ topic[1] for topic in splitted_cluster if len(topic[0]) > 0 and len(topic[1]) > 0 ]\n",
    "\n",
    "    for ch_topic, en_topic in zip(ch_topics, en_topics):\n",
    "        print(' '.join(ch_topic[:20]), ' '.join(en_topic[:20]))\n",
    "        print()"
   ]
  },
  {
   "cell_type": "code",
   "execution_count": 29,
   "metadata": {},
   "outputs": [
    {
     "name": "stdout",
     "output_type": "stream",
     "text": [
      "../out/Experiment_results/PMLDA/2018-11-02/50K-20topics-50rep.pkl\n",
      "美国 城市 电影 纽约 华盛顿 一个 来自 举行 英国 乌克兰 总统 首都 亚努 科维奇 今年 教皇 居住 费城 奥运会 伦敦 president mr country minister government united prime south war north day european state europe east afghanistan america year korea american\n",
      "\n",
      "美国 政府 国家 表示 组织 联合国 进行 叙利亚 问题 总统 活动 一个 支持 机构 调查 国际 包括 帮助 军队 地区 president government iran security united nuclear military mr council international israel program foreign national power america obama iranian assad american\n",
      "\n",
      "研究 发现 一个 可能 这种 影响 问题 国家 疾病 治疗 美国 认为 博士 健康 进行 可以 基因 一种 人类 方法 people disease found time risk dr human study blood treatment life health age heart young drug hiv high brain long\n",
      "\n",
      "可以 一个 一种 公园 声音 东西 地方 汽车 一样 时候 看到 里面 火车 一条 颜色 城市 上面 肥皂 人们 这种 food eat people piece meat paper hand fat eating dog news wine long table weight water feel good low oil\n",
      "\n",
      "可以 工作 一个 东西 这样 可能 孩子 没有 意思 喜欢 美国 不会 公司 地方 时候 时间 一起 必须 知道 不能 people school person good leave means man time job money men friend place song company talking work high woman home\n",
      "\n",
      "公司 网站 信息 新闻 可以 媒体 互联网 网络 一个 用户 社交 报纸 网上 提供 组织 一家 产品 服务 可能 苹果 online world social information company software mr business people google market service news internet store apple firm media facebook card\n",
      "\n",
      "地区 美国 种植 环境 地方 植物 飞机 可能 可以 表示 发生 天气 造成 地震 时间 影响 科学家 海洋 温度 这种 water ice snow chart plant cold light sea place weather winter ground soil power land day air clean people dry\n",
      "\n",
      " space city earth park time land museum world aircraft york united pacific art china japan mr earthquake national ground region\n",
      "\n",
      "节目 学习 英语 本期 解释 收听 可以 指导 慢速 欢迎 现在 网站 美国之音 不同 意思 播客 看看 完整 词汇 文本 english podcast learning episode guide language number dr los voa angeles special website couple complete lucy vocabulary listen download esl\n",
      "\n",
      "大学 学生 学校 美国 教授 一个 项目 教育 工作 获得 来自 表示 课程 提供 研究 参加 一名 学院 教师 开始 university study school professor mr research group institute college education science law business found technology led journal degree training london\n",
      "\n",
      "一个 意思 可以 问题 可能 知道 人们 没有 事情 认为 这样 现在 时候 短语 这种 表达 应该 情况 东西 告诉 means people time expression work good money person word meaning thing talk lot verb talking today wrong long question hard\n",
      "\n",
      "经济 世界 可能 粮食 严重 运动员 人们 比赛 地区 一场 状况 美国 欧洲 危机 遭受 艰难 能源 损失 灾难 令人 \n",
      "\n",
      "美国 一名 袭击 发生 事件 索马里 组织 肯尼亚 指控 警察 炸弹 飞机 审判 火山 伊斯兰 附近 爆炸 来自 丧生 男子 government people al police capital military group attack city south bbc somalia american anti dead men kenya bomb country control\n",
      "\n",
      "公司 美国 经济 亿美元 增长 投资 企业 一个 国家 工作 政府 银行 增加 移民 发展 计划 减少 交易 中国 资金 year money business billion pay company america people world cost price growth market high china firm bank government economic financial\n",
      "\n",
      " dr found team human dna effect genetic time university status system species experiment social people question homo watch stage stand\n",
      "\n",
      "公司 技术 使用 一个 飞机 电脑 设备 可以 系统 信息 太空 制造 移动 提供 机器人 能够 进行 开发 机器 需要 \n",
      "\n",
      "总统 美国 支持 选举 奥巴马 成为 候选人 共和党 通过 政治 认为 选民 法案 一位 竞选 法律 政府 可能 投票 工会 president party mr obama republican state romney time house washington support candidate law congress american people court government election marriage\n",
      "\n",
      "美国 一个 世纪 年代 一位 故事 开始 音乐 女性 歌曲 认为 历史 电影 成为 可能 博物馆 时候 早期 叫做 研究 \n",
      "\n",
      " people world year health thousand work food million united organization national today family half report american program country school child\n",
      "\n",
      " car people city police train day plane gas airport engine flight street run cross water york phone air red place\n",
      "\n"
     ]
    }
   ],
   "source": [
    "for each_model in PMLDA_models:\n",
    "    \"\"\"\n",
    "    並不會呈現完整的 numOfTopics\n",
    "    因為有的是單語言的主題\n",
    "    \"\"\"\n",
    "    print(each_model)\n",
    "    splitted_cluster = load_pmlda_cluster(each_model, numOfTopics)\n",
    "    \n",
    "    ch_topics = [ topic[0] for topic in splitted_cluster]\n",
    "    en_topics = [ topic[1] for topic in splitted_cluster]\n",
    "\n",
    "    for ch_topic, en_topic in zip(ch_topics, en_topics):\n",
    "        print(' '.join(ch_topic[:20]), ' '.join(en_topic[:20]))\n",
    "        print()"
   ]
  },
  {
   "cell_type": "code",
   "execution_count": 32,
   "metadata": {},
   "outputs": [
    {
     "name": "stdout",
     "output_type": "stream",
     "text": [
      "../out/Experiment_results/PLDA/2018-10-23/50K-K20-Top500-phi.txt\n",
      "互联网 美国之音 基金会 英语词汇 出版商 世界各地 有助于 电视节目 电子游戏 亚马逊 计算机 早些时候 撰稿人 新闻报道 图书馆 克鲁斯 马里奥 新闻节目 电视台 如是说 news special english voa internet report world information week technology social program online facebook people media service american data learning\n",
      "\n",
      "博物馆 底特律 称之为 接下来 艺术家 运动员 俱乐部 年轻人 夏威夷 好莱坞 办公室 艺术品 游乐园 过山车 坎贝尔 百老汇 小孩子 评论家 电影院 橄榄球 people like song old place park music game watch young idea story want play going movie friend lead football good\n",
      "\n",
      "肯尼亚 索马里 一部分 制造商 智能手机 期播客 埃塞俄比亚 特斯拉 消费者 苹果公司 伊斯兰 竞争对手 乔布斯 com 诺基亚 维基百科 操作系统 电动车 个人电脑 受欢迎 english podcast second language episode number look learning guide business help welcome like website going talk complete apple company couple\n",
      "\n",
      "奥巴马 共和党 候选人 罗姆尼 肯尼迪 参议员 民主党 参议院 约翰逊 基督教 共和党人 支持者 众议院 巴拉克 同性恋 浸信会 第一位 丹尼尔斯 天主教 民主党人 president obama state american party time support public house republican law year election candidate romney barack campaign world right marriage\n",
      "\n",
      "科学家 帕金森病 干细胞 心脏病 实验室 研究员 弗洛伊德 可能性 研究者 感兴趣 结核病 化学物质 其他人 意味着 潜意识 成年人 机器人 老年痴呆症 生物学 蛋白质 people disease found high study human risk brain long heart health blood system body cause family low problem cancer able\n",
      "\n",
      "利比亚 以色列 委员会 领导人 卡扎菲 穆斯林 伊斯兰 尼日利亚 抗议者 巴勒斯坦 新政府 的黎波里 穆罕默德 赛义夫 拉迪奇 哈马斯 卡梅伦 候选人 穆巴拉克 游行者 government minister prime police group court month libya men country british military party time head leader israel power war international\n",
      "\n",
      "史蒂夫 打电话 威士忌 葡萄酒 接下来 是因为 办公室 任何人 苏格兰 这方面 工作人员 一个月 安全局 感兴趣 一会儿 储物柜 国安局 小孩子 临时工 副校长 people time means work want like know going job person good think need come steve leave company ember saying tell\n",
      "\n",
      "研究所 负责人 研究者 波士顿 科学家 计算机 马戏团 研究员 毕业典礼 曼德拉 马萨诸塞州 受害者 研究院 万美元 丹尼尔 科罗拉多 高等教育 青少年 风险投资 陈光诚 university school study high professor think work time research year business institute law college better team education life group way\n",
      "\n",
      "俄罗斯 乌克兰 领导人 尼克松 联合国 国务卿 科维奇 杜鲁门 克林顿 成员国 支持者 委员会 莫斯科 克里米亚 柬埔寨 共和国 工作人员 希拉里 中非共和国 外交政策 south president russia korea north united country european union government war china ukraine europe russian foreign sudan american state vietnam\n",
      "\n",
      "全世界 年轻人 艾滋病 联合国 万美元 发展中国家 津巴布韦 世界粮食计划署 重要性 尼日尔 流离失所 印度尼西亚 所有人 相当于 核电站 哥伦比亚 营养不良 计划生育 劳动力 青少年 people food world year million percent half health united found thousand report need water plant past program child organization power\n",
      "\n",
      "墨西哥 奥运会 气候变化 是因为 全世界 太平洋 支持者 乌干达 www 运动员 http 亚太地区 太阳能 影响力 工程师 纪念碑 中产阶级 几十年 研究所 大西洋 united world africa east asia way america middle year change china south energy climate mexico region west class pacific power\n",
      "\n",
      "洛杉矶 休斯顿 圣诞老人 圣诞节 芝加哥 建筑物 圣诞树 大城市 拉斯维加斯 纽约时报 迈克尔 注意力 纽约城 主持人 广播节目 明尼苏达州 宾夕法尼亚州 加利福尼亚 杰克逊 印第安人 city people york year like los live angeles california state center united capital man christmas home development going today family\n",
      "\n",
      "投资者 亿美元 投资人 信用卡 有助于 优惠券 史密斯 一部分 消费者 董事会 收银员 养老金 保险公司 债权人 斯科特 支付卡 做生意 可能性 零售商 医疗保险 money company business pay buy price bank help use day card store sell lot service means work product like good\n",
      "\n",
      "机器人 发动机 意味着 飞行员 航空公司 一段时间 史蒂芬 无人机 高速公路 制造商 计算机 言论自由 工程师 参与者 各种各样 一个月 电动机 停下来 无人驾驶 第一个 time car way let means going need speed aircraft listen place use train flight long like dialogue work airport plane\n",
      "\n",
      "华盛顿 阿富汗 巴基斯坦 奥巴马 负责人 罗斯福 领导人 塔利班 情报局 本拉登 致力于 芝加哥 伊拉克 美国国务院 伙伴关系 至关重要 双胞胎 令人担忧 发言人 阿雷格 washington american united president america war long afghanistan pakistan military week group americans year future nato time department country security\n",
      "\n",
      "叙利亚 联合国 反对派 发言人 阿萨德 阿拉伯 黎巴嫩 抗议者 土耳其 安全部队 领导人 核武器 伊拉克 人道主义 日内瓦 恐怖主义 安理会 大马士革 默克尔 潘基文 government country security syria iran police people united international syrian arab nuclear president opposition general group violence national peace official\n",
      "\n",
      "意味着 是因为 其他人 第一个 某件事 埃德加 好消息 早些时候 解决问题 办公室 同一个 解决方案 英国人 形容词 反义词 注意力 篇文章 阅读障碍 tell 诺贝尔奖 means use people know expression want think word going person mean good verb meaning way thing tell right example help\n",
      "\n",
      "感恩节 一部分 是因为 第一个 拉尔夫 致力于 受欢迎 陪审团 卡路里 称之为 囤积者 所有人 怎么样 吸引力 陪审员 格里菲斯 阿德里亚 西红柿 开玩笑 碳水化合物 people like food day use know eat find right want talking home away feel good voice means common think example\n",
      "\n",
      "科学家 望远镜 小行星 意味着 太阳能 成千上万 一部分 乔伊斯 取决于 克莱因 空间站 芭芭拉 经济学家 抗议者 太空船 探测器 原材料 美国宇航局 美国政府 开普勒 space water like long time ice use earth found need air piece home day head paper house inside light sea\n",
      "\n",
      "亿美元 意大利 西班牙 欧元区 澳大利亚 加拿大 失业率 经济衰退 经济体 欧洲央行 金融危机 经济危机 制造业 基础设施 世界银行 家乐福 埃克森 发达国家 梵蒂冈 福斯特 billion year economic growth world america financial economy crisis bank government europe industry high oil italy deal end britain china\n",
      "\n"
     ]
    }
   ],
   "source": [
    "for each_beta in PLDA_models:\n",
    "    print(each_beta)\n",
    "    splitted_cluster = load_plda_cluster(each_beta, numOfTopics)\n",
    "    \n",
    "    ch_topics = [ topic[0] for topic in splitted_cluster if len(topic[0]) > 0 and len(topic[1]) > 0 ]\n",
    "    en_topics = [ topic[1] for topic in splitted_cluster if len(topic[0]) > 0 and len(topic[1]) > 0 ]\n",
    "\n",
    "    for ch_topic, en_topic in zip(ch_topics, en_topics):\n",
    "        print(' '.join(ch_topic[:20]), ' '.join(en_topic[:20]))\n",
    "        print()"
   ]
  },
  {
   "cell_type": "markdown",
   "metadata": {},
   "source": [
    "# MLDoc"
   ]
  },
  {
   "cell_type": "code",
   "execution_count": 15,
   "metadata": {},
   "outputs": [],
   "source": [
    "numOfTopics = 20\n",
    "CLTM_betas = [\"/home/ponshane/work_dir/CLTM-Experiments/Results/MLDoc/model-comparison/CLTM-fix90dim-20topics.topWords\"]\n",
    "PMLDA_models = [\"/home/ponshane/work_dir/CLTM-Experiments/Results/MLDoc/model-comparison/PMLDA-20topics-10rep.pkl\"]"
   ]
  },
  {
   "cell_type": "code",
   "execution_count": 3,
   "metadata": {},
   "outputs": [
    {
     "name": "stdout",
     "output_type": "stream",
     "text": [
      "/home/ponshane/work_dir/CLTM-Experiments/Results/MLDoc/model-comparison/CLTM-fix90dim-20topics.topWords\n",
      "鼓舞 预计 业务 暗示 联盟 商品 天然胶 公布 消费者 有所 势头 升息 预期 顺差 铜价 带动 就业机会 自由化 机器 投资 growth economy policy meeting deficit union sign board concern director finance wage comment hike commerce gdp managing spending worry warn\n",
      "\n",
      "下去 跌破 位置 销售 企业债券 报导 上网 给予 关口 偏高 程式 下滑 急挫 追缴 下行 下探 未受 油市 跌势 产权 say think start include add people take issue want work meet tell try go give spokesman agree look decline consider\n",
      "\n",
      "香港 路透社 上海 有限公司 股份 上市 周一 周五 周三 周四 集团 伦敦 周二 工业 机构 深交所 单位 港元 深圳 停牌 shipping date tile lodge institute stockbroker unveil appoint multiple commence employ orion down prospectus kwacha antique lieu bogota studio pend\n",
      "\n",
      "获得 收价 大豆 小麦 玉米 白银 收高 回补 值较 铝价 利率 多万元 经济指标 准备 多于 稍后 汽油 白金 买盘 原油 market trader point dollar close day dealer week end volume future yen index broker trading tonne mark high bourse see\n",
      "\n",
      "每盎司 传言 日起 合约 跌停板 升元 传闻 B股 预计 表示 平仓 言论 指数 最低价 发表谈话 品种 结算价 数据 国际货币基金 美资 say state cent hold lead money cut end report remain deal accord fund pressure leave follow order security base month\n",
      "\n",
      "项目 每股 上市公司 年报 境外 上半年 积体电路 经营 市值 总数 筹资 营业额 投产 行业 总资产 负债 享受 参股 受益 营业部 augment invest intend purpose creation structure base employ authorize material mineral utilise prospectus reinvestment mining addition proceed exist distribution newsletter\n",
      "\n",
      "准备 预订 罗慕斯 标售 议长 政府 委员会 国际化 时分 军事 桥本龙太郎 可兑换 选举 投票 两岸 政情 宣告 英国政府 国会 深发展 government country tell election talk plan minister president opposition news rule reporter city right party nation leader reform development car\n",
      "\n",
      "路透社 中国 目前 公布 期货 台湾 报导 北京 美国 国际 华盛顿 叶尔钦 指出 引述 东京 芝加哥 进行 问题 加权 科威特 date trip lodge bag affirmation disconnect week castorseed schedule assure shipbroker check summary million err surgery perry damage decertification brasilia\n",
      "\n",
      "市场 利率 美元 美国 可能 台币 交易员 日圆 人民币 週二 显示 人士 公债 马克 盘中 月份 日本 週一 水准 昨日 annoucement month lessening rb jitter groundless forward figure positon default lend fixture bargain weight nomura creditwatch yr opening res consultancy\n",
      "\n",
      "地产 週六开 准备 楼房 补空 缩手 内需 商品 收入 亿元 销售收入 经营 大酒店 午后 低价 销后 回补 增多 低价股 不动产 bank company say bond tax profit budget investment expect product debt term cost interest analyst account plan capital group investor\n",
      "\n",
      "英国 年增率 强势 如此 较前 现货价 贴现率 物价指数 定盘 银行存款 统计数据 城镇居民 迹象 数字 挂钩 调查报告 有所 走强 亿元 目标区 percent year say rate rise sale expect month quarter inflation increase interest statement analyst price economist forecast period raise term\n",
      "\n",
      "经济 日本 年率 景气 指数 货供额 月经 第四季 年增率 零售 全德 国家统计局 销售 第三季 经济指标 物价 同期 增幅 失业率 调查报告 climate division month p importance employment contributor weight grow capita tabulate afford winter item survey tonne vegetable commodity draw footwear\n",
      "\n",
      "表示 日电 指出 股市 预期 亿美元 银行 德国 影响 报告 平均 预测 台北 修正 货币 数据 去年 短期 欧洲 年度 r inflow president hunt t recovery reckon deutsche berth reset censure join g year corporate compare prawa consensus dec romania\n",
      "\n",
      "央行 准备 准备金 会议 效果 拉长 利率政策 存期 体系 释金 情势 有太大 上调 定期存单 决策 集会 目标区 宽松 应该 记者会 reason basis commission reduction entail ministry term need participation month commitment demand norm committment condition tender responsibility week amnesty leave\n",
      "\n",
      "公司 发行 万股 亿元 万元 去年同期 利润 交易 交易所 收益 部份 股东 销售 供应 盈利 相关 升幅 售价 供给 多万元 offer system change reserve shareholder rating asset dividend liquidity tender rupiah transaction float repurchase size penny deposit value quality certificate\n",
      "\n",
      "今年 国内 上升 维持 下降 上扬 下跌 成为 主要 券商 出现 出口 有限 进行 受到 利多 增加 现货 持平 获利 rand lift stock drop cash restriction shortfall result begining shrink decline formation msci month curtail contraction surplus scarcity petroleum swap\n",
      "\n",
      "生产 主营业务 多亿元 较前 损失 升值 市场占有率 库存 去年同期 橡胶 证交所 商品房 影响 销售收入 多万元 来源 亿多元 需求 国内 亿元 say share trade market price fall percent stock rise newsroom report export result sell gain buy figure sector demand estimate\n",
      "\n",
      "收盘 交投 收低 收高 成交量 原油期货 升势 跌停板 美股 曾一度 披索 诱因 布兰特 今天 分钟 今日 锐升 收复 收市 局面 today name pit medium jerk weekend speculate noon yesterday sideline follow drag mmbtu hunting newspaper eye bargain cap hand expire\n",
      "\n",
      "实现 提供 地区 纪念日 证交所 业务 预测 收价 挹注 涨跌 分行 跌破 总产值 增长点 增加值 稳定增长 贵金属 走稳 南非 数据 year time day come set week support company business group make continue way go say bring expect firm number allow\n",
      "\n",
      "B股 成指 A股 晚间 感染 点数 上网 返回 报导 台风 大陆 平均线 深股 民意调查 泰国政府 体系 开通 统计数字 综指 金融中心 official authority win police rebel source force town defence man kill blow troop soldier worker expert lawyer court form seal\n",
      "\n"
     ]
    }
   ],
   "source": [
    "for each_beta in CLTM_betas:\n",
    "    print(each_beta)\n",
    "    loaded_cluster = load_LFTM_cluster(each_beta, numOfTopics)\n",
    "    splitted_cluster = split_language(loaded_cluster)\n",
    "    \n",
    "    ch_topics = [ topic[0] for topic in splitted_cluster if len(topic[0]) > 0 and len(topic[1]) > 0 ]\n",
    "    en_topics = [ topic[1] for topic in splitted_cluster if len(topic[0]) > 0 and len(topic[1]) > 0 ]\n",
    "\n",
    "    for ch_topic, en_topic in zip(ch_topics, en_topics):\n",
    "        print(' '.join(ch_topic[:20]), ' '.join(en_topic[:20]))\n",
    "        print()"
   ]
  },
  {
   "cell_type": "code",
   "execution_count": 11,
   "metadata": {},
   "outputs": [
    {
     "name": "stdout",
     "output_type": "stream",
     "text": [
      "/home/ponshane/work_dir/CLTM-Experiments/Results/MLDoc/model-comparison/PMLDA-20topics-10rep.pkl\n",
      "company share bank percent government year plan state investment group firm shareholder statement offer capital market stake stock debt fund \n",
      "\n",
      "bond tax percent year sale cost revenue school profit interest win quarter company share obligation earning expect result price improvement 美国 英国 调整 销售 物价 指数 季节 年率 去年同期 第季 消费者 初值 货供额 物价指数 数据 年增率 零售 日本 工业生产 终值\n",
      "\n",
      " 表示 台币 路透社 台湾 日电 经济 成长 预期 美国 亿美元 指出 今年 台北 公布 投资 增加 公司 数据 预估 去年同期\n",
      "\n",
      " 美元 股市 马克 收盘 市场 表示 日圆 指数 下跌 交易员 上涨 预期 盘中 路透社 美元兑 股价指数 日电 高点 交投 经纪商\n",
      "\n",
      " 利率 市场 今日 成交 天期 表示 交易员 合约 台币 央行 资金 人民币 上海 下跌 日电 路透社 可能 认为 收盘 人士\n",
      "\n",
      "percent rate year bank market rise bond month issue growth price expect government interest inflation dollar increase debt yield week 央行 利率 路透社 日电 表示 准备 存款 调降 亿美元 银行 货供额 货币 美国联邦 降息 理事会 德国 资金 市场 附买 货币政策\n",
      "\n",
      "company trade service market year business product country system include industry plan story agreement report base network develop state export \n",
      "\n",
      " 中国 表示 路透社 日电 美国 总统 柯林顿 香港 邓小平 北京 官员 举行 发言人 报导 指出 总理 台湾 进行 华盛顿 叶尔钦\n",
      "\n",
      " 期货 美元 美分 收盘 芝加哥 日电 路透社 交易所 美国 公债 玉米 下跌 市场 交易商 月期 大豆 表示 收低 纽约 小麦\n",
      "\n",
      "oil power gas day plant water expect unit area barrel electricity capacity production hour space flood port build week wind \n",
      "\n",
      "market price share trader cent gold trade stock percent point tonne close end rise yen rand fall index week copper \n",
      "\n",
      " 企业 中国 发展 银行 业务 报导 经营 指出 路透社 市场 香港 国家 日电 管理 人民币 工作 上海 资金 投资 经济\n",
      "\n",
      " 公司 有限公司 万元 上海 发行 万股 股份 路透社 日电 上市 香港 每股 中国 利润 公告 A股 指出 表示 股本 B股\n",
      "\n",
      "government election party talk leader country vote state minister meeting year opposition president official rule parliament member week peace hold \n",
      "\n",
      " 香港 港元 日电 路透社 亿港元 年度 每股 日期 表示 年月日 股息 有限公司 业绩 公司 月份 月底 净利 全年 单位 股份\n",
      "\n",
      " 日本 表示 东京 经济 路透社 日圆 日电 指出 日本央行 官员 大藏省 可能 泰国 目前 央行 政府 银行 松下 记者会 持续\n",
      "\n",
      "police people government force kill rebel attack official refugee town troop city report group soldier army security area capital arrest \n",
      "\n",
      "win game play team beat match season year time player score minute test lead world goal club point day run \n",
      "\n",
      " 增长 中国 亿元 同比 今年 亿美元 路透社 北京 日电 月份 报导 万吨 出口 进口 产量 预计 国内 经济 下降 投资\n",
      "\n",
      "year case find woman child people court charge man drug death work time family trial life report day face give \n",
      "\n"
     ]
    }
   ],
   "source": [
    "for each_model in PMLDA_models:\n",
    "    \"\"\"\n",
    "    並不會呈現完整的 numOfTopics\n",
    "    因為有的是單語言的主題\n",
    "    \"\"\"\n",
    "    print(each_model)\n",
    "    splitted_cluster, _, _ = load_pmlda_cluster(each_model)\n",
    "    \n",
    "    ch_topics = [ topic[0] for topic in splitted_cluster]\n",
    "    en_topics = [ topic[1] for topic in splitted_cluster]\n",
    "\n",
    "    for ch_topic, en_topic in zip(ch_topics, en_topics):\n",
    "        print(' '.join(ch_topic[:20]), ' '.join(en_topic[:20]))\n",
    "        print()"
   ]
  },
  {
   "cell_type": "code",
   "execution_count": 7,
   "metadata": {},
   "outputs": [
    {
     "name": "stderr",
     "output_type": "stream",
     "text": [
      "2019-04-19 11:09:22 INFO:JointCorpus:size of concept: 514, size of source vocab: 11021, size of target vocab: 6688\n",
      "2019-04-19 11:09:22 INFO:JointCorpus:Successfully generate idx corpus 'self.docs' and language flags 'self.language_flags'\n"
     ]
    },
    {
     "name": "stdout",
     "output_type": "stream",
     "text": [
      "第季 股票 物价 出售 首都 国内 工业生产 生产总值 去年同期 基地 时间 消费者 物价指数 经济指标 失业率 初值 前季 较前 主任 修正 say company share percent group stock r shareholder offer stake firm statement plan issue deal buy investment sell capital hold\n",
      "\n",
      "利率 利息 年度 公司 政策 亿元 投资 中国 报导 项目 集团 上海 任期 加上 企业 北京 路透社 日电 上升 国际 say rate growth inflation economy interest economist year corporate policy market analyst cut percent point expect shanghai think term add\n",
      "\n",
      "合约 政府 市场 交易员 天期 投票 成交 人民币 利率 主席 今日 国债 下跌 大臣 年度 上海 活跃 支援 日电 路透社 election party government say vote opposition leader rate power president parliament rule poll minister year lead win shanghai campaign state\n",
      "\n",
      "台湾 台币 台北 表示 亿美元 路透社 法院 日电 投资 案件 证券 年度 今年 公司 政府 月份 法律 增加 秩序 去年 say story charge court case police year corporate drug government month arrest law report find newspaper increase trial tell order\n",
      "\n",
      "公司 发行 万股 上市 a股 利润 表示 有限公司 万元 股份 香港 b股 股本 中国 发行价 价格 年度 世界 职工股 承销商 corporate listing win play game beat team match season equity lead year player time world score test minute say major\n",
      "\n",
      "年度 利率 上升 央行 月份 台币 秋天 增加 资金 今日 表示 市场 票券 准备 拆款 天期 买票 行库 银行 成交 percent year rate rise say month price growth quarter fall increase figure expect forecast inflation sale report compare period show\n",
      "\n",
      "德国 表示 央行 路透社 日电 英国 人民 法国 总统 欧洲 会议 需要 想要 柯林顿 华盛顿 政府 国会 美国 货币 得到 say go time people think come need problem want day government get know way year water look thursday move bring\n",
      "\n",
      "利率 公债 年度 年期 路透社 市场 日电 利息 债市 成本 表示 基金 美国联邦 准备 基点 债券 降息 联邦 理事会 任期 bond rate say issue percent year yield rating interest cost market win fund school note debt price term sale go\n",
      "\n",
      "美元 中国 表示 路透社 支援 星期 合同 秋天 日电 香港 上升 美国 官员 月份 任期 上午 北京 下午 今天 指出 say market dollar dealer yen trader mark trade end future close gold level day support week contract analyst see fall\n",
      "\n",
      "市场 政府 认为 大盘 大臣 平安 今日 成交 政策 上海 同意 星期 想要 亿元 包括 加上 表示 可能 需要 分析师 say talk tell country meeting official meet issue state government conference agreement news minister peace member hold deal policy plan\n",
      "\n",
      "政府 增长 年度 中国 月份 赤字 同比 增加 今年 亿美元 亿元 收入 路透社 出口 改革 万吨 日电 北京 报导 进口 say government tax budget year month debt deficit state increase revenue plan exit reform cut finance pay percent fund payment\n",
      "\n",
      "美元 期货 收盘 马克 美分 石油 市场 星期 芝加哥 交易所 路透社 下跌 日电 纽约 交易商 美国 日圆 表示 交易员 盘中 dollar cent say price trader tonne oil week barrel market future trade crude corn wheat demand sell buy sale contract\n",
      "\n",
      "香港 人民 港元 政府 路透社 日电 城市 首都 公司 亿港元 每股 年度 星期 休假 日期 援助 返回 省份 发行 北部 say people police force government rebel attack kill official town troop refugee city capital group corporate soldier report tell army\n",
      "\n",
      "股市 指数 收盘 下跌 表示 市场 上涨 股价指数 经纪商 成交 券商 成为 收高 成交量 点至 获利 综合 收低 投资人 盘中 say project power plant production gas expect capacity year company state stock unit plan service singapore major add oil build\n",
      "\n",
      "路透社 日电 上升 公布 年度 数据 去年同期 销售 调整 赤字 增加 指数 月份 下降 商品 零售 亿美元 出口 如下 季节 trade say export rise year import investment deficit increase country month account decline product retailing market exit industry amendment surplus\n",
      "\n",
      "日本 股票 上升 表示 日圆 东京 秋天 路透社 日电 星期 盈利 经济 晶片 里拉 指出 官员 日本央行 贸易顺差 大藏省 可能 share point stock market index percent say rise close trade volume fall gain investor broker end day week trading profit\n",
      "\n",
      "利率 公司 上海 万元 股份 有限公司 每股 公告 路透社 日电 指出 月份 法案 停牌 年度 星期 利息 上午 实现 股东 bank percent rate corporate say shanghai announcement money reserve day month bill year market week interest morning dollar newsroom revenue\n",
      "\n",
      "经济 表示 成长 预期 美国 可能 认为 指出 目前 分析师 经济学家 显示 维持 路透社 需求 景气 未来 成长率 国内 今年 say rupee current demand trade price market rise increase decline dealer option rate sugar dinar contract month prospect dollar quote\n",
      "\n",
      "年度 盈利 企业 中国 发展 法郎 商品 管理 银行 成本 业务 经营 指出 增加 收入 包括 市场 日电 工作 有关 say year company profit quarter sale expect result business earning market share analyst group report loss franc product management cost\n",
      "\n",
      "美国 英国 年率 年增率 指数 德国 日本 销售 货供额 物价 加拿大 订单 调整 消费者 万人 年度 数据 工业生产 零售 物价指数 say year woman retailing child people house deduction family expenditure cost man work health know find bear heart death life\n",
      "\n"
     ]
    }
   ],
   "source": [
    "from ptm import JointCorpus\n",
    "corpus = JointCorpus(source_corpus_file=\"/home/ponshane/work_dir/CLTM-Experiments/Data/MLDoc/MLDoc-English.txt\",\n",
    "                     target_corpus_file=\"/home/ponshane/work_dir/CLTM-Experiments/Data/MLDoc/MLDoc-Chinese.txt\")\n",
    "corpus.update_doctionary(\"/home/ponshane/work_dir/CLTM-Experiments/Data/MLDoc/MLDoc_EN_ZH_dictionaries.csv\")\n",
    "corpus.convert_raw_corpus_to_trainable_corpus()\n",
    "\n",
    "JointLDAs = [\"/home/ponshane/work_dir/CLTM-Experiments/Results/MLDoc/model-comparison/JointLDA-20topics.pickle\"]\n",
    "\n",
    "for idx, model_path in enumerate(JointLDAs):\n",
    "    with open(model_path, 'rb') as handle:\n",
    "        model = pickle.load(handle)\n",
    "        \n",
    "    source_topic_list, target_topic_list = split_topics_by_languages(n_topic=20, n_words=1000,\n",
    "                                                                model=model, corpus=corpus)\n",
    "    \n",
    "    for ch_topic, en_topic in zip(target_topic_list, source_topic_list):\n",
    "        print(' '.join(ch_topic[:20]), ' '.join(en_topic[:20]))\n",
    "        print()"
   ]
  },
  {
   "cell_type": "markdown",
   "metadata": {},
   "source": [
    "# how many dict in topwords?"
   ]
  },
  {
   "cell_type": "code",
   "execution_count": 4,
   "metadata": {},
   "outputs": [],
   "source": [
    "zh_dict = list()\n",
    "en_dict = list()\n",
    "with open(\"/home/ponshane/work_dir/CLTM-Experiments/Data/MLDoc/MLDoc_EN_ZH_dictionaries.csv\", \"r\") as handler:\n",
    "    for line in handler:\n",
    "        tmp = line.strip(\"\\n\").split(\",\")\n",
    "        en_dict.append(tmp[0])\n",
    "        zh_dict.append(tmp[1])"
   ]
  },
  {
   "cell_type": "code",
   "execution_count": 26,
   "metadata": {},
   "outputs": [
    {
     "name": "stderr",
     "output_type": "stream",
     "text": [
      "2019-05-09 20:43:19 INFO:JointCorpus:size of concept: 514, size of source vocab: 11021, size of target vocab: 6688\n",
      "2019-05-09 20:43:19 INFO:JointCorpus:Successfully generate idx corpus 'self.docs' and language flags 'self.language_flags'\n"
     ]
    },
    {
     "name": "stdout",
     "output_type": "stream",
     "text": [
      "0.31399999999999995\n",
      "0.29300000000000004\n",
      "0.2920000000000001\n",
      "0.29000000000000004\n",
      "0.2832\n"
     ]
    }
   ],
   "source": [
    "from ptm import JointCorpus\n",
    "import pickle\n",
    "\n",
    "corpus = JointCorpus(source_corpus_file=\"/home/ponshane/work_dir/CLTM-Experiments/Data/MLDoc/MLDoc-English.txt\",\n",
    "                     target_corpus_file=\"/home/ponshane/work_dir/CLTM-Experiments/Data/MLDoc/MLDoc-Chinese.txt\")\n",
    "corpus.update_doctionary(\"/home/ponshane/work_dir/CLTM-Experiments/Data/MLDoc/MLDoc_EN_ZH_dictionaries.csv\")\n",
    "corpus.convert_raw_corpus_to_trainable_corpus()\n",
    "\n",
    "JointLDAs = [\"/home/ponshane/work_dir/CLTM-Experiments/Results/MLDoc/model-comparison/JointLDA-10topics.pickle\",\n",
    "            \"/home/ponshane/work_dir/CLTM-Experiments/Results/MLDoc/model-comparison/JointLDA-20topics.pickle\",\n",
    "            \"/home/ponshane/work_dir/CLTM-Experiments/Results/MLDoc/model-comparison/JointLDA-30topics.pickle\",\n",
    "            \"/home/ponshane/work_dir/CLTM-Experiments/Results/MLDoc/model-comparison/JointLDA-40topics.pickle\",\n",
    "            \"/home/ponshane/work_dir/CLTM-Experiments/Results/MLDoc/model-comparison/JointLDA-50topics.pickle\"]\n",
    "\n",
    "for idx, model_path in enumerate(JointLDAs):\n",
    "    with open(model_path, 'rb') as handle:\n",
    "        model = pickle.load(handle)\n",
    "        \n",
    "    source_topic_list, target_topic_list = split_topics_by_languages(n_topic=(idx+1)*10, n_words=1000,\n",
    "                                                                model=model, corpus=corpus)\n",
    "    \n",
    "    all_proportion_of_dict = list()\n",
    "    for ch_topic, en_topic in zip(target_topic_list, source_topic_list):\n",
    "        count_for_each_topic = 0\n",
    "        for zh, en in zip(zh_dict, en_dict):\n",
    "            if zh in ch_topic[:50] and en in en_topic[:50]:\n",
    "                count_for_each_topic +=1\n",
    "                \n",
    "        all_proportion_of_dict.append(count_for_each_topic/50)\n",
    "    print(sum(all_proportion_of_dict)/len(all_proportion_of_dict))"
   ]
  },
  {
   "cell_type": "code",
   "execution_count": 28,
   "metadata": {},
   "outputs": [
    {
     "name": "stdout",
     "output_type": "stream",
     "text": [
      "0.022\n",
      "0.024\n",
      "0.029333333333333343\n",
      "0.03350000000000001\n",
      "0.03120000000000001\n"
     ]
    }
   ],
   "source": [
    "CLTM_betas = [\"/home/ponshane/work_dir/CLTM-Experiments/Results/MLDoc/model-comparison/CLTM-fix90dim-10topics.topWords\",\n",
    "              \"/home/ponshane/work_dir/CLTM-Experiments/Results/MLDoc/model-comparison/CLTM-fix90dim-20topics.topWords\",\n",
    "             \"/home/ponshane/work_dir/CLTM-Experiments/Results/MLDoc/model-comparison/CLTM-fix90dim-30topics.topWords\",\n",
    "             \"/home/ponshane/work_dir/CLTM-Experiments/Results/MLDoc/model-comparison/CLTM-fix90dim-40topics.topWords\",\n",
    "             \"/home/ponshane/work_dir/CLTM-Experiments/Results/MLDoc/model-comparison/CLTM-fix90dim-50topics.topWords\"]\n",
    "\n",
    "for idx, each_beta in enumerate(CLTM_betas):\n",
    "    loaded_cluster = load_LFTM_cluster(each_beta, (idx+1)*10)\n",
    "    splitted_cluster = split_language(loaded_cluster)\n",
    "    \n",
    "    ch_topics = [ topic[0] for topic in splitted_cluster if len(topic[0]) > 0 and len(topic[1]) > 0 ]\n",
    "    en_topics = [ topic[1] for topic in splitted_cluster if len(topic[0]) > 0 and len(topic[1]) > 0 ]\n",
    "    \n",
    "    all_proportion_of_dict = list()\n",
    "    for ch_topic, en_topic in zip(ch_topics, en_topics):\n",
    "        count_for_each_topic = 0\n",
    "        for zh, en in zip(zh_dict, en_dict):\n",
    "            if zh in ch_topic[:50] and en in en_topic[:50]:\n",
    "                count_for_each_topic +=1\n",
    "                \n",
    "        all_proportion_of_dict.append(count_for_each_topic/50)\n",
    "    print(sum(all_proportion_of_dict)/len(all_proportion_of_dict))"
   ]
  }
 ],
 "metadata": {
  "kernelspec": {
   "display_name": "Python [conda env:cross-lingual]",
   "language": "python",
   "name": "conda-env-cross-lingual-py"
  },
  "language_info": {
   "codemirror_mode": {
    "name": "ipython",
    "version": 3
   },
   "file_extension": ".py",
   "mimetype": "text/x-python",
   "name": "python",
   "nbconvert_exporter": "python",
   "pygments_lexer": "ipython3",
   "version": "3.6.4"
  }
 },
 "nbformat": 4,
 "nbformat_minor": 2
}
