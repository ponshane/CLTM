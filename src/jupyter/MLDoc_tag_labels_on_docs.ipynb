{
 "cells": [
  {
   "cell_type": "code",
   "execution_count": 1,
   "metadata": {},
   "outputs": [],
   "source": [
    "import sys\n",
    "# set python syspath to point out location of our self-writing module\n",
    "sys.path.append(\"/home/ponshane/work_dir/CLTM/src/codebase/\")\n",
    "from helper import *\n",
    "\n",
    "import configparser\n",
    "import pymongo\n",
    "from pymongo import MongoClient\n",
    "from gensim.models import KeyedVectors\n",
    "import pandas as pd\n",
    "import os"
   ]
  },
  {
   "cell_type": "code",
   "execution_count": 2,
   "metadata": {},
   "outputs": [],
   "source": [
    "### init and read config\n",
    "config = configparser.ConfigParser()\n",
    "config.read('../config.ini')\n",
    "\n",
    "MongoDB = config[\"MLDoc\"][\"Database\"]\n",
    "MongoUser = config[\"MLDoc\"][\"User\"]\n",
    "MongoPW = config[\"MLDoc\"][\"PW\"]\n",
    "\n",
    "###連接MONGO\n",
    "uri = \"mongodb://\" + MongoUser + \":\" + MongoPW + \"@140.117.69.70:30241/\" +\\\n",
    "MongoDB + \"?authMechanism=SCRAM-SHA-1\"\n",
    "\n",
    "client = MongoClient(uri)\n",
    "db = client.MLDoc"
   ]
  },
  {
   "cell_type": "markdown",
   "metadata": {},
   "source": [
    "# tag train/dev/test on Chinese Corpus"
   ]
  },
  {
   "cell_type": "code",
   "execution_count": 30,
   "metadata": {},
   "outputs": [],
   "source": [
    "fo = open(\"/home/ponshane/work_dir/MLDoc/mldoc-indices/chinese.train.1000\", \"r\")\n",
    " \n",
    "for line in fo.readlines():\n",
    "    \n",
    "    line = line.split(\"-\")\n",
    "    # 確認是否為 folder-docID 格式\n",
    "    assert len(line) == 2\n",
    "\n",
    "    status = db.Chinese.update_one({\"$and\":[{\"Sub_corpus\":line[0]},{\"File_name\":line[1].strip(\"\\n\")}]},\n",
    "                       {\"$set\": {\"Data_type\":\"train\"}})\n",
    "    \n",
    "fo.close()"
   ]
  },
  {
   "cell_type": "code",
   "execution_count": 31,
   "metadata": {},
   "outputs": [],
   "source": [
    "fo = open(\"/home/ponshane/work_dir/MLDoc/mldoc-indices/chinese.dev\", \"r\")\n",
    " \n",
    "for line in fo.readlines():\n",
    "    \n",
    "    line = line.split(\"-\")\n",
    "    # 確認是否為 folder-docID 格式\n",
    "    assert len(line) == 2\n",
    "\n",
    "    status = db.Chinese.update_one({\"$and\":[{\"Sub_corpus\":line[0]},{\"File_name\":line[1].strip(\"\\n\")}]},\n",
    "                       {\"$set\": {\"Data_type\":\"dev\"}})\n",
    "    \n",
    "fo.close()"
   ]
  },
  {
   "cell_type": "code",
   "execution_count": 32,
   "metadata": {},
   "outputs": [],
   "source": [
    "fo = open(\"/home/ponshane/work_dir/MLDoc/mldoc-indices/chinese.test\", \"r\")\n",
    " \n",
    "for line in fo.readlines():\n",
    "    \n",
    "    line = line.split(\"-\")\n",
    "    # 確認是否為 folder-docID 格式\n",
    "    assert len(line) == 2\n",
    "\n",
    "    status = db.Chinese.update_one({\"$and\":[{\"Sub_corpus\":line[0]},{\"File_name\":line[1].strip(\"\\n\")}]},\n",
    "                       {\"$set\": {\"Data_type\":\"test\"}})\n",
    "    \n",
    "fo.close()"
   ]
  },
  {
   "cell_type": "markdown",
   "metadata": {},
   "source": [
    "# tag train/dev/test on English Corpus"
   ]
  },
  {
   "cell_type": "code",
   "execution_count": 37,
   "metadata": {},
   "outputs": [],
   "source": [
    "fo = open(\"/home/ponshane/work_dir/MLDoc/mldoc-indices/english.train.1000\", \"r\")\n",
    " \n",
    "for line in fo.readlines():\n",
    "    \n",
    "    line = line.split(\"-\")\n",
    "    # 確認是否為 folder-docID 格式\n",
    "    assert len(line) == 2\n",
    "\n",
    "    status = db.English.update_one({\"$and\":[{\"Sub_corpus\":line[0]},{\"File_name\":line[1].strip(\"\\n\")}]},\n",
    "                       {\"$set\": {\"Data_type\":\"train\"}})\n",
    "    \n",
    "fo.close()"
   ]
  },
  {
   "cell_type": "code",
   "execution_count": 38,
   "metadata": {},
   "outputs": [],
   "source": [
    "fo = open(\"/home/ponshane/work_dir/MLDoc/mldoc-indices/english.dev\", \"r\")\n",
    " \n",
    "for line in fo.readlines():\n",
    "    \n",
    "    line = line.split(\"-\")\n",
    "    # 確認是否為 folder-docID 格式\n",
    "    assert len(line) == 2\n",
    "\n",
    "    status = db.English.update_one({\"$and\":[{\"Sub_corpus\":line[0]},{\"File_name\":line[1].strip(\"\\n\")}]},\n",
    "                       {\"$set\": {\"Data_type\":\"dev\"}})\n",
    "    \n",
    "fo.close()"
   ]
  },
  {
   "cell_type": "code",
   "execution_count": 39,
   "metadata": {},
   "outputs": [],
   "source": [
    "fo = open(\"/home/ponshane/work_dir/MLDoc/mldoc-indices/english.test\", \"r\")\n",
    " \n",
    "for line in fo.readlines():\n",
    "    \n",
    "    line = line.split(\"-\")\n",
    "    # 確認是否為 folder-docID 格式\n",
    "    assert len(line) == 2\n",
    "\n",
    "    status = db.English.update_one({\"$and\":[{\"Sub_corpus\":line[0]},{\"File_name\":line[1].strip(\"\\n\")}]},\n",
    "                       {\"$set\": {\"Data_type\":\"test\"}})\n",
    "    \n",
    "fo.close()"
   ]
  },
  {
   "cell_type": "markdown",
   "metadata": {},
   "source": [
    "# tag train/dev/test on Japanese Corpus"
   ]
  },
  {
   "cell_type": "code",
   "execution_count": 40,
   "metadata": {},
   "outputs": [],
   "source": [
    "fo = open(\"/home/ponshane/work_dir/MLDoc/mldoc-indices/japanese.train.1000\", \"r\")\n",
    " \n",
    "for line in fo.readlines():\n",
    "    \n",
    "    line = line.split(\"-\")\n",
    "    # 確認是否為 folder-docID 格式\n",
    "    assert len(line) == 2\n",
    "\n",
    "    status = db.Japanese.update_one({\"$and\":[{\"Sub_corpus\":line[0]},{\"File_name\":line[1].strip(\"\\n\")}]},\n",
    "                       {\"$set\": {\"Data_type\":\"train\"}})\n",
    "    \n",
    "fo.close()"
   ]
  },
  {
   "cell_type": "code",
   "execution_count": 41,
   "metadata": {},
   "outputs": [],
   "source": [
    "fo = open(\"/home/ponshane/work_dir/MLDoc/mldoc-indices/japanese.dev\", \"r\")\n",
    " \n",
    "for line in fo.readlines():\n",
    "    \n",
    "    line = line.split(\"-\")\n",
    "    # 確認是否為 folder-docID 格式\n",
    "    assert len(line) == 2\n",
    "\n",
    "    status = db.Japanese.update_one({\"$and\":[{\"Sub_corpus\":line[0]},{\"File_name\":line[1].strip(\"\\n\")}]},\n",
    "                       {\"$set\": {\"Data_type\":\"dev\"}})\n",
    "    \n",
    "fo.close()"
   ]
  },
  {
   "cell_type": "code",
   "execution_count": 42,
   "metadata": {},
   "outputs": [],
   "source": [
    "fo = open(\"/home/ponshane/work_dir/MLDoc/mldoc-indices/japanese.test\", \"r\")\n",
    " \n",
    "for line in fo.readlines():\n",
    "    \n",
    "    line = line.split(\"-\")\n",
    "    # 確認是否為 folder-docID 格式\n",
    "    assert len(line) == 2\n",
    "\n",
    "    status = db.Japanese.update_one({\"$and\":[{\"Sub_corpus\":line[0]},{\"File_name\":line[1].strip(\"\\n\")}]},\n",
    "                       {\"$set\": {\"Data_type\":\"test\"}})\n",
    "    \n",
    "fo.close()"
   ]
  },
  {
   "cell_type": "markdown",
   "metadata": {},
   "source": [
    "# select data where Data_type = train or test or dev\n",
    "* only 6000*2 docs in total(1000 train, 1000 dev, 4000 test in each language)\n",
    "* **English corpus 需要以project方式撈取，否則 word2vec model 有 stop words 此處需要解查** "
   ]
  },
  {
   "cell_type": "code",
   "execution_count": 106,
   "metadata": {},
   "outputs": [],
   "source": [
    "#format => [{_id, extracted_text, Class, Data_type, language}, ... ]\n",
    "corpus = []\n",
    "\n",
    "# load back model to filter tokens\n",
    "Concatenated_model = KeyedVectors.load_word2vec_format(\"../out/MLDoc/Chinese_English_wordvectors.vec\")\n",
    "\n",
    "query = {}\n",
    "query[\"Data_type\"] = {\n",
    "    u\"$exists\": True\n",
    "}"
   ]
  },
  {
   "cell_type": "code",
   "execution_count": 107,
   "metadata": {},
   "outputs": [],
   "source": [
    "# For Chinese\n",
    "cursor = db.Chinese.find(query, no_cursor_timeout=True)\n",
    "try:\n",
    "    for doc in cursor:\n",
    "        each_doc_tokens = []\n",
    "        for each_sentence in doc[\"chi_result\"][\"tokens\"]:\n",
    "            each_doc_tokens += [token for token in each_sentence if token in Concatenated_model.index2word]\n",
    "        corpus.append({\"_id\":doc[\"_id\"], \"extracted_text\":each_doc_tokens, \"Class\":doc[\"Class\"],\n",
    "                      \"Data_type\":doc[\"Data_type\"], \"language\":\"Chinese\"})\n",
    "finally:\n",
    "    client.close()"
   ]
  },
  {
   "cell_type": "code",
   "execution_count": 108,
   "metadata": {},
   "outputs": [],
   "source": [
    "# For English\n",
    "cursor = db.English.find(query, no_cursor_timeout=True)\n",
    "try:\n",
    "    for doc in cursor:\n",
    "        each_doc_tokens = []\n",
    "        for each_sentence in doc[\"nested_token_list\"]:\n",
    "            #each_doc_tokens += [token[\"lemma_\"] for token in each_sentence if token[\"lemma_\"] in Concatenated_model.index2word]\n",
    "            tokens_from_each_sentence = project_function_for_every_document(each_sentence, want_stop=False,\n",
    "                                                                        want_alpha=True, want_lemma=True,\n",
    "                                                                        accept_pos = [\"NOUN\", \"VERB\"],\n",
    "                                                                        use_entity=False)\n",
    "            tokens_from_each_sentence = [token for token in tokens_from_each_sentence\n",
    "                                         if token in Concatenated_model.index2word]\n",
    "            each_doc_tokens += tokens_from_each_sentence\n",
    "        corpus.append({\"_id\":doc[\"_id\"], \"extracted_text\":each_doc_tokens, \"Class\":doc[\"Class\"],\n",
    "                      \"Data_type\":doc[\"Data_type\"], \"language\":\"English\"})\n",
    "finally:\n",
    "    client.close()"
   ]
  },
  {
   "cell_type": "code",
   "execution_count": null,
   "metadata": {},
   "outputs": [],
   "source": [
    "len(corpus)\n",
    "corpus[11997:11999]"
   ]
  },
  {
   "cell_type": "code",
   "execution_count": 110,
   "metadata": {},
   "outputs": [],
   "source": [
    "df = pd.DataFrame(corpus)"
   ]
  },
  {
   "cell_type": "code",
   "execution_count": 111,
   "metadata": {},
   "outputs": [
    {
     "name": "stdout",
     "output_type": "stream",
     "text": [
      "(11999, 5)\n"
     ]
    },
    {
     "data": {
      "text/html": [
       "<div>\n",
       "<style scoped>\n",
       "    .dataframe tbody tr th:only-of-type {\n",
       "        vertical-align: middle;\n",
       "    }\n",
       "\n",
       "    .dataframe tbody tr th {\n",
       "        vertical-align: top;\n",
       "    }\n",
       "\n",
       "    .dataframe thead th {\n",
       "        text-align: right;\n",
       "    }\n",
       "</style>\n",
       "<table border=\"1\" class=\"dataframe\">\n",
       "  <thead>\n",
       "    <tr style=\"text-align: right;\">\n",
       "      <th></th>\n",
       "      <th>Class</th>\n",
       "      <th>Data_type</th>\n",
       "      <th>_id</th>\n",
       "      <th>extracted_text</th>\n",
       "      <th>language</th>\n",
       "    </tr>\n",
       "  </thead>\n",
       "  <tbody>\n",
       "    <tr>\n",
       "      <th>0</th>\n",
       "      <td>CCAT</td>\n",
       "      <td>test</td>\n",
       "      <td>5bf419bdd3d28003f2b4057f</td>\n",
       "      <td>[路透社, 北京, 日电, 经济, 参考报, 周二, 报导, 目前, 上海, 经营, 人民币...</td>\n",
       "      <td>Chinese</td>\n",
       "    </tr>\n",
       "    <tr>\n",
       "      <th>1</th>\n",
       "      <td>MCAT</td>\n",
       "      <td>test</td>\n",
       "      <td>5bf419bdd3d28003f2b40580</td>\n",
       "      <td>[路透社, 纽约, 日电, 美国, 现货, 债市, 週五, 前景, 乐观, 气氛, 中收, ...</td>\n",
       "      <td>Chinese</td>\n",
       "    </tr>\n",
       "    <tr>\n",
       "      <th>2</th>\n",
       "      <td>ECAT</td>\n",
       "      <td>test</td>\n",
       "      <td>5bf419bdd3d28003f2b40585</td>\n",
       "      <td>[路透社, 东京, 日电, 总研, 週五, 一份, 报告, 指出, 日本, 结关, 贸易顺差...</td>\n",
       "      <td>Chinese</td>\n",
       "    </tr>\n",
       "    <tr>\n",
       "      <th>3</th>\n",
       "      <td>ECAT</td>\n",
       "      <td>test</td>\n",
       "      <td>5bf419bdd3d28003f2b4058b</td>\n",
       "      <td>[路透社, 法兰克福, 日电, 德国, 央行, 週四, 表示, 今日, 委员, 会议, 打算...</td>\n",
       "      <td>Chinese</td>\n",
       "    </tr>\n",
       "    <tr>\n",
       "      <th>4</th>\n",
       "      <td>MCAT</td>\n",
       "      <td>test</td>\n",
       "      <td>5bf419bdd3d28003f2b4058d</td>\n",
       "      <td>[纽元, 美元, 週五, 收盘, 下跌, 超过, 美分, 午后, 持稳, 美分, 交易员, ...</td>\n",
       "      <td>Chinese</td>\n",
       "    </tr>\n",
       "  </tbody>\n",
       "</table>\n",
       "</div>"
      ],
      "text/plain": [
       "  Class Data_type                       _id  \\\n",
       "0  CCAT      test  5bf419bdd3d28003f2b4057f   \n",
       "1  MCAT      test  5bf419bdd3d28003f2b40580   \n",
       "2  ECAT      test  5bf419bdd3d28003f2b40585   \n",
       "3  ECAT      test  5bf419bdd3d28003f2b4058b   \n",
       "4  MCAT      test  5bf419bdd3d28003f2b4058d   \n",
       "\n",
       "                                      extracted_text language  \n",
       "0  [路透社, 北京, 日电, 经济, 参考报, 周二, 报导, 目前, 上海, 经营, 人民币...  Chinese  \n",
       "1  [路透社, 纽约, 日电, 美国, 现货, 债市, 週五, 前景, 乐观, 气氛, 中收, ...  Chinese  \n",
       "2  [路透社, 东京, 日电, 总研, 週五, 一份, 报告, 指出, 日本, 结关, 贸易顺差...  Chinese  \n",
       "3  [路透社, 法兰克福, 日电, 德国, 央行, 週四, 表示, 今日, 委员, 会议, 打算...  Chinese  \n",
       "4  [纽元, 美元, 週五, 收盘, 下跌, 超过, 美分, 午后, 持稳, 美分, 交易员, ...  Chinese  "
      ]
     },
     "execution_count": 111,
     "metadata": {},
     "output_type": "execute_result"
    }
   ],
   "source": [
    "print(df.shape)\n",
    "df.head(5)"
   ]
  },
  {
   "cell_type": "code",
   "execution_count": 112,
   "metadata": {},
   "outputs": [],
   "source": [
    "df.to_pickle(\"../out/MLDoc/tagged_englishAndchinese_corpus_pd.pkl\")"
   ]
  },
  {
   "cell_type": "markdown",
   "metadata": {},
   "source": [
    "# Japanese-English Corpus"
   ]
  },
  {
   "cell_type": "code",
   "execution_count": 3,
   "metadata": {},
   "outputs": [],
   "source": [
    "#format => [{_id, extracted_text, Class, Data_type, language}, ... ]\n",
    "corpus = []\n",
    "\n",
    "# load back model to filter tokens\n",
    "Concatenated_model = KeyedVectors.load_word2vec_format(\"../out/MLDoc/Japanese_English_wordvectors.vec\")\n",
    "\n",
    "query = {}\n",
    "query[\"Data_type\"] = {\n",
    "    u\"$exists\": True\n",
    "}\n",
    "\n",
    "word_set = set(Concatenated_model.index2word)"
   ]
  },
  {
   "cell_type": "code",
   "execution_count": 4,
   "metadata": {},
   "outputs": [],
   "source": [
    "# For Japanese\n",
    "cursor = db.Japanese.find(query, no_cursor_timeout=True)\n",
    "try:\n",
    "    for doc in cursor:\n",
    "        each_doc_tokens = []\n",
    "        # no setence layer in japanese corpus ....\n",
    "        for each_token in doc[\"jap_result\"][\"tokens\"]:\n",
    "            if each_token in word_set:\n",
    "                each_doc_tokens += [each_token]\n",
    "        corpus.append({\"_id\":doc[\"_id\"], \"extracted_text\":each_doc_tokens, \"Class\":doc[\"Class\"],\n",
    "                      \"Data_type\":doc[\"Data_type\"], \"language\":\"Japanese\"})\n",
    "finally:\n",
    "    client.close()"
   ]
  },
  {
   "cell_type": "code",
   "execution_count": 5,
   "metadata": {},
   "outputs": [],
   "source": [
    "# For English\n",
    "cursor = db.English.find(query, no_cursor_timeout=True)\n",
    "try:\n",
    "    for doc in cursor:\n",
    "        each_doc_tokens = []\n",
    "        for each_sentence in doc[\"nested_token_list\"]:\n",
    "            #each_doc_tokens += [token[\"lemma_\"] for token in each_sentence if token[\"lemma_\"] in Concatenated_model.index2word]\n",
    "            tokens_from_each_sentence = project_function_for_every_document(each_sentence, want_stop=False,\n",
    "                                                                        want_alpha=True, want_lemma=True,\n",
    "                                                                        accept_pos = [\"NOUN\", \"VERB\"],\n",
    "                                                                        use_entity=False)\n",
    "            tokens_from_each_sentence = [token for token in tokens_from_each_sentence\n",
    "                                         if token in Concatenated_model.index2word]\n",
    "            each_doc_tokens += tokens_from_each_sentence\n",
    "        corpus.append({\"_id\":doc[\"_id\"], \"extracted_text\":each_doc_tokens, \"Class\":doc[\"Class\"],\n",
    "                      \"Data_type\":doc[\"Data_type\"], \"language\":\"English\"})\n",
    "finally:\n",
    "    client.close()"
   ]
  },
  {
   "cell_type": "code",
   "execution_count": 6,
   "metadata": {},
   "outputs": [
    {
     "data": {
      "text/plain": [
       "12000"
      ]
     },
     "execution_count": 6,
     "metadata": {},
     "output_type": "execute_result"
    }
   ],
   "source": [
    "len(corpus)"
   ]
  },
  {
   "cell_type": "code",
   "execution_count": 7,
   "metadata": {},
   "outputs": [],
   "source": [
    "df = pd.DataFrame(corpus)"
   ]
  },
  {
   "cell_type": "code",
   "execution_count": 10,
   "metadata": {},
   "outputs": [
    {
     "name": "stdout",
     "output_type": "stream",
     "text": [
      "(12000, 5)\n"
     ]
    },
    {
     "data": {
      "text/html": [
       "<div>\n",
       "<style scoped>\n",
       "    .dataframe tbody tr th:only-of-type {\n",
       "        vertical-align: middle;\n",
       "    }\n",
       "\n",
       "    .dataframe tbody tr th {\n",
       "        vertical-align: top;\n",
       "    }\n",
       "\n",
       "    .dataframe thead th {\n",
       "        text-align: right;\n",
       "    }\n",
       "</style>\n",
       "<table border=\"1\" class=\"dataframe\">\n",
       "  <thead>\n",
       "    <tr style=\"text-align: right;\">\n",
       "      <th></th>\n",
       "      <th>Class</th>\n",
       "      <th>Data_type</th>\n",
       "      <th>_id</th>\n",
       "      <th>extracted_text</th>\n",
       "      <th>language</th>\n",
       "    </tr>\n",
       "  </thead>\n",
       "  <tbody>\n",
       "    <tr>\n",
       "      <th>0</th>\n",
       "      <td>CCAT</td>\n",
       "      <td>test</td>\n",
       "      <td>5bf41d2bd3d28003f2b46572</td>\n",
       "      <td>[ヘルシンキ, ロイター, フィンランド, 鉱山, 金属, 通年, 業績, 下回る, する,...</td>\n",
       "      <td>Japanese</td>\n",
       "    </tr>\n",
       "    <tr>\n",
       "      <th>1</th>\n",
       "      <td>GCAT</td>\n",
       "      <td>test</td>\n",
       "      <td>5bf41d2bd3d28003f2b4657a</td>\n",
       "      <td>[ソウル, ロイター, 韓国, 国防省, 同国, 東部, 発見, 韓国, 朝鮮民主主義人民共...</td>\n",
       "      <td>Japanese</td>\n",
       "    </tr>\n",
       "    <tr>\n",
       "      <th>2</th>\n",
       "      <td>GCAT</td>\n",
       "      <td>test</td>\n",
       "      <td>5bf41d2bd3d28003f2b46595</td>\n",
       "      <td>[ウェリントン, ロイター, ニュージーランド, 首相, 総選挙, 連立政権, 樹立, 妥協...</td>\n",
       "      <td>Japanese</td>\n",
       "    </tr>\n",
       "    <tr>\n",
       "      <th>3</th>\n",
       "      <td>ECAT</td>\n",
       "      <td>dev</td>\n",
       "      <td>5bf41d2bd3d28003f2b46596</td>\n",
       "      <td>[英国, ロイター, 英国, クラーク, 蔵相, 発表, する, 予算, により, 公正, ...</td>\n",
       "      <td>Japanese</td>\n",
       "    </tr>\n",
       "    <tr>\n",
       "      <th>4</th>\n",
       "      <td>CCAT</td>\n",
       "      <td>test</td>\n",
       "      <td>5bf41d2bd3d28003f2b4659f</td>\n",
       "      <td>[東京, ロイター, 野村証券, よる, 野村総研, アナリスト, 若林秀樹, ホシデン, ...</td>\n",
       "      <td>Japanese</td>\n",
       "    </tr>\n",
       "  </tbody>\n",
       "</table>\n",
       "</div>"
      ],
      "text/plain": [
       "  Class Data_type                       _id  \\\n",
       "0  CCAT      test  5bf41d2bd3d28003f2b46572   \n",
       "1  GCAT      test  5bf41d2bd3d28003f2b4657a   \n",
       "2  GCAT      test  5bf41d2bd3d28003f2b46595   \n",
       "3  ECAT       dev  5bf41d2bd3d28003f2b46596   \n",
       "4  CCAT      test  5bf41d2bd3d28003f2b4659f   \n",
       "\n",
       "                                      extracted_text  language  \n",
       "0  [ヘルシンキ, ロイター, フィンランド, 鉱山, 金属, 通年, 業績, 下回る, する,...  Japanese  \n",
       "1  [ソウル, ロイター, 韓国, 国防省, 同国, 東部, 発見, 韓国, 朝鮮民主主義人民共...  Japanese  \n",
       "2  [ウェリントン, ロイター, ニュージーランド, 首相, 総選挙, 連立政権, 樹立, 妥協...  Japanese  \n",
       "3  [英国, ロイター, 英国, クラーク, 蔵相, 発表, する, 予算, により, 公正, ...  Japanese  \n",
       "4  [東京, ロイター, 野村証券, よる, 野村総研, アナリスト, 若林秀樹, ホシデン, ...  Japanese  "
      ]
     },
     "execution_count": 10,
     "metadata": {},
     "output_type": "execute_result"
    }
   ],
   "source": [
    "print(df.shape)\n",
    "df.head(5)"
   ]
  },
  {
   "cell_type": "code",
   "execution_count": 9,
   "metadata": {},
   "outputs": [],
   "source": [
    "df.to_pickle(\"../out/MLDoc/tagged_englishAndjapanese_corpus_pd.pkl\")"
   ]
  }
 ],
 "metadata": {
  "kernelspec": {
   "display_name": "Python [conda env:cross-lingual]",
   "language": "python",
   "name": "conda-env-cross-lingual-py"
  },
  "language_info": {
   "codemirror_mode": {
    "name": "ipython",
    "version": 3
   },
   "file_extension": ".py",
   "mimetype": "text/x-python",
   "name": "python",
   "nbconvert_exporter": "python",
   "pygments_lexer": "ipython3",
   "version": "3.6.4"
  }
 },
 "nbformat": 4,
 "nbformat_minor": 2
}
