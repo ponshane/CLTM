{
 "cells": [
  {
   "cell_type": "code",
   "execution_count": 2,
   "metadata": {},
   "outputs": [],
   "source": [
    "import sys\n",
    "# set python syspath to point out location of our self-writing module\n",
    "sys.path.append(\"/home/ponshane/work_dir/CLTM/src/codebase/\")\n",
    "\n",
    "from Docs_Input_Generator import *"
   ]
  },
  {
   "cell_type": "code",
   "execution_count": 3,
   "metadata": {},
   "outputs": [
    {
     "name": "stdout",
     "output_type": "stream",
     "text": [
      "Corpus stores in: /home/ponshane/work_dir/CLTM-Experiments/Data/MLDoc/\n",
      "Shuffled corpus stores in: /home/ponshane/work_dir/CLTM-Experiments/Data/MLDoc/\n",
      "inverse-index-mapping-dict stores in: /home/ponshane/work_dir/CLTM-Experiments/Data/MLDoc/\n"
     ]
    }
   ],
   "source": [
    "pd_path = \"/home/ponshane/work_dir/CLTM-Experiments/Data/MLDoc/tagged_englishAndchinese_corpus_pd.pkl\"\n",
    "output_path = \"/home/ponshane/work_dir/CLTM-Experiments/Data/MLDoc/\"\n",
    "random_state = 168\n",
    "\n",
    "presence_word_dictionary = export_shuffled_documents_from_pd(pd_path,\n",
    "                                                             output_path, random_state)"
   ]
  },
  {
   "cell_type": "code",
   "execution_count": 4,
   "metadata": {},
   "outputs": [],
   "source": [
    "vector_list = [\"10dim-vec.txt\", \"20dim-vec.txt\", \"40dim-vec.txt\", \"60dim-vec.txt\",\n",
    "              \"80dim-vec.txt\", \"90dim-vec.txt\", \"Chinese_English_wordvectors.vec\"]\n",
    "vector_base = \"/home/ponshane/work_dir/CLTM-Experiments/Data/MLDoc/word-vectors/\"\n",
    "for each_vector in vector_list:\n",
    "    export_selected_word_space(vector_base+each_vector, presence_word_dictionary,\n",
    "                               vector_base+\"selected\"+each_vector)"
   ]
  }
 ],
 "metadata": {
  "kernelspec": {
   "display_name": "Python [conda env:cross-lingual]",
   "language": "python",
   "name": "conda-env-cross-lingual-py"
  },
  "language_info": {
   "codemirror_mode": {
    "name": "ipython",
    "version": 3
   },
   "file_extension": ".py",
   "mimetype": "text/x-python",
   "name": "python",
   "nbconvert_exporter": "python",
   "pygments_lexer": "ipython3",
   "version": "3.6.4"
  }
 },
 "nbformat": 4,
 "nbformat_minor": 2
}
