{
 "cells": [
  {
   "cell_type": "markdown",
   "metadata": {},
   "source": [
    "# This notebook is used for transformed cross-lingual word vector into the accepted format of modularity_metric\n",
    "reference: https://github.com/akkikiki/modularity_metric"
   ]
  },
  {
   "cell_type": "markdown",
   "metadata": {},
   "source": [
    "## UM-Corpus"
   ]
  },
  {
   "cell_type": "code",
   "execution_count": 7,
   "metadata": {},
   "outputs": [],
   "source": [
    "num_vocabs = 0\n",
    "num_dims = 0\n",
    "with open(\"/home/ponshane/work_dir/CLTM-Experiments/Data/UM-Corpus/word-vectors/80dim_50K_selected_vectors.txt\",\"r\") as doc:\n",
    "    with open(\"/home/ponshane/work_dir/CLTM-Experiments/Data/UM-Corpus/word-vectors/Modular_80dim_50K_selected_vectors.txt\",\"w\") as writefile:\n",
    "        lines = doc.readlines()\n",
    "        num_vocabs = len(lines)\n",
    "        for i, line in enumerate(lines):\n",
    "            linevec = line.strip(\"\\n\").split(\" \")\n",
    "            prefix = \"\"\n",
    "            word = linevec[0]\n",
    "            wordvec = linevec[1:]\n",
    "\n",
    "            try:\n",
    "                word.encode(encoding='ascii')\n",
    "                prefix = \"eng:\"\n",
    "            except:\n",
    "                prefix = \"chi:\"\n",
    "            \n",
    "            word = prefix + word\n",
    "            \n",
    "            if i == 0:\n",
    "                num_dims = len(wordvec)\n",
    "                writefile.write(str(num_vocabs) + \" \" + str(num_dims) + \"\\n\")\n",
    "            \n",
    "            writefile.write(word + \" \")\n",
    "            writefile.write(' '.join(map(str, wordvec)) + \"\\n\")"
   ]
  },
  {
   "cell_type": "markdown",
   "metadata": {},
   "source": [
    "## MLDoc"
   ]
  },
  {
   "cell_type": "code",
   "execution_count": 8,
   "metadata": {},
   "outputs": [],
   "source": [
    "num_vocabs = 0\n",
    "num_dims = 0\n",
    "with open(\"/home/ponshane/work_dir/CLTM-Experiments/Data/MLDoc/word-vectors/selected90dim-vec.txt\",\"r\") as doc:\n",
    "    with open(\"/home/ponshane/work_dir/CLTM-Experiments/Data/MLDoc/word-vectors/Modular-selected90dim-vec.txt\",\"w\") as writefile:\n",
    "        lines = doc.readlines()\n",
    "        num_vocabs = len(lines)\n",
    "        for i, line in enumerate(lines):\n",
    "            linevec = line.strip(\"\\n\").split(\" \")\n",
    "            prefix = \"\"\n",
    "            word = linevec[0]\n",
    "            wordvec = linevec[1:]\n",
    "\n",
    "            try:\n",
    "                word.encode(encoding='ascii')\n",
    "                prefix = \"eng:\"\n",
    "            except:\n",
    "                prefix = \"chi:\"\n",
    "            \n",
    "            word = prefix + word\n",
    "            \n",
    "            if i == 0:\n",
    "                num_dims = len(wordvec)\n",
    "                writefile.write(str(num_vocabs) + \" \" + str(num_dims) + \"\\n\")\n",
    "            \n",
    "            writefile.write(word + \" \")\n",
    "            writefile.write(' '.join(map(str, wordvec)) + \"\\n\")"
   ]
  },
  {
   "cell_type": "markdown",
   "metadata": {},
   "source": [
    "# MLDoc EN-JP"
   ]
  },
  {
   "cell_type": "code",
   "execution_count": 1,
   "metadata": {},
   "outputs": [],
   "source": [
    "num_vocabs = 0\n",
    "num_dims = 0\n",
    "with open(\"/home/ponshane/work_dir/CLTM-Experiments/Data/EN-JP-MLDoc/word-vectors/selected-90dim-jp-en-vec.txt\",\"r\") as doc:\n",
    "    with open(\"/home/ponshane/work_dir/CLTM-Experiments/Data/EN-JP-MLDoc/word-vectors/Modular-selected-90dim-jp-en-vec.txt\",\"w\") as writefile:\n",
    "        lines = doc.readlines()\n",
    "        num_vocabs = len(lines)\n",
    "        for i, line in enumerate(lines):\n",
    "            linevec = line.strip(\"\\n\").split(\" \")\n",
    "            prefix = \"\"\n",
    "            word = linevec[0]\n",
    "            wordvec = linevec[1:]\n",
    "\n",
    "            try:\n",
    "                word.encode(encoding='ascii')\n",
    "                prefix = \"eng:\"\n",
    "            except:\n",
    "                prefix = \"jap:\"\n",
    "            \n",
    "            word = prefix + word\n",
    "            \n",
    "            if i == 0:\n",
    "                num_dims = len(wordvec)\n",
    "                writefile.write(str(num_vocabs) + \" \" + str(num_dims) + \"\\n\")\n",
    "            \n",
    "            writefile.write(word + \" \")\n",
    "            writefile.write(' '.join(map(str, wordvec)) + \"\\n\")"
   ]
  }
 ],
 "metadata": {
  "kernelspec": {
   "display_name": "cross-lingual",
   "language": "python",
   "name": "cross-lingual"
  },
  "language_info": {
   "codemirror_mode": {
    "name": "ipython",
    "version": 3
   },
   "file_extension": ".py",
   "mimetype": "text/x-python",
   "name": "python",
   "nbconvert_exporter": "python",
   "pygments_lexer": "ipython3",
   "version": "3.6.4"
  }
 },
 "nbformat": 4,
 "nbformat_minor": 4
}
