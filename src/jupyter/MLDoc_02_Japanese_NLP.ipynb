{
 "cells": [
  {
   "cell_type": "code",
   "execution_count": 1,
   "metadata": {},
   "outputs": [],
   "source": [
    "import sys\n",
    "# set python syspath to point out location of our self-writing module\n",
    "sys.path.append(\"/home/ponshane/work_dir/CLTM/src/codebase/\")\n",
    "\n",
    "import configparser\n",
    "from datetime import datetime\n",
    "from pymongo import MongoClient\n",
    "#from Sentence_Segmentation import Sentence_Segmentation\n",
    "import MeCab\n",
    "import re"
   ]
  },
  {
   "cell_type": "code",
   "execution_count": 47,
   "metadata": {},
   "outputs": [],
   "source": [
    "regex = r\"(.+)\\t(.+),\"\n",
    "\n",
    "def parse_each_word_feature(test_str):\n",
    "    #print(test_str)\n",
    "    matches = re.search(regex, test_str, re.DOTALL)\n",
    "\n",
    "    if matches:\n",
    "        return matches.group(1), matches.group(1)+\"#\"+matches.group(2).split(\",\")[0]"
   ]
  },
  {
   "cell_type": "code",
   "execution_count": 53,
   "metadata": {},
   "outputs": [],
   "source": [
    "mt = MeCab.Tagger(\"-d /usr/local/lib/mecab/dic/mecab-ipadic-neologd\")\n",
    "\n",
    "sepical_symbols = '[＂<>:《》+\\-=#$%&()*@＃＄％＆＇\\(\\)\\[\\]\\{\\}（）＊＋－／：\\\n",
    "            ＜＝＞＠［＼］＾＿｀｛｜｝～｟｠｢｣､、〃》「」『』【】〔〕〖〗〘〙〚〛〜〝〞〟〰〾〿–—‘’‛“”„‟…‧﹏・━┿│┷┯．−]+'\n",
    "\n",
    "def tokenization_and_pos(article):\n",
    "    \n",
    "    # this try block is to remove special characters and change breakline symbol\n",
    "    try:\n",
    "        article = re.sub(sepical_symbols,'',article)\n",
    "    except:\n",
    "        return \"RegExp Error!\"\n",
    "        \n",
    "    article = re.sub('[\\s\\d]+','', article) #remove space & digits\n",
    "    \n",
    "    # document level\n",
    "    segmented_words = []\n",
    "    pos_words = []\n",
    "        \n",
    "    for each_word_raw_str in mt.parse(article).split(\"\\n\")[:-1]:\n",
    "        # word level\n",
    "        if \"EOS\" not in each_word_raw_str:\n",
    "            word, pos = parse_each_word_feature(each_word_raw_str)\n",
    "            segmented_words.append(word)\n",
    "            pos_words.append(pos)\n",
    "    \n",
    "    return segmented_words, pos_words"
   ]
  },
  {
   "cell_type": "code",
   "execution_count": 54,
   "metadata": {},
   "outputs": [],
   "source": [
    "### init and read config\n",
    "config = configparser.ConfigParser()\n",
    "config.read('../config.ini')\n",
    "\n",
    "### connect to mongodb\n",
    "MongoDB = config[\"MLDoc\"][\"Database\"]\n",
    "MongoUser = config[\"MLDoc\"][\"User\"]\n",
    "MongoPW = config[\"MLDoc\"][\"PW\"]\n",
    "\n",
    "uri = \"mongodb://\" + MongoUser + \":\" + MongoPW + \"@140.117.69.70:30241/\" + MongoDB + \"?authMechanism=SCRAM-SHA-1\"\n",
    "\n",
    "client = MongoClient(uri)\n",
    "db = client.MLDoc"
   ]
  },
  {
   "cell_type": "code",
   "execution_count": null,
   "metadata": {},
   "outputs": [],
   "source": [
    "one_document = db.Japanese.find_one()\n",
    "#print(one_document)\n",
    "\n",
    "#chi_results = Sentence_Segmentation(one_document[\"Content\"], keep_digits=False)\n",
    "print(one_document[\"Content\"])\n",
    "segmented_words, pos_words = tokenization_and_pos(one_document[\"Content\"])\n",
    "print(segmented_words, pos_words)"
   ]
  },
  {
   "cell_type": "code",
   "execution_count": 60,
   "metadata": {},
   "outputs": [],
   "source": [
    "# 適用於中文 NLP Process 的 Update，因為中英文產出欄位不同\n",
    "def update(target_collection, doc_id, tokens, pos):\n",
    "    Result = {\"tokens\": tokens, \"pos\": pos}\n",
    "    target_collection.update_one({\"_id\": doc_id},\n",
    "                      {\n",
    "                          \"$set\":{\n",
    "                              \"jap_result\": Result,\n",
    "                              \"jap_nlp_process\": True\n",
    "                          }\n",
    "                      })"
   ]
  },
  {
   "cell_type": "code",
   "execution_count": 62,
   "metadata": {},
   "outputs": [
    {
     "name": "stdout",
     "output_type": "stream",
     "text": [
      "0 documents need to be processed.\n"
     ]
    }
   ],
   "source": [
    "target_collection = db.Japanese\n",
    "num = target_collection.count({\"jap_nlp_process\": {\"$exists\": False}})\n",
    "print(\"{0} documents need to be processed.\".format(num))"
   ]
  },
  {
   "cell_type": "code",
   "execution_count": null,
   "metadata": {},
   "outputs": [],
   "source": [
    "docs = target_collection.find({\"jap_nlp_process\":{\"$exists\": False}},{\"_id\":1, \"Content\":1}, no_cursor_timeout=True)\n",
    "\n",
    "# improve version\n",
    "start_time = datetime.now()\n",
    "\n",
    "error_list = list()\n",
    "index = 0\n",
    "\n",
    "for each_document in docs:\n",
    "    tokens, pos = tokenization_and_pos(each_document[\"Content\"])\n",
    "    \n",
    "    try:\n",
    "        update(target_collection, each_document[\"_id\"], tokens, pos)\n",
    "    except:\n",
    "        error_list.append(each_document[\"_id\"])\n",
    "    \n",
    "    index += 1\n",
    "    if(index % 1000 ==0):\n",
    "        print(\"Already process %d documents\" % index)\n",
    "\n",
    "print(\"{0} documents got some problems\".format(len(error_list)))\n",
    "print(error_list)\n",
    "\n",
    "docs.close()\n",
    "\n",
    "time_elapsed = datetime.now() - start_time\n",
    "\n",
    "print('Time elapsed (hh:mm:ss.ms) {}'.format(time_elapsed))"
   ]
  }
 ],
 "metadata": {
  "kernelspec": {
   "display_name": "cross-lingual",
   "language": "python",
   "name": "cross-lingual"
  },
  "language_info": {
   "codemirror_mode": {
    "name": "ipython",
    "version": 3
   },
   "file_extension": ".py",
   "mimetype": "text/x-python",
   "name": "python",
   "nbconvert_exporter": "python",
   "pygments_lexer": "ipython3",
   "version": "3.6.4"
  }
 },
 "nbformat": 4,
 "nbformat_minor": 4
}
