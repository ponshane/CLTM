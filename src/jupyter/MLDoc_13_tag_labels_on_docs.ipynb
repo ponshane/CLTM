{
 "cells": [
  {
   "cell_type": "code",
   "execution_count": 1,
   "metadata": {},
   "outputs": [],
   "source": [
    "import sys\n",
    "# set python syspath to point out location of our self-writing module\n",
    "sys.path.append(\"/home/ponshane/work_dir/CLTM/src/codebase/\")\n",
    "from helper import *\n",
    "\n",
    "import configparser\n",
    "import pymongo\n",
    "from pymongo import MongoClient\n",
    "from gensim.models import KeyedVectors\n",
    "import pandas as pd\n",
    "import os"
   ]
  },
  {
   "cell_type": "code",
   "execution_count": 2,
   "metadata": {},
   "outputs": [],
   "source": [
    "### init and read config\n",
    "config = configparser.ConfigParser()\n",
    "config.read('../config.ini')\n",
    "\n",
    "MongoDB = config[\"MLDoc\"][\"Database\"]\n",
    "MongoUser = config[\"MLDoc\"][\"User\"]\n",
    "MongoPW = config[\"MLDoc\"][\"PW\"]\n",
    "\n",
    "###連接MONGO\n",
    "uri = \"mongodb://\" + MongoUser + \":\" + MongoPW + \"@140.117.69.70:30241/\" +\\\n",
    "MongoDB + \"?authMechanism=SCRAM-SHA-1\"\n",
    "\n",
    "client = MongoClient(uri)\n",
    "db = client.MLDoc"
   ]
  },
  {
   "cell_type": "markdown",
   "metadata": {},
   "source": [
    "# tag train/dev/test on Chinese Corpus\n",
    "**Already labeled**"
   ]
  },
  {
   "cell_type": "code",
   "execution_count": 13,
   "metadata": {},
   "outputs": [],
   "source": [
    "# fo = open(\"/home/ponshane/work_dir/MLDoc/mldoc-indices/chinese.train.10000\", \"r\")\n",
    " \n",
    "# for line in fo.readlines():\n",
    "    \n",
    "#     line = line.split(\"-\")\n",
    "#     # 確認是否為 folder-docID 格式\n",
    "#     assert len(line) == 2\n",
    "\n",
    "#     status = db.Chinese.update_one({\"$and\":[{\"Sub_corpus\":line[0]},{\"File_name\":line[1].strip(\"\\n\")}]},\n",
    "#                        {\"$set\": {\"Data_type\":\"train\"}})\n",
    "    \n",
    "# fo.close()"
   ]
  },
  {
   "cell_type": "code",
   "execution_count": 31,
   "metadata": {},
   "outputs": [],
   "source": [
    "# fo = open(\"/home/ponshane/work_dir/MLDoc/mldoc-indices/chinese.dev\", \"r\")\n",
    " \n",
    "# for line in fo.readlines():\n",
    "    \n",
    "#     line = line.split(\"-\")\n",
    "#     # 確認是否為 folder-docID 格式\n",
    "#     assert len(line) == 2\n",
    "\n",
    "#     status = db.Chinese.update_one({\"$and\":[{\"Sub_corpus\":line[0]},{\"File_name\":line[1].strip(\"\\n\")}]},\n",
    "#                        {\"$set\": {\"Data_type\":\"dev\"}})\n",
    "    \n",
    "# fo.close()"
   ]
  },
  {
   "cell_type": "code",
   "execution_count": 32,
   "metadata": {},
   "outputs": [],
   "source": [
    "# fo = open(\"/home/ponshane/work_dir/MLDoc/mldoc-indices/chinese.test\", \"r\")\n",
    " \n",
    "# for line in fo.readlines():\n",
    "    \n",
    "#     line = line.split(\"-\")\n",
    "#     # 確認是否為 folder-docID 格式\n",
    "#     assert len(line) == 2\n",
    "\n",
    "#     status = db.Chinese.update_one({\"$and\":[{\"Sub_corpus\":line[0]},{\"File_name\":line[1].strip(\"\\n\")}]},\n",
    "#                        {\"$set\": {\"Data_type\":\"test\"}})\n",
    "    \n",
    "# fo.close()"
   ]
  },
  {
   "cell_type": "markdown",
   "metadata": {},
   "source": [
    "# tag train/dev/test on English Corpus\n",
    "**Already labeled**"
   ]
  },
  {
   "cell_type": "code",
   "execution_count": 14,
   "metadata": {},
   "outputs": [],
   "source": [
    "# fo = open(\"/home/ponshane/work_dir/MLDoc/mldoc-indices/english.train.10000\", \"r\")\n",
    " \n",
    "# for line in fo.readlines():\n",
    "    \n",
    "#     line = line.split(\"-\")\n",
    "#     # 確認是否為 folder-docID 格式\n",
    "#     assert len(line) == 2\n",
    "\n",
    "#     status = db.English.update_one({\"$and\":[{\"Sub_corpus\":line[0]},{\"File_name\":line[1].strip(\"\\n\")}]},\n",
    "#                        {\"$set\": {\"Data_type\":\"train\"}})\n",
    "    \n",
    "# fo.close()"
   ]
  },
  {
   "cell_type": "code",
   "execution_count": 38,
   "metadata": {},
   "outputs": [],
   "source": [
    "# fo = open(\"/home/ponshane/work_dir/MLDoc/mldoc-indices/english.dev\", \"r\")\n",
    " \n",
    "# for line in fo.readlines():\n",
    "    \n",
    "#     line = line.split(\"-\")\n",
    "#     # 確認是否為 folder-docID 格式\n",
    "#     assert len(line) == 2\n",
    "\n",
    "#     status = db.English.update_one({\"$and\":[{\"Sub_corpus\":line[0]},{\"File_name\":line[1].strip(\"\\n\")}]},\n",
    "#                        {\"$set\": {\"Data_type\":\"dev\"}})\n",
    "    \n",
    "# fo.close()"
   ]
  },
  {
   "cell_type": "code",
   "execution_count": 39,
   "metadata": {},
   "outputs": [],
   "source": [
    "# fo = open(\"/home/ponshane/work_dir/MLDoc/mldoc-indices/english.test\", \"r\")\n",
    " \n",
    "# for line in fo.readlines():\n",
    "    \n",
    "#     line = line.split(\"-\")\n",
    "#     # 確認是否為 folder-docID 格式\n",
    "#     assert len(line) == 2\n",
    "\n",
    "#     status = db.English.update_one({\"$and\":[{\"Sub_corpus\":line[0]},{\"File_name\":line[1].strip(\"\\n\")}]},\n",
    "#                        {\"$set\": {\"Data_type\":\"test\"}})\n",
    "    \n",
    "# fo.close()"
   ]
  },
  {
   "cell_type": "markdown",
   "metadata": {},
   "source": [
    "# tag train/dev/test on Japanese Corpus\n",
    "**Already labeled**"
   ]
  },
  {
   "cell_type": "code",
   "execution_count": 15,
   "metadata": {},
   "outputs": [],
   "source": [
    "# fo = open(\"/home/ponshane/work_dir/MLDoc/mldoc-indices/japanese.train.10000\", \"r\")\n",
    " \n",
    "# for line in fo.readlines():\n",
    "    \n",
    "#     line = line.split(\"-\")\n",
    "#     # 確認是否為 folder-docID 格式\n",
    "#     assert len(line) == 2\n",
    "\n",
    "#     status = db.Japanese.update_one({\"$and\":[{\"Sub_corpus\":line[0]},{\"File_name\":line[1].strip(\"\\n\")}]},\n",
    "#                        {\"$set\": {\"Data_type\":\"train\"}})\n",
    "    \n",
    "# fo.close()"
   ]
  },
  {
   "cell_type": "code",
   "execution_count": 41,
   "metadata": {},
   "outputs": [],
   "source": [
    "# fo = open(\"/home/ponshane/work_dir/MLDoc/mldoc-indices/japanese.dev\", \"r\")\n",
    " \n",
    "# for line in fo.readlines():\n",
    "    \n",
    "#     line = line.split(\"-\")\n",
    "#     # 確認是否為 folder-docID 格式\n",
    "#     assert len(line) == 2\n",
    "\n",
    "#     status = db.Japanese.update_one({\"$and\":[{\"Sub_corpus\":line[0]},{\"File_name\":line[1].strip(\"\\n\")}]},\n",
    "#                        {\"$set\": {\"Data_type\":\"dev\"}})\n",
    "    \n",
    "# fo.close()"
   ]
  },
  {
   "cell_type": "code",
   "execution_count": 42,
   "metadata": {},
   "outputs": [],
   "source": [
    "# fo = open(\"/home/ponshane/work_dir/MLDoc/mldoc-indices/japanese.test\", \"r\")\n",
    " \n",
    "# for line in fo.readlines():\n",
    "    \n",
    "#     line = line.split(\"-\")\n",
    "#     # 確認是否為 folder-docID 格式\n",
    "#     assert len(line) == 2\n",
    "\n",
    "#     status = db.Japanese.update_one({\"$and\":[{\"Sub_corpus\":line[0]},{\"File_name\":line[1].strip(\"\\n\")}]},\n",
    "#                        {\"$set\": {\"Data_type\":\"test\"}})\n",
    "    \n",
    "# fo.close()"
   ]
  },
  {
   "cell_type": "markdown",
   "metadata": {},
   "source": [
    "# Select data where Data_type = train or test or dev\n",
    "* only 6000*2 docs in total(1000 train, 1000 dev, 4000 test in each language)\n",
    "* **English corpus 需要以project方式撈取，否則 word2vec model 有 stop words 此處需要解查** "
   ]
  },
  {
   "cell_type": "markdown",
   "metadata": {},
   "source": [
    "# Chinese-English Corpus"
   ]
  },
  {
   "cell_type": "code",
   "execution_count": 3,
   "metadata": {},
   "outputs": [],
   "source": [
    "#format => [{_id, extracted_text, Class, Data_type, language}, ... ]\n",
    "corpus = []\n",
    "\n",
    "# load back model to filter tokens\n",
    "Concatenated_model = KeyedVectors.load_word2vec_format(\"/home/ponshane/work_dir/CLTM-Experiments/Data/EN-ZH-MLDoc/word-vectors/Chinese_English_wordvectors.vec\")\n",
    "\n",
    "query = {}\n",
    "query[\"Data_type\"] = {\n",
    "    u\"$exists\": True\n",
    "}"
   ]
  },
  {
   "cell_type": "code",
   "execution_count": 4,
   "metadata": {},
   "outputs": [],
   "source": [
    "# For Chinese\n",
    "cursor = db.Chinese.find(query, no_cursor_timeout=True)\n",
    "try:\n",
    "    for doc in cursor:\n",
    "        each_doc_tokens = []\n",
    "        for each_sentence in doc[\"chi_result\"][\"tokens\"]:\n",
    "            each_doc_tokens += [token for token in each_sentence if token in Concatenated_model.index2word]\n",
    "        if len(each_doc_tokens) > 0:\n",
    "            corpus.append({\"_id\":doc[\"_id\"], \"extracted_text\":each_doc_tokens, \"Class\":doc[\"Class\"],\n",
    "                          \"Data_type\":doc[\"Data_type\"], \"language\":\"Chinese\"})\n",
    "finally:\n",
    "    client.close()"
   ]
  },
  {
   "cell_type": "code",
   "execution_count": 6,
   "metadata": {},
   "outputs": [
    {
     "name": "stdout",
     "output_type": "stream",
     "text": [
      "CPU times: user 1min 28s, sys: 477 ms, total: 1min 29s\n",
      "Wall time: 2min 10s\n"
     ]
    }
   ],
   "source": [
    "%%time\n",
    "# For English\n",
    "cursor = db.English.find(query, no_cursor_timeout=True)\n",
    "try:\n",
    "    for doc in cursor:\n",
    "        each_doc_tokens = []\n",
    "        for each_sentence in doc[\"nested_token_list\"]:\n",
    "            #each_doc_tokens += [token[\"lemma_\"] for token in each_sentence if token[\"lemma_\"] in Concatenated_model.index2word]\n",
    "            tokens_from_each_sentence = project_function_for_every_document(each_sentence, want_stop=False,\n",
    "                                                                        want_alpha=True, want_lemma=True,\n",
    "                                                                        accept_pos = [\"NOUN\", \"VERB\"],\n",
    "                                                                        use_entity=False)\n",
    "            tokens_from_each_sentence = [token for token in tokens_from_each_sentence\n",
    "                                         if token in Concatenated_model.index2word]\n",
    "            each_doc_tokens += tokens_from_each_sentence\n",
    "        if len(each_doc_tokens):\n",
    "            corpus.append({\"_id\":doc[\"_id\"], \"extracted_text\":each_doc_tokens, \"Class\":doc[\"Class\"],\n",
    "                          \"Data_type\":doc[\"Data_type\"], \"language\":\"English\"})\n",
    "finally:\n",
    "    client.close()"
   ]
  },
  {
   "cell_type": "code",
   "execution_count": 7,
   "metadata": {},
   "outputs": [
    {
     "data": {
      "text/plain": [
       "29994"
      ]
     },
     "execution_count": 7,
     "metadata": {},
     "output_type": "execute_result"
    }
   ],
   "source": [
    "len(corpus)"
   ]
  },
  {
   "cell_type": "code",
   "execution_count": 8,
   "metadata": {},
   "outputs": [],
   "source": [
    "df = pd.DataFrame(corpus)"
   ]
  },
  {
   "cell_type": "code",
   "execution_count": 9,
   "metadata": {},
   "outputs": [
    {
     "name": "stdout",
     "output_type": "stream",
     "text": [
      "(29994, 5)\n"
     ]
    },
    {
     "data": {
      "text/html": [
       "<div>\n",
       "<style scoped>\n",
       "    .dataframe tbody tr th:only-of-type {\n",
       "        vertical-align: middle;\n",
       "    }\n",
       "\n",
       "    .dataframe tbody tr th {\n",
       "        vertical-align: top;\n",
       "    }\n",
       "\n",
       "    .dataframe thead th {\n",
       "        text-align: right;\n",
       "    }\n",
       "</style>\n",
       "<table border=\"1\" class=\"dataframe\">\n",
       "  <thead>\n",
       "    <tr style=\"text-align: right;\">\n",
       "      <th></th>\n",
       "      <th>Class</th>\n",
       "      <th>Data_type</th>\n",
       "      <th>_id</th>\n",
       "      <th>extracted_text</th>\n",
       "      <th>language</th>\n",
       "    </tr>\n",
       "  </thead>\n",
       "  <tbody>\n",
       "    <tr>\n",
       "      <th>29989</th>\n",
       "      <td>ECAT</td>\n",
       "      <td>train</td>\n",
       "      <td>5bf42635d3d28003f2bf91e7</td>\n",
       "      <td>[plan, trade, zone, border, rail, network, lin...</td>\n",
       "      <td>English</td>\n",
       "    </tr>\n",
       "    <tr>\n",
       "      <th>29990</th>\n",
       "      <td>GCAT</td>\n",
       "      <td>test</td>\n",
       "      <td>5bf42635d3d28003f2bf91f9</td>\n",
       "      <td>[number, people, virus, cause, jump, percent, ...</td>\n",
       "      <td>English</td>\n",
       "    </tr>\n",
       "    <tr>\n",
       "      <th>29991</th>\n",
       "      <td>CCAT</td>\n",
       "      <td>train</td>\n",
       "      <td>5bf42635d3d28003f2bf91fb</td>\n",
       "      <td>[agreement, save, airline, bankruptcy, reach, ...</td>\n",
       "      <td>English</td>\n",
       "    </tr>\n",
       "    <tr>\n",
       "      <th>29992</th>\n",
       "      <td>ECAT</td>\n",
       "      <td>train</td>\n",
       "      <td>5bf42635d3d28003f2bf9218</td>\n",
       "      <td>[cash, reserve, carryover, suplus, year, end, ...</td>\n",
       "      <td>English</td>\n",
       "    </tr>\n",
       "    <tr>\n",
       "      <th>29993</th>\n",
       "      <td>MCAT</td>\n",
       "      <td>test</td>\n",
       "      <td>5bf42635d3d28003f2bf921b</td>\n",
       "      <td>[ringgit, fall, surge, dollar, yen, bring, sel...</td>\n",
       "      <td>English</td>\n",
       "    </tr>\n",
       "  </tbody>\n",
       "</table>\n",
       "</div>"
      ],
      "text/plain": [
       "      Class Data_type                       _id  \\\n",
       "29989  ECAT     train  5bf42635d3d28003f2bf91e7   \n",
       "29990  GCAT      test  5bf42635d3d28003f2bf91f9   \n",
       "29991  CCAT     train  5bf42635d3d28003f2bf91fb   \n",
       "29992  ECAT     train  5bf42635d3d28003f2bf9218   \n",
       "29993  MCAT      test  5bf42635d3d28003f2bf921b   \n",
       "\n",
       "                                          extracted_text language  \n",
       "29989  [plan, trade, zone, border, rail, network, lin...  English  \n",
       "29990  [number, people, virus, cause, jump, percent, ...  English  \n",
       "29991  [agreement, save, airline, bankruptcy, reach, ...  English  \n",
       "29992  [cash, reserve, carryover, suplus, year, end, ...  English  \n",
       "29993  [ringgit, fall, surge, dollar, yen, bring, sel...  English  "
      ]
     },
     "execution_count": 9,
     "metadata": {},
     "output_type": "execute_result"
    }
   ],
   "source": [
    "print(df.shape)\n",
    "df.tail(5)"
   ]
  },
  {
   "cell_type": "code",
   "execution_count": 10,
   "metadata": {},
   "outputs": [],
   "source": [
    "df.to_pickle(\"/home/ponshane/work_dir/CLTM-Experiments/Data/EN-ZH-MLDoc/tagged_englishAndchinese_corpus_pd.pkl\")"
   ]
  },
  {
   "cell_type": "markdown",
   "metadata": {},
   "source": [
    "# Japanese-English Corpus"
   ]
  },
  {
   "cell_type": "code",
   "execution_count": 14,
   "metadata": {},
   "outputs": [],
   "source": [
    "#format => [{_id, extracted_text, Class, Data_type, language}, ... ]\n",
    "corpus = []\n",
    "\n",
    "# load back model to filter tokens\n",
    "Concatenated_model = KeyedVectors.load_word2vec_format(\"/home/ponshane/work_dir/CLTM-Experiments/Data/EN-JP-MLDoc/word-vectors/Japanese_English_wordvectors.vec\")\n",
    "\n",
    "query = {}\n",
    "query[\"Data_type\"] = {\n",
    "    u\"$exists\": True\n",
    "}\n",
    "\n",
    "word_set = set(Concatenated_model.index2word)"
   ]
  },
  {
   "cell_type": "code",
   "execution_count": 15,
   "metadata": {},
   "outputs": [],
   "source": [
    "# For Japanese\n",
    "cursor = db.Japanese.find(query, no_cursor_timeout=True)\n",
    "try:\n",
    "    for doc in cursor:\n",
    "        each_doc_tokens = []\n",
    "        # no setence layer in japanese corpus ....\n",
    "        for each_token in doc[\"jap_result\"][\"tokens\"]:\n",
    "            if each_token in word_set:\n",
    "                each_doc_tokens += [each_token]\n",
    "        if len(each_doc_tokens) > 0:\n",
    "            corpus.append({\"_id\":doc[\"_id\"], \"extracted_text\":each_doc_tokens, \"Class\":doc[\"Class\"],\n",
    "                          \"Data_type\":doc[\"Data_type\"], \"language\":\"Japanese\"})\n",
    "finally:\n",
    "    client.close()"
   ]
  },
  {
   "cell_type": "code",
   "execution_count": 17,
   "metadata": {},
   "outputs": [
    {
     "name": "stdout",
     "output_type": "stream",
     "text": [
      "CPU times: user 2min 44s, sys: 500 ms, total: 2min 45s\n",
      "Wall time: 3min 17s\n"
     ]
    }
   ],
   "source": [
    "%%time\n",
    "# For English\n",
    "cursor = db.English.find(query, no_cursor_timeout=True)\n",
    "try:\n",
    "    for doc in cursor:\n",
    "        each_doc_tokens = []\n",
    "        for each_sentence in doc[\"nested_token_list\"]:\n",
    "            #each_doc_tokens += [token[\"lemma_\"] for token in each_sentence if token[\"lemma_\"] in Concatenated_model.index2word]\n",
    "            tokens_from_each_sentence = project_function_for_every_document(each_sentence, want_stop=False,\n",
    "                                                                        want_alpha=True, want_lemma=True,\n",
    "                                                                        accept_pos = [\"NOUN\", \"VERB\"],\n",
    "                                                                        use_entity=False)\n",
    "            tokens_from_each_sentence = [token for token in tokens_from_each_sentence\n",
    "                                         if token in Concatenated_model.index2word]\n",
    "            each_doc_tokens += tokens_from_each_sentence\n",
    "        if len(each_doc_tokens) > 0:\n",
    "            corpus.append({\"_id\":doc[\"_id\"], \"extracted_text\":each_doc_tokens, \"Class\":doc[\"Class\"],\n",
    "                          \"Data_type\":doc[\"Data_type\"], \"language\":\"English\"})\n",
    "finally:\n",
    "    client.close()"
   ]
  },
  {
   "cell_type": "code",
   "execution_count": 18,
   "metadata": {},
   "outputs": [
    {
     "data": {
      "text/plain": [
       "29997"
      ]
     },
     "execution_count": 18,
     "metadata": {},
     "output_type": "execute_result"
    }
   ],
   "source": [
    "len(corpus)"
   ]
  },
  {
   "cell_type": "code",
   "execution_count": 19,
   "metadata": {},
   "outputs": [],
   "source": [
    "df = pd.DataFrame(corpus)"
   ]
  },
  {
   "cell_type": "code",
   "execution_count": 21,
   "metadata": {},
   "outputs": [
    {
     "name": "stdout",
     "output_type": "stream",
     "text": [
      "(29997, 5)\n"
     ]
    },
    {
     "data": {
      "text/html": [
       "<div>\n",
       "<style scoped>\n",
       "    .dataframe tbody tr th:only-of-type {\n",
       "        vertical-align: middle;\n",
       "    }\n",
       "\n",
       "    .dataframe tbody tr th {\n",
       "        vertical-align: top;\n",
       "    }\n",
       "\n",
       "    .dataframe thead th {\n",
       "        text-align: right;\n",
       "    }\n",
       "</style>\n",
       "<table border=\"1\" class=\"dataframe\">\n",
       "  <thead>\n",
       "    <tr style=\"text-align: right;\">\n",
       "      <th></th>\n",
       "      <th>Class</th>\n",
       "      <th>Data_type</th>\n",
       "      <th>_id</th>\n",
       "      <th>extracted_text</th>\n",
       "      <th>language</th>\n",
       "    </tr>\n",
       "  </thead>\n",
       "  <tbody>\n",
       "    <tr>\n",
       "      <th>29992</th>\n",
       "      <td>ECAT</td>\n",
       "      <td>train</td>\n",
       "      <td>5bf42635d3d28003f2bf91e7</td>\n",
       "      <td>[plan, trade, zone, border, rail, network, lin...</td>\n",
       "      <td>English</td>\n",
       "    </tr>\n",
       "    <tr>\n",
       "      <th>29993</th>\n",
       "      <td>GCAT</td>\n",
       "      <td>test</td>\n",
       "      <td>5bf42635d3d28003f2bf91f9</td>\n",
       "      <td>[number, people, virus, cause, jump, percent, ...</td>\n",
       "      <td>English</td>\n",
       "    </tr>\n",
       "    <tr>\n",
       "      <th>29994</th>\n",
       "      <td>CCAT</td>\n",
       "      <td>train</td>\n",
       "      <td>5bf42635d3d28003f2bf91fb</td>\n",
       "      <td>[agreement, save, airline, bankruptcy, reach, ...</td>\n",
       "      <td>English</td>\n",
       "    </tr>\n",
       "    <tr>\n",
       "      <th>29995</th>\n",
       "      <td>ECAT</td>\n",
       "      <td>train</td>\n",
       "      <td>5bf42635d3d28003f2bf9218</td>\n",
       "      <td>[cash, reserve, carryover, suplus, year, end, ...</td>\n",
       "      <td>English</td>\n",
       "    </tr>\n",
       "    <tr>\n",
       "      <th>29996</th>\n",
       "      <td>MCAT</td>\n",
       "      <td>test</td>\n",
       "      <td>5bf42635d3d28003f2bf921b</td>\n",
       "      <td>[ringgit, fall, surge, dollar, yen, bring, sel...</td>\n",
       "      <td>English</td>\n",
       "    </tr>\n",
       "  </tbody>\n",
       "</table>\n",
       "</div>"
      ],
      "text/plain": [
       "      Class Data_type                       _id  \\\n",
       "29992  ECAT     train  5bf42635d3d28003f2bf91e7   \n",
       "29993  GCAT      test  5bf42635d3d28003f2bf91f9   \n",
       "29994  CCAT     train  5bf42635d3d28003f2bf91fb   \n",
       "29995  ECAT     train  5bf42635d3d28003f2bf9218   \n",
       "29996  MCAT      test  5bf42635d3d28003f2bf921b   \n",
       "\n",
       "                                          extracted_text language  \n",
       "29992  [plan, trade, zone, border, rail, network, lin...  English  \n",
       "29993  [number, people, virus, cause, jump, percent, ...  English  \n",
       "29994  [agreement, save, airline, bankruptcy, reach, ...  English  \n",
       "29995  [cash, reserve, carryover, suplus, year, end, ...  English  \n",
       "29996  [ringgit, fall, surge, dollar, yen, bring, sel...  English  "
      ]
     },
     "execution_count": 21,
     "metadata": {},
     "output_type": "execute_result"
    }
   ],
   "source": [
    "print(df.shape)\n",
    "df.tail(5)"
   ]
  },
  {
   "cell_type": "code",
   "execution_count": 22,
   "metadata": {},
   "outputs": [],
   "source": [
    "df.to_pickle(\"/home/ponshane/work_dir/CLTM-Experiments/Data/EN-JP-MLDoc/tagged_englishAndjapanese_corpus_pd.pkl\")"
   ]
  }
 ],
 "metadata": {
  "kernelspec": {
   "display_name": "cross-lingual",
   "language": "python",
   "name": "cross-lingual"
  },
  "language_info": {
   "codemirror_mode": {
    "name": "ipython",
    "version": 3
   },
   "file_extension": ".py",
   "mimetype": "text/x-python",
   "name": "python",
   "nbconvert_exporter": "python",
   "pygments_lexer": "ipython3",
   "version": "3.6.4"
  }
 },
 "nbformat": 4,
 "nbformat_minor": 4
}
