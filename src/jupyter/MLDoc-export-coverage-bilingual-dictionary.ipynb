{
 "cells": [
  {
   "cell_type": "code",
   "execution_count": 1,
   "metadata": {},
   "outputs": [],
   "source": [
    "from ptm import JointCorpus"
   ]
  },
  {
   "cell_type": "code",
   "execution_count": 2,
   "metadata": {},
   "outputs": [],
   "source": [
    "dir_base = \"/home/ponshane/work_dir/CLTM-Experiments/Data/\""
   ]
  },
  {
   "cell_type": "markdown",
   "metadata": {},
   "source": [
    "# MLDoc EN-ZH "
   ]
  },
  {
   "cell_type": "code",
   "execution_count": 3,
   "metadata": {},
   "outputs": [],
   "source": [
    "en_zh_corpus_base = \"/home/ponshane/work_dir/CLTM-Experiments/Data/EN-ZH-MLDoc/\""
   ]
  },
  {
   "cell_type": "code",
   "execution_count": 5,
   "metadata": {},
   "outputs": [],
   "source": [
    "# prepare corpus\n",
    "corpus = JointCorpus(source_corpus_file=f\"{en_zh_corpus_base}MLDoc-English.txt\",\n",
    "                     target_corpus_file=f\"{en_zh_corpus_base}MLDoc-Chinese.txt\")"
   ]
  },
  {
   "cell_type": "code",
   "execution_count": null,
   "metadata": {},
   "outputs": [],
   "source": [
    "en_cn_dict = open(f\"{dir_base}zh-en.txt\", \"r\")\n",
    "f = open(f\"{en_zh_corpus_base}MLDoc_EN_ZH_dictionaries.csv\", \"w\")\n",
    "for line in en_cn_dict.readlines():\n",
    "    line = line.rstrip(\"\\n\").split(\" \")\n",
    "    target_word = line[0] # zh word\n",
    "    source_word = line[1] # en word\n",
    "    if source_word in corpus.source_dict.token2id.keys() and target_word in corpus.target_dict.token2id.keys():\n",
    "        print(source_word, target_word)\n",
    "        f.write(source_word + \",\" + target_word + \"\\n\")\n",
    "en_cn_dict.close()\n",
    "f.close()"
   ]
  },
  {
   "cell_type": "markdown",
   "metadata": {},
   "source": [
    "# MLDoc EN-JP"
   ]
  },
  {
   "cell_type": "code",
   "execution_count": 7,
   "metadata": {},
   "outputs": [],
   "source": [
    "en_jp_corpus_base = \"/home/ponshane/work_dir/CLTM-Experiments/Data/EN-JP-MLDoc/\""
   ]
  },
  {
   "cell_type": "code",
   "execution_count": 8,
   "metadata": {},
   "outputs": [],
   "source": [
    "# prepare corpus\n",
    "corpus = JointCorpus(source_corpus_file=f\"{en_jp_corpus_base}MLDoc-English.txt\",\n",
    "                     target_corpus_file=f\"{en_jp_corpus_base}MLDoc-Jpanese.txt\")"
   ]
  },
  {
   "cell_type": "code",
   "execution_count": null,
   "metadata": {},
   "outputs": [],
   "source": [
    "en_jp_dict = open(f\"{dir_base}ja-en.txt\", \"r\")\n",
    "f = open(f\"{en_jp_corpus_base}MLDoc_EN_JP_dictionaries.csv\", \"w\")\n",
    "for line in en_jp_dict.readlines():\n",
    "    line = line.rstrip(\"\\n\").split(\"\\t\")\n",
    "    target_word = line[0] # jp word\n",
    "    source_word = line[1] # en word\n",
    "    if source_word in corpus.source_dict.token2id.keys() and target_word in corpus.target_dict.token2id.keys():\n",
    "        print(source_word, target_word)\n",
    "        f.write(source_word + \",\" + target_word + \"\\n\")\n",
    "en_jp_dict.close()\n",
    "f.close()"
   ]
  }
 ],
 "metadata": {
  "kernelspec": {
   "display_name": "cross-lingual",
   "language": "python",
   "name": "cross-lingual"
  },
  "language_info": {
   "codemirror_mode": {
    "name": "ipython",
    "version": 3
   },
   "file_extension": ".py",
   "mimetype": "text/x-python",
   "name": "python",
   "nbconvert_exporter": "python",
   "pygments_lexer": "ipython3",
   "version": "3.6.4"
  }
 },
 "nbformat": 4,
 "nbformat_minor": 4
}
