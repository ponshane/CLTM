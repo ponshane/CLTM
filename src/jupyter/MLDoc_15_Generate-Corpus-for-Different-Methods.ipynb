{
 "cells": [
  {
   "cell_type": "code",
   "execution_count": 1,
   "metadata": {},
   "outputs": [],
   "source": [
    "import sys\n",
    "# set python syspath to point out location of our self-writing module\n",
    "sys.path.append(\"/home/ponshane/work_dir/CLTM/src/codebase/\")\n",
    "\n",
    "from Docs_Input_Generator import *"
   ]
  },
  {
   "cell_type": "markdown",
   "metadata": {},
   "source": [
    "# EN <-> CH"
   ]
  },
  {
   "cell_type": "code",
   "execution_count": 2,
   "metadata": {},
   "outputs": [
    {
     "name": "stdout",
     "output_type": "stream",
     "text": [
      "Corpus stores in: /home/ponshane/work_dir/CLTM-Experiments/Data/EN-ZH-MLDoc/\n",
      "Shuffled corpus stores in: /home/ponshane/work_dir/CLTM-Experiments/Data/EN-ZH-MLDoc/\n",
      "inverse-index-mapping-dict stores in: /home/ponshane/work_dir/CLTM-Experiments/Data/EN-ZH-MLDoc/\n"
     ]
    }
   ],
   "source": [
    "pd_path = \"/home/ponshane/work_dir/CLTM-Experiments/Data/EN-ZH-MLDoc/tagged_englishAndchinese_corpus_pd.pkl\"\n",
    "output_path = \"/home/ponshane/work_dir/CLTM-Experiments/Data/EN-ZH-MLDoc/\"\n",
    "random_state = 168\n",
    "\n",
    "presence_word_dictionary = export_shuffled_documents_from_pd(pd_path,\n",
    "                                                             output_path, random_state)"
   ]
  },
  {
   "cell_type": "code",
   "execution_count": 3,
   "metadata": {},
   "outputs": [],
   "source": [
    "vector_list = [\"10dim-vec.txt\", \"20dim-vec.txt\", \"40dim-vec.txt\", \"60dim-vec.txt\",\n",
    "              \"80dim-vec.txt\", \"90dim-vec.txt\", \"Chinese_English_wordvectors.vec\"]\n",
    "vector_base = \"/home/ponshane/work_dir/CLTM-Experiments/Data/EN-ZH-MLDoc/word-vectors/\"\n",
    "for each_vector in vector_list:\n",
    "    export_selected_word_space(vector_base+each_vector, presence_word_dictionary,\n",
    "                               vector_base+\"selected-\"+each_vector)"
   ]
  },
  {
   "cell_type": "markdown",
   "metadata": {},
   "source": [
    "# EN <-> JP"
   ]
  },
  {
   "cell_type": "code",
   "execution_count": 3,
   "metadata": {},
   "outputs": [
    {
     "name": "stdout",
     "output_type": "stream",
     "text": [
      "Corpus stores in: /home/ponshane/work_dir/CLTM-Experiments/Data/EN-JP-MLDoc/\n",
      "Shuffled corpus stores in: /home/ponshane/work_dir/CLTM-Experiments/Data/EN-JP-MLDoc/\n",
      "en-jp-inverse-index-mapping-dict stores in: /home/ponshane/work_dir/CLTM-Experiments/Data/EN-JP-MLDoc/\n"
     ]
    }
   ],
   "source": [
    "pd_path = \"/home/ponshane/work_dir/CLTM-Experiments/Data/EN-JP-MLDoc/tagged_englishAndjapanese_corpus_pd.pkl\"\n",
    "output_path = \"/home/ponshane/work_dir/CLTM-Experiments/Data/EN-JP-MLDoc/\"\n",
    "random_state = 666\n",
    "\n",
    "presence_word_dictionary = export_shuffled_documents_from_en_jp_pd(pd_path,\n",
    "                                                                  output_path, random_state)"
   ]
  },
  {
   "cell_type": "code",
   "execution_count": 5,
   "metadata": {},
   "outputs": [],
   "source": [
    "def clean_wordvevs(infilename, presence_word_dictionary, outfilename):\n",
    "    out = open(outfilename, 'w')\n",
    "    with open(infilename, \"r\") as rf:\n",
    "        for line in rf:\n",
    "            elems = line.split()\n",
    "            word = elems[0]\n",
    "            vec = elems[1:]\n",
    "            # star cleaning\n",
    "            if word in presence_word_dictionary.keys():\n",
    "                out.write(word + \" \")\n",
    "                out.write(' '.join(vec) + \"\\n\")\n",
    "    out.close()"
   ]
  },
  {
   "cell_type": "code",
   "execution_count": 6,
   "metadata": {},
   "outputs": [],
   "source": [
    "vector_list = [\"10dim-jp-en-vec.txt\", \"20dim-jp-en-vec.txt\", \"40dim-jp-en-vec.txt\",\n",
    "               \"60dim-jp-en-vec.txt\",\n",
    "              \"80dim-jp-en-vec.txt\", \"90dim-jp-en-vec.txt\", \"Japanese_English_wordvectors.vec\"]\n",
    "vector_base = \"/home/ponshane/work_dir/CLTM-Experiments/Data/EN-JP-MLDoc/word-vectors/\"\n",
    "for each_vector in vector_list:\n",
    "    clean_wordvevs(vector_base+each_vector, presence_word_dictionary,\n",
    "                               vector_base+\"selected-\"+each_vector)"
   ]
  }
 ],
 "metadata": {
  "kernelspec": {
   "display_name": "cross-lingual",
   "language": "python",
   "name": "cross-lingual"
  },
  "language_info": {
   "codemirror_mode": {
    "name": "ipython",
    "version": 3
   },
   "file_extension": ".py",
   "mimetype": "text/x-python",
   "name": "python",
   "nbconvert_exporter": "python",
   "pygments_lexer": "ipython3",
   "version": "3.6.4"
  }
 },
 "nbformat": 4,
 "nbformat_minor": 4
}
