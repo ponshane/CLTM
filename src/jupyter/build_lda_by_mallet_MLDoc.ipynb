{
 "cells": [
  {
   "cell_type": "code",
   "execution_count": 2,
   "metadata": {},
   "outputs": [],
   "source": [
    "import sys\n",
    "# set python syspath to point out location of our self-writing module\n",
    "sys.path.append(\"/home/ponshane/work_dir/CLTM/src/codebase/\")\n",
    "\n",
    "#import pickle\n",
    "\n",
    "from gensim.models.wrappers import LdaMallet\n",
    "from gensim import corpora, models\n",
    "from gensim.models import CoherenceModel\n",
    "import gensim\n",
    "import logging\n",
    "from topic_utilities import *\n",
    "from datetime import datetime\n",
    "\n",
    "import matplotlib.pyplot as plt\n",
    "%matplotlib inline"
   ]
  },
  {
   "cell_type": "markdown",
   "metadata": {},
   "source": [
    "# Build monolingual topic model of MLDoc"
   ]
  },
  {
   "cell_type": "code",
   "execution_count": 4,
   "metadata": {},
   "outputs": [
    {
     "name": "stdout",
     "output_type": "stream",
     "text": [
      "Dictionary(6688 unique tokens: ['东京', '作收', '促使', '券商', '副总裁']...)\n",
      "Dictionary(11021 unique tokens: ['activity', 'buoy', 'close', 'day', 'dealer']...)\n",
      "5999 6000\n"
     ]
    }
   ],
   "source": [
    "en_corpus_path = \"/home/ponshane/work_dir/CLTM-Experiments/Data/MLDoc/MLDoc-English.txt\"\n",
    "zh_corpus_path = \"/home/ponshane/work_dir/CLTM-Experiments/Data/MLDoc/MLDoc-Chinese.txt\"\n",
    "\n",
    "en_file = open(en_corpus_path, 'r')\n",
    "zh_file = open(zh_corpus_path, 'r')\n",
    "\n",
    "chinese_docs = []\n",
    "english_docs = []\n",
    "\n",
    "for idx, doc in enumerate(en_file.readlines()):\n",
    "    english_docs.append(doc.replace(\"\\n\", \"\").split(\" \"))\n",
    "\n",
    "for idx, doc in enumerate(zh_file.readlines()):\n",
    "    chinese_docs.append(doc.replace(\"\\n\", \"\").split(\" \"))\n",
    "\n",
    "en_file.close()\n",
    "zh_file.close()\n",
    "\n",
    "# turn our tokenized documents into a id <-> cluster_id dictionary\n",
    "chinese_dictionary = corpora.Dictionary(chinese_docs)\n",
    "print(chinese_dictionary)\n",
    "# convert tokenized documents into a document-term matrix\n",
    "chinese_corpus = [chinese_dictionary.doc2bow(text) for text in chinese_docs]\n",
    "\n",
    "# turn our tokenized documents into a id <-> cluster_id dictionary\n",
    "english_dictionary = corpora.Dictionary(english_docs)\n",
    "print(english_dictionary)\n",
    "# convert tokenized documents into a document-term matrix\n",
    "english_corpus = [english_dictionary.doc2bow(text) for text in english_docs]\n",
    "\n",
    "print(len(chinese_corpus), len(english_corpus))"
   ]
  },
  {
   "cell_type": "code",
   "execution_count": 5,
   "metadata": {},
   "outputs": [],
   "source": [
    "path_of_mallet = \"/home/ponshane/work_dir/Mallet/bin/mallet\"\n",
    "\n",
    "topic_nums = [10, 20, 30, 40, 50]\n",
    "\n",
    "for topic in topic_nums:\n",
    "    \n",
    "    chinese_model = gensim.models.wrappers.LdaMallet(path_of_mallet, corpus=chinese_corpus, num_topics=topic,\n",
    "                                                 id2word=chinese_dictionary, optimize_interval = 0, alpha = 0.1,\n",
    "                                                 iterations= 1000)\n",
    "    english_model = gensim.models.wrappers.LdaMallet(path_of_mallet, corpus=english_corpus, num_topics=topic,\n",
    "                                                 id2word=english_dictionary, optimize_interval = 0, alpha = 0.1,\n",
    "                                                 iterations= 1000)\n",
    "    \n",
    "    chinese_model.save(\"/home/ponshane/work_dir/CLTM-Experiments/Data/MLDoc/monolingual-lda/\"+str(topic)+\"topics-cn.model\")\n",
    "    english_model.save(\"/home/ponshane/work_dir/CLTM-Experiments/Data/MLDoc/monolingual-lda/\"+str(topic)+\"topics-en.model\")"
   ]
  }
 ],
 "metadata": {
  "kernelspec": {
   "display_name": "Python [conda env:cross-lingual]",
   "language": "python",
   "name": "conda-env-cross-lingual-py"
  },
  "language_info": {
   "codemirror_mode": {
    "name": "ipython",
    "version": 3
   },
   "file_extension": ".py",
   "mimetype": "text/x-python",
   "name": "python",
   "nbconvert_exporter": "python",
   "pygments_lexer": "ipython3",
   "version": "3.6.4"
  }
 },
 "nbformat": 4,
 "nbformat_minor": 2
}
