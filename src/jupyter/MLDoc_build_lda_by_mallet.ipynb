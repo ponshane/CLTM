{
 "cells": [
  {
   "cell_type": "code",
   "execution_count": 18,
   "metadata": {},
   "outputs": [],
   "source": [
    "import sys\n",
    "# set python syspath to point out location of our self-writing module\n",
    "sys.path.append(\"/home/ponshane/work_dir/CLTM/src/codebase/\")\n",
    "\n",
    "#import pickle\n",
    "from gensim.models.wrappers import LdaMallet\n",
    "from gensim import corpora, models\n",
    "import gensim\n",
    "import logging\n",
    "from datetime import datetime\n",
    "import pandas as pd"
   ]
  },
  {
   "cell_type": "markdown",
   "metadata": {},
   "source": [
    "# MLDoc English and Chinese shuffled pandas frame"
   ]
  },
  {
   "cell_type": "code",
   "execution_count": 37,
   "metadata": {},
   "outputs": [],
   "source": [
    "Corpus = pd.read_pickle(\"../out/MLDoc/tagged_englishAndchinese_corpus_pd.pkl\")"
   ]
  },
  {
   "cell_type": "code",
   "execution_count": 38,
   "metadata": {},
   "outputs": [
    {
     "data": {
      "text/html": [
       "<div>\n",
       "<style scoped>\n",
       "    .dataframe tbody tr th:only-of-type {\n",
       "        vertical-align: middle;\n",
       "    }\n",
       "\n",
       "    .dataframe tbody tr th {\n",
       "        vertical-align: top;\n",
       "    }\n",
       "\n",
       "    .dataframe thead th {\n",
       "        text-align: right;\n",
       "    }\n",
       "</style>\n",
       "<table border=\"1\" class=\"dataframe\">\n",
       "  <thead>\n",
       "    <tr style=\"text-align: right;\">\n",
       "      <th></th>\n",
       "      <th>Class</th>\n",
       "      <th>Data_type</th>\n",
       "      <th>_id</th>\n",
       "      <th>extracted_text</th>\n",
       "      <th>language</th>\n",
       "    </tr>\n",
       "  </thead>\n",
       "  <tbody>\n",
       "    <tr>\n",
       "      <th>0</th>\n",
       "      <td>CCAT</td>\n",
       "      <td>test</td>\n",
       "      <td>5bf419bdd3d28003f2b4057f</td>\n",
       "      <td>[路透社, 北京, 日电, 经济, 参考报, 周二, 报导, 目前, 上海, 经营, 人民币...</td>\n",
       "      <td>Chinese</td>\n",
       "    </tr>\n",
       "    <tr>\n",
       "      <th>1</th>\n",
       "      <td>MCAT</td>\n",
       "      <td>test</td>\n",
       "      <td>5bf419bdd3d28003f2b40580</td>\n",
       "      <td>[路透社, 纽约, 日电, 美国, 现货, 债市, 週五, 前景, 乐观, 气氛, 中收, ...</td>\n",
       "      <td>Chinese</td>\n",
       "    </tr>\n",
       "    <tr>\n",
       "      <th>2</th>\n",
       "      <td>ECAT</td>\n",
       "      <td>test</td>\n",
       "      <td>5bf419bdd3d28003f2b40585</td>\n",
       "      <td>[路透社, 东京, 日电, 总研, 週五, 一份, 报告, 指出, 日本, 结关, 贸易顺差...</td>\n",
       "      <td>Chinese</td>\n",
       "    </tr>\n",
       "    <tr>\n",
       "      <th>3</th>\n",
       "      <td>ECAT</td>\n",
       "      <td>test</td>\n",
       "      <td>5bf419bdd3d28003f2b4058b</td>\n",
       "      <td>[路透社, 法兰克福, 日电, 德国, 央行, 週四, 表示, 今日, 委员, 会议, 打算...</td>\n",
       "      <td>Chinese</td>\n",
       "    </tr>\n",
       "    <tr>\n",
       "      <th>4</th>\n",
       "      <td>MCAT</td>\n",
       "      <td>test</td>\n",
       "      <td>5bf419bdd3d28003f2b4058d</td>\n",
       "      <td>[纽元, 美元, 週五, 收盘, 下跌, 超过, 美分, 午后, 持稳, 美分, 交易员, ...</td>\n",
       "      <td>Chinese</td>\n",
       "    </tr>\n",
       "  </tbody>\n",
       "</table>\n",
       "</div>"
      ],
      "text/plain": [
       "  Class Data_type                       _id  \\\n",
       "0  CCAT      test  5bf419bdd3d28003f2b4057f   \n",
       "1  MCAT      test  5bf419bdd3d28003f2b40580   \n",
       "2  ECAT      test  5bf419bdd3d28003f2b40585   \n",
       "3  ECAT      test  5bf419bdd3d28003f2b4058b   \n",
       "4  MCAT      test  5bf419bdd3d28003f2b4058d   \n",
       "\n",
       "                                      extracted_text language  \n",
       "0  [路透社, 北京, 日电, 经济, 参考报, 周二, 报导, 目前, 上海, 经营, 人民币...  Chinese  \n",
       "1  [路透社, 纽约, 日电, 美国, 现货, 债市, 週五, 前景, 乐观, 气氛, 中收, ...  Chinese  \n",
       "2  [路透社, 东京, 日电, 总研, 週五, 一份, 报告, 指出, 日本, 结关, 贸易顺差...  Chinese  \n",
       "3  [路透社, 法兰克福, 日电, 德国, 央行, 週四, 表示, 今日, 委员, 会议, 打算...  Chinese  \n",
       "4  [纽元, 美元, 週五, 收盘, 下跌, 超过, 美分, 午后, 持稳, 美分, 交易员, ...  Chinese  "
      ]
     },
     "execution_count": 38,
     "metadata": {},
     "output_type": "execute_result"
    }
   ],
   "source": [
    "Corpus.head()"
   ]
  },
  {
   "cell_type": "code",
   "execution_count": 39,
   "metadata": {},
   "outputs": [],
   "source": [
    "chinese_docs = []\n",
    "english_docs = []\n",
    "\n",
    "for idx, row in Corpus.iterrows():\n",
    "    if row[\"language\"] == \"Chinese\":\n",
    "        chinese_docs.append(row[\"extracted_text\"])\n",
    "    elif row[\"language\"] == \"English\":\n",
    "        english_docs.append(row[\"extracted_text\"])"
   ]
  },
  {
   "cell_type": "code",
   "execution_count": 40,
   "metadata": {},
   "outputs": [
    {
     "name": "stdout",
     "output_type": "stream",
     "text": [
      "Dictionary(6688 unique tokens: ['一家', '万元', '三菱', '上海', '不久']...)\n",
      "Dictionary(11021 unique tokens: ['activity', 'aim', 'air', 'airline', 'answer']...)\n"
     ]
    }
   ],
   "source": [
    "# turn our tokenized documents into a id <-> cluster_id dictionary\n",
    "chinese_dictionary = corpora.Dictionary(chinese_docs)\n",
    "print(chinese_dictionary)\n",
    "\n",
    "# convert tokenized documents into a document-term matrix\n",
    "chinese_corpus = [chinese_dictionary.doc2bow(text) for text in chinese_docs]\n",
    "\n",
    "# turn our tokenized documents into a id <-> cluster_id dictionary\n",
    "english_dictionary = corpora.Dictionary(english_docs)\n",
    "print(english_dictionary)\n",
    "\n",
    "# convert tokenized documents into a document-term matrix\n",
    "english_corpus = [english_dictionary.doc2bow(text) for text in english_docs]"
   ]
  },
  {
   "cell_type": "code",
   "execution_count": 41,
   "metadata": {},
   "outputs": [],
   "source": [
    "path_of_mallet = \"/home/ponshane/work_dir/Mallet/bin/mallet\""
   ]
  },
  {
   "cell_type": "code",
   "execution_count": 42,
   "metadata": {},
   "outputs": [],
   "source": [
    "model_name = \"MLDoc-English-vs-Chinese\"\n",
    "eng_model = gensim.models.wrappers.LdaMallet(path_of_mallet, corpus=english_corpus, num_topics=10,\n",
    "                                                 id2word=english_dictionary, optimize_interval = 10, alpha = 0.1,\n",
    "                                                 iterations= 500,\n",
    "                                                 prefix = '../out/Mallet_Mono_LDA/'+model_name+'-topic'+str(10)+'-')"
   ]
  },
  {
   "cell_type": "code",
   "execution_count": 43,
   "metadata": {},
   "outputs": [],
   "source": [
    "model_name = \"MLDoc-Chinese-vs-English\"\n",
    "chi_model = gensim.models.wrappers.LdaMallet(path_of_mallet, corpus=chinese_corpus, num_topics=10,\n",
    "                                                 id2word=chinese_dictionary, optimize_interval = 10, alpha = 0.1,\n",
    "                                                 iterations= 500,\n",
    "                                                 prefix = '../out/Mallet_Mono_LDA/'+model_name+'-topic'+str(10)+'-')"
   ]
  },
  {
   "cell_type": "code",
   "execution_count": 44,
   "metadata": {},
   "outputs": [],
   "source": [
    "eng_model.save(\"../out/Mallet_Mono_LDA/\" + \"MLDoc-English-vs-Chinese-iter500-alpha01-en\" + \".model\")\n",
    "chi_model.save(\"../out/Mallet_Mono_LDA/\" + \"MLDoc-Chinese-vs-English-iter500-alpha01-cn\" + \".model\")"
   ]
  },
  {
   "cell_type": "markdown",
   "metadata": {},
   "source": [
    "# MLDoc English and Japanese shuffled pandas frame"
   ]
  },
  {
   "cell_type": "code",
   "execution_count": 45,
   "metadata": {},
   "outputs": [],
   "source": [
    "Corpus = pd.read_pickle(\"../out/MLDoc/tagged_englishAndjapanese_corpus_pd.pkl\")"
   ]
  },
  {
   "cell_type": "code",
   "execution_count": 46,
   "metadata": {},
   "outputs": [
    {
     "data": {
      "text/html": [
       "<div>\n",
       "<style scoped>\n",
       "    .dataframe tbody tr th:only-of-type {\n",
       "        vertical-align: middle;\n",
       "    }\n",
       "\n",
       "    .dataframe tbody tr th {\n",
       "        vertical-align: top;\n",
       "    }\n",
       "\n",
       "    .dataframe thead th {\n",
       "        text-align: right;\n",
       "    }\n",
       "</style>\n",
       "<table border=\"1\" class=\"dataframe\">\n",
       "  <thead>\n",
       "    <tr style=\"text-align: right;\">\n",
       "      <th></th>\n",
       "      <th>Class</th>\n",
       "      <th>Data_type</th>\n",
       "      <th>_id</th>\n",
       "      <th>extracted_text</th>\n",
       "      <th>language</th>\n",
       "    </tr>\n",
       "  </thead>\n",
       "  <tbody>\n",
       "    <tr>\n",
       "      <th>0</th>\n",
       "      <td>CCAT</td>\n",
       "      <td>test</td>\n",
       "      <td>5bf41d2bd3d28003f2b46572</td>\n",
       "      <td>[ヘルシンキ, ロイター, フィンランド, 鉱山, 金属, 通年, 業績, 下回る, する,...</td>\n",
       "      <td>Japanese</td>\n",
       "    </tr>\n",
       "    <tr>\n",
       "      <th>1</th>\n",
       "      <td>GCAT</td>\n",
       "      <td>test</td>\n",
       "      <td>5bf41d2bd3d28003f2b4657a</td>\n",
       "      <td>[ソウル, ロイター, 韓国, 国防省, 同国, 東部, 発見, 韓国, 朝鮮民主主義人民共...</td>\n",
       "      <td>Japanese</td>\n",
       "    </tr>\n",
       "    <tr>\n",
       "      <th>2</th>\n",
       "      <td>GCAT</td>\n",
       "      <td>test</td>\n",
       "      <td>5bf41d2bd3d28003f2b46595</td>\n",
       "      <td>[ウェリントン, ロイター, ニュージーランド, 首相, 総選挙, 連立政権, 樹立, 妥協...</td>\n",
       "      <td>Japanese</td>\n",
       "    </tr>\n",
       "    <tr>\n",
       "      <th>3</th>\n",
       "      <td>ECAT</td>\n",
       "      <td>dev</td>\n",
       "      <td>5bf41d2bd3d28003f2b46596</td>\n",
       "      <td>[英国, ロイター, 英国, クラーク, 蔵相, 発表, する, 予算, により, 公正, ...</td>\n",
       "      <td>Japanese</td>\n",
       "    </tr>\n",
       "    <tr>\n",
       "      <th>4</th>\n",
       "      <td>CCAT</td>\n",
       "      <td>test</td>\n",
       "      <td>5bf41d2bd3d28003f2b4659f</td>\n",
       "      <td>[東京, ロイター, 野村証券, よる, 野村総研, アナリスト, 若林秀樹, ホシデン, ...</td>\n",
       "      <td>Japanese</td>\n",
       "    </tr>\n",
       "  </tbody>\n",
       "</table>\n",
       "</div>"
      ],
      "text/plain": [
       "  Class Data_type                       _id  \\\n",
       "0  CCAT      test  5bf41d2bd3d28003f2b46572   \n",
       "1  GCAT      test  5bf41d2bd3d28003f2b4657a   \n",
       "2  GCAT      test  5bf41d2bd3d28003f2b46595   \n",
       "3  ECAT       dev  5bf41d2bd3d28003f2b46596   \n",
       "4  CCAT      test  5bf41d2bd3d28003f2b4659f   \n",
       "\n",
       "                                      extracted_text  language  \n",
       "0  [ヘルシンキ, ロイター, フィンランド, 鉱山, 金属, 通年, 業績, 下回る, する,...  Japanese  \n",
       "1  [ソウル, ロイター, 韓国, 国防省, 同国, 東部, 発見, 韓国, 朝鮮民主主義人民共...  Japanese  \n",
       "2  [ウェリントン, ロイター, ニュージーランド, 首相, 総選挙, 連立政権, 樹立, 妥協...  Japanese  \n",
       "3  [英国, ロイター, 英国, クラーク, 蔵相, 発表, する, 予算, により, 公正, ...  Japanese  \n",
       "4  [東京, ロイター, 野村証券, よる, 野村総研, アナリスト, 若林秀樹, ホシデン, ...  Japanese  "
      ]
     },
     "execution_count": 46,
     "metadata": {},
     "output_type": "execute_result"
    }
   ],
   "source": [
    "Corpus.head()"
   ]
  },
  {
   "cell_type": "code",
   "execution_count": 47,
   "metadata": {},
   "outputs": [],
   "source": [
    "japanese_docs = []\n",
    "english_docs = []\n",
    "\n",
    "for idx, row in Corpus.iterrows():\n",
    "    if row[\"language\"] == \"Japanese\":\n",
    "        japanese_docs.append(row[\"extracted_text\"])\n",
    "    elif row[\"language\"] == \"English\":\n",
    "        english_docs.append(row[\"extracted_text\"])"
   ]
  },
  {
   "cell_type": "code",
   "execution_count": 48,
   "metadata": {},
   "outputs": [
    {
     "name": "stdout",
     "output_type": "stream",
     "text": [
      "Dictionary(11909 unique tokens: ['ある', 'いる', 'かかわら', 'から', 'ください']...)\n",
      "Dictionary(11021 unique tokens: ['activity', 'aim', 'air', 'airline', 'answer']...)\n"
     ]
    }
   ],
   "source": [
    "# turn our tokenized documents into a id <-> cluster_id dictionary\n",
    "japanese_dictionary = corpora.Dictionary(japanese_docs)\n",
    "print(japanese_dictionary)\n",
    "\n",
    "# convert tokenized documents into a document-term matrix\n",
    "japanese_corpus = [japanese_dictionary.doc2bow(text) for text in japanese_docs]\n",
    "\n",
    "# turn our tokenized documents into a id <-> cluster_id dictionary\n",
    "english_dictionary = corpora.Dictionary(english_docs)\n",
    "print(english_dictionary)\n",
    "\n",
    "# convert tokenized documents into a document-term matrix\n",
    "english_corpus = [english_dictionary.doc2bow(text) for text in english_docs]"
   ]
  },
  {
   "cell_type": "code",
   "execution_count": 49,
   "metadata": {},
   "outputs": [],
   "source": [
    "path_of_mallet = \"/home/ponshane/work_dir/Mallet/bin/mallet\""
   ]
  },
  {
   "cell_type": "code",
   "execution_count": 50,
   "metadata": {},
   "outputs": [],
   "source": [
    "model_name = \"MLDoc-English-vs-Japanese\"\n",
    "eng_model = gensim.models.wrappers.LdaMallet(path_of_mallet, corpus=english_corpus, num_topics=10,\n",
    "                                                 id2word=english_dictionary, optimize_interval = 10, alpha = 0.1,\n",
    "                                                 iterations= 500,\n",
    "                                                 prefix = '../out/Mallet_Mono_LDA/'+model_name+'-topic'+str(10)+'-')"
   ]
  },
  {
   "cell_type": "code",
   "execution_count": 51,
   "metadata": {},
   "outputs": [],
   "source": [
    "model_name = \"MLDoc-Japanese-vs-English\"\n",
    "jap_model = gensim.models.wrappers.LdaMallet(path_of_mallet, corpus=japanese_corpus, num_topics=10,\n",
    "                                                 id2word=japanese_dictionary, optimize_interval = 10, alpha = 0.1,\n",
    "                                                 iterations= 500,\n",
    "                                                 prefix = '../out/Mallet_Mono_LDA/'+model_name+'-topic'+str(10)+'-')"
   ]
  },
  {
   "cell_type": "code",
   "execution_count": 52,
   "metadata": {},
   "outputs": [],
   "source": [
    "eng_model.save(\"../out/Mallet_Mono_LDA/\" + \"MLDoc-English-vs-Japanese-iter500-alpha01-en\" + \".model\")\n",
    "jap_model.save(\"../out/Mallet_Mono_LDA/\" + \"MLDoc-Japanese-vs-English-iter500-alpha01-jp\" + \".model\")"
   ]
  }
 ],
 "metadata": {
  "kernelspec": {
   "display_name": "Python [conda env:cross-lingual]",
   "language": "python",
   "name": "conda-env-cross-lingual-py"
  },
  "language_info": {
   "codemirror_mode": {
    "name": "ipython",
    "version": 3
   },
   "file_extension": ".py",
   "mimetype": "text/x-python",
   "name": "python",
   "nbconvert_exporter": "python",
   "pygments_lexer": "ipython3",
   "version": "3.6.4"
  }
 },
 "nbformat": 4,
 "nbformat_minor": 2
}
